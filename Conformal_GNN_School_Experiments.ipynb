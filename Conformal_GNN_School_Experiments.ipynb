{
 "cells": [
  {
   "cell_type": "code",
   "execution_count": 2,
   "id": "6a567e14",
   "metadata": {},
   "outputs": [],
   "source": [
    "import copy\n",
    "from itertools import product\n",
    "import numpy as np\n",
    "import pandas as pd\n",
    "import pickle\n",
    "from scipy.linalg import block_diag\n",
    "from tqdm import tqdm\n",
    "\n",
    "import torch\n",
    "from torch.functional import F\n",
    "\n",
    "import torch_geometric\n",
    "from torch_geometric.data import Data, Dataset\n",
    "from torch_geometric.nn import GATConv, GCNConv"
   ]
  },
  {
   "cell_type": "markdown",
   "id": "07af3c7b",
   "metadata": {},
   "source": [
    "## Experiment parameters"
   ]
  },
  {
   "cell_type": "code",
   "execution_count": 3,
   "id": "e888bd24",
   "metadata": {},
   "outputs": [],
   "source": [
    "# Training/validation/calibration/test dataset split sizes\n",
    "# props = np.array([0.2, 0.1, 0.35, 0.35])\n",
    "props = np.array([0.2, 0.1, 0.2, 0.5])\n",
    "\n",
    "# Target 1-coverage for conformal prediction\n",
    "alpha = 0.1\n",
    "\n",
    "# Number of experiments\n",
    "num_train_trans = 10\n",
    "num_permute_trans = 100\n",
    "num_train_semi_ind = 50\n",
    "\n",
    "# GNN model parameters\n",
    "num_epochs = 200\n",
    "num_channels_GCN = 16\n",
    "num_channels_GAT = 16\n",
    "learning_rate = 0.01\n",
    "weight_decay = 5e-4\n",
    "\n",
    "# Save results\n",
    "results_file = 'results/Conformal_GNN_School_Results_10_100_50.pkl'"
   ]
  },
  {
   "cell_type": "markdown",
   "id": "117653ba",
   "metadata": {},
   "source": [
    "## Load dataset"
   ]
  },
  {
   "cell_type": "code",
   "execution_count": 4,
   "id": "aa6fecd9",
   "metadata": {},
   "outputs": [
    {
     "name": "stdout",
     "output_type": "stream",
     "text": [
      "Number of time windows: 18\n"
     ]
    }
   ],
   "source": [
    "window = 60*60\n",
    "\n",
    "day_1_start = (8*60+30)*60\n",
    "day_1_end = (17*60+30)*60\n",
    "day_2_start = ((24+8)*60+30)*60\n",
    "day_2_end = ((24+17)*60+30)*60\n",
    "\n",
    "T1 = int((day_1_end - day_1_start) // window)\n",
    "T2 = int((day_2_end - day_2_start) // window)\n",
    "T = T1 + T2\n",
    "\n",
    "print(f'Number of time windows: {T}')"
   ]
  },
  {
   "cell_type": "code",
   "execution_count": 5,
   "id": "85204aa8",
   "metadata": {},
   "outputs": [
    {
     "name": "stdout",
     "output_type": "stream",
     "text": [
      "Number of nodes: 242\n"
     ]
    }
   ],
   "source": [
    "fname = 'datasets/ia-primary-school-proximity-attr.edges'\n",
    "file = open(fname)\n",
    "\n",
    "label_dict = {'1A': 0, '1B': 1, '2A': 2, '2B': 3, '3A': 4, '3B': 5, '4A': 6, '4B': 7, '5A': 8, '5B': 9,\n",
    "              'Teachers': 10}\n",
    "num_classes = 10\n",
    "\n",
    "nodes = []\n",
    "node_labels = []\n",
    "edge_tuples = []\n",
    "\n",
    "for line in file:\n",
    "    node_i, node_j, time, id_i, id_j = line.strip('\\n').split(',')\n",
    "    \n",
    "    if day_1_start <= int(time) < day_1_end:\n",
    "        t = (int(time) - day_1_start) // window\n",
    "    elif day_2_start <= int(time) < day_2_end:\n",
    "        t = T1 + (int(time) - day_2_start) // window\n",
    "    else:\n",
    "        continue\n",
    "    \n",
    "    if node_i not in nodes:\n",
    "        nodes.append(node_i)\n",
    "        node_labels.append(label_dict[id_i])\n",
    "    \n",
    "    if node_j not in nodes:\n",
    "        nodes.append(node_j)\n",
    "        node_labels.append(label_dict[id_j])\n",
    "    \n",
    "    edge_tuples.append([t, node_i, node_j])\n",
    "    \n",
    "edge_tuples = np.unique(edge_tuples, axis=0)\n",
    "nodes = np.array(nodes)\n",
    "\n",
    "n = len(nodes)\n",
    "print(f'Number of nodes: {n}')\n",
    "\n",
    "node_dict = dict(zip(nodes[np.argsort(node_labels)], range(n)))\n",
    "node_labels = np.sort(node_labels)"
   ]
  },
  {
   "cell_type": "markdown",
   "id": "c9e9b1e1",
   "metadata": {},
   "source": [
    "Create a list of adjacency matrices."
   ]
  },
  {
   "cell_type": "code",
   "execution_count": 6,
   "id": "e4803303",
   "metadata": {},
   "outputs": [],
   "source": [
    "As = np.zeros((T,n,n))\n",
    "\n",
    "for m in range(len(edge_tuples)):\n",
    "    t, i, j = edge_tuples[m]\n",
    "    As[int(t), node_dict[i], node_dict[j]] = 1\n",
    "    As[int(t), node_dict[j], node_dict[i]] = 1"
   ]
  },
  {
   "cell_type": "code",
   "execution_count": 7,
   "id": "c1e311e3",
   "metadata": {},
   "outputs": [],
   "source": [
    "# (For the dataset plotting script - not required for the experiments to run)\n",
    "\n",
    "from scipy import sparse\n",
    "\n",
    "As_sparse = [sparse.csr_matrix(A) for A in As]\n",
    "for i, A_sparse in enumerate(As_sparse):\n",
    "    sparse.save_npz(f\"datasets/school/school_As_{i}.npz\", A_sparse)\n",
    "\n",
    "np.save(f\"datasets/school/school_node_labels.npy\", node_labels)"
   ]
  },
  {
   "cell_type": "markdown",
   "id": "f3e13af4",
   "metadata": {},
   "source": [
    "## GNN functions"
   ]
  },
  {
   "cell_type": "markdown",
   "id": "cc892ea3",
   "metadata": {},
   "source": [
    "Dynamic network class that puts a list of adjacency matrices along with class labels into a pytorch geometric dataset. This is then used to create the block diagonal and dilated unfolded adjacency matrices for input into the graph neural networks. "
   ]
  },
  {
   "cell_type": "code",
   "execution_count": 8,
   "id": "5d22c634",
   "metadata": {},
   "outputs": [],
   "source": [
    "class Dynamic_Network(Dataset):\n",
    "    \"\"\"\n",
    "    A pytorch geometric dataset for a dynamic network.\n",
    "    \"\"\"\n",
    "\n",
    "    def __init__(self, As, labels):\n",
    "        self.As = As\n",
    "        self.T = As.shape[0]\n",
    "        self.n = As.shape[1]\n",
    "        self.classes = labels\n",
    "\n",
    "    def __len__(self):\n",
    "        return len(self.As)\n",
    "\n",
    "    def __getitem__(self, idx):\n",
    "        x = torch.tensor(np.eye(self.n), dtype=torch.float)\n",
    "        edge_index = torch.tensor(np.array([self.As[idx].nonzero()]), dtype=torch.long).reshape(2, -1)\n",
    "        y = torch.tensor(self.classes, dtype=torch.long)\n",
    "        \n",
    "        # Create a PyTorch Geometric data object\n",
    "        data = torch_geometric.data.Data(x=x, edge_index=edge_index, y=y)\n",
    "        data.num_nodes = self.n\n",
    "\n",
    "        return data"
   ]
  },
  {
   "cell_type": "code",
   "execution_count": 9,
   "id": "b67e9d1e",
   "metadata": {},
   "outputs": [],
   "source": [
    "class Block_Diagonal_Network(Dataset):\n",
    "    \"\"\"\n",
    "    A pytorch geometric dataset for the block diagonal version of a Dynamic Network object.\n",
    "    \"\"\"\n",
    "    \n",
    "    def __init__(self, dataset):\n",
    "        self.A = block_diag(*dataset.As)\n",
    "        self.T = dataset.T\n",
    "        self.n = dataset.n\n",
    "        self.classes = dataset.classes\n",
    "        \n",
    "    def __len__(self):\n",
    "        return 1\n",
    "    \n",
    "    def __getitem__(self, idx):\n",
    "        x = torch.tensor(np.eye(self.n * self.T), dtype=torch.float)\n",
    "        edge_index = torch.tensor(np.array([self.A.nonzero()]), dtype=torch.long).reshape(2, -1)\n",
    "        y = torch.tensor(np.tile(self.classes, self.T), dtype=torch.long)\n",
    "        \n",
    "        # Create a PyTorch Geometric data object\n",
    "        data = torch_geometric.data.Data(x=x, edge_index=edge_index, y=y)\n",
    "        data.num_nodes = self.n * self.T\n",
    "\n",
    "        return data"
   ]
  },
  {
   "cell_type": "code",
   "execution_count": 10,
   "id": "055d2853",
   "metadata": {},
   "outputs": [],
   "source": [
    "class Unfolded_Network(Dataset):\n",
    "    \"\"\"\n",
    "    A pytorch geometric dataset for the dilated unfolding of a Dynamic Network object.\n",
    "    \"\"\"\n",
    "    \n",
    "    def __init__(self, dataset):\n",
    "        self.A_unf = np.block([dataset.As[t] for t in range(dataset.T)])\n",
    "        self.A = np.block([[np.zeros((dataset.n, dataset.n)), self.A_unf],\n",
    "                           [self.A_unf.T, np.zeros((dataset.n * dataset.T, dataset.n * dataset.T))]])\n",
    "        self.T = dataset.T\n",
    "        self.n = dataset.n\n",
    "        self.classes = dataset.classes\n",
    "        \n",
    "    def __len__(self):\n",
    "        return 1\n",
    "    \n",
    "    def __getitem__(self, idx):\n",
    "        x = torch.tensor(np.eye(self.n * (self.T + 1)), dtype=torch.float)\n",
    "        edge_index = torch.tensor(np.array([self.A.nonzero()]), dtype=torch.long).reshape(2, -1)\n",
    "        y = torch.tensor(np.tile(self.classes, (self.T + 1)), dtype=torch.long)\n",
    "        \n",
    "        # Create a PyTorch Geometric data object\n",
    "        data = torch_geometric.data.Data(x=x, edge_index=edge_index, y=y)\n",
    "        data.num_nodes = self.n * (self.T + 1)\n",
    "\n",
    "        return data"
   ]
  },
  {
   "cell_type": "code",
   "execution_count": 11,
   "id": "9d24e2b9",
   "metadata": {},
   "outputs": [],
   "source": [
    "dataset = Dynamic_Network(As, node_labels)\n",
    "dataset_BD = Block_Diagonal_Network(dataset)[0]\n",
    "dataset_UA = Unfolded_Network(dataset)[0]"
   ]
  },
  {
   "cell_type": "markdown",
   "id": "2b2beba0",
   "metadata": {},
   "source": [
    "Define general GCN and GAT neural networks to be applied to both the block diagonal and dilated unfolded networks."
   ]
  },
  {
   "cell_type": "code",
   "execution_count": 12,
   "id": "b44241ba",
   "metadata": {},
   "outputs": [],
   "source": [
    "class GCN(torch.nn.Module):\n",
    "    def __init__(self, num_nodes, num_channels, num_classes, seed):\n",
    "        super().__init__()\n",
    "        torch.manual_seed(seed)\n",
    "        self.conv1 = GCNConv(num_nodes, num_channels)\n",
    "        self.conv2 = GCNConv(num_channels, num_classes)\n",
    "\n",
    "    def forward(self, x, edge_index):\n",
    "        x = self.conv1(x, edge_index)\n",
    "        x = x.relu()\n",
    "        x = F.dropout(x, p=0.5, training=self.training)\n",
    "        x = self.conv2(x, edge_index)\n",
    "        \n",
    "        return x\n",
    "\n",
    "    \n",
    "class GAT(torch.nn.Module):\n",
    "    def __init__(self, num_nodes, num_channels, num_classes, seed):\n",
    "        super().__init__()\n",
    "        torch.manual_seed(seed)\n",
    "        self.conv1 = GATConv(num_nodes, num_channels)\n",
    "        self.conv2 = GATConv(num_channels, num_classes)\n",
    "\n",
    "    def forward(self, x, edge_index):\n",
    "        x = self.conv1(x, edge_index)\n",
    "        x = x.relu()\n",
    "        x = F.dropout(x, p=0.5, training=self.training)\n",
    "        x = self.conv2(x, edge_index)\n",
    "        \n",
    "        return x"
   ]
  },
  {
   "cell_type": "code",
   "execution_count": 13,
   "id": "c18182c1",
   "metadata": {},
   "outputs": [],
   "source": [
    "def train(model, data, train_mask):\n",
    "    model.train()\n",
    "    optimizer.zero_grad()\n",
    "    criterion = torch.nn.CrossEntropyLoss()\n",
    "    \n",
    "    out = model(data.x, data.edge_index)\n",
    "    loss = criterion(out[train_mask], data.y[train_mask])\n",
    "    loss.backward()\n",
    "    optimizer.step()\n",
    "    \n",
    "    return loss\n",
    "\n",
    "\n",
    "def valid(model, data, valid_mask):\n",
    "    model.eval()\n",
    "    \n",
    "    out = model(data.x, data.edge_index)\n",
    "    pred = out.argmax(dim = 1)\n",
    "    correct = pred[valid_mask] == data.y[valid_mask]\n",
    "    acc = int(correct.sum()) / int(valid_mask.sum())\n",
    "    \n",
    "    return acc"
   ]
  },
  {
   "cell_type": "markdown",
   "id": "69f1ae89",
   "metadata": {},
   "source": [
    "## Data split functions"
   ]
  },
  {
   "cell_type": "markdown",
   "id": "e4439dc0",
   "metadata": {},
   "source": [
    "Create a data mask that consists only of useful nodes for training and testing. We only consider nodes in a particular time window if it has degree greater than zero at that time window. Also, we ignore nodes with label `Teacher` meaning that the number of classes is now 10."
   ]
  },
  {
   "cell_type": "code",
   "execution_count": 14,
   "id": "67450d0e",
   "metadata": {},
   "outputs": [
    {
     "name": "stdout",
     "output_type": "stream",
     "text": [
      "Percentage of usable node/time pairs: 82.2%\n"
     ]
    }
   ],
   "source": [
    "data_mask = np.array([[True] * T for _ in range(n)])\n",
    "\n",
    "for t in range(T):\n",
    "    data_mask[np.where(np.sum(As[t], axis=0) == 0)[0], t] = False\n",
    "    data_mask[np.where(node_labels == label_dict['Teachers'])[0], t] = False\n",
    "    \n",
    "num_classes = 10\n",
    "print(f'Percentage of usable node/time pairs: {100 * np.sum(data_mask) / (n * T) :02.1f}%')"
   ]
  },
  {
   "cell_type": "code",
   "execution_count": 15,
   "id": "4cc03c8b",
   "metadata": {},
   "outputs": [],
   "source": [
    "def mask_split(mask, split_props, seed=0, mode='transductive'):\n",
    "    np.random.seed(seed)\n",
    "    \n",
    "    n, T = mask.shape\n",
    "    \n",
    "    if mode == 'transductive':\n",
    "        # Flatten mask array into one dimension in blocks of nodes per time\n",
    "        flat_mask = mask.T.reshape(-1)\n",
    "        n_masks = np.sum(flat_mask)\n",
    "        \n",
    "        # Split shuffled flatten mask array indices into correct proportions\n",
    "        flat_mask_idx = np.where(flat_mask)[0]\n",
    "        np.random.shuffle(flat_mask_idx)\n",
    "        split_ns = np.cumsum([round(n_masks * prop) for prop in split_props[:-1]])\n",
    "        split_idx = np.split(flat_mask_idx, split_ns)\n",
    "        \n",
    "    if mode == 'semi-inductive':\n",
    "        # Find time such that final proportion of masks happen after that time\n",
    "        T_trunc = np.where(np.cumsum(np.sum(mask, axis=0) / np.sum(mask)) >= 1 - split_props[-1])[0][0]\n",
    "        \n",
    "        # Flatten mask arrays into one dimension in blocks of nodes per time\n",
    "        flat_mask_start = mask[:, :T_trunc].T.reshape(-1)\n",
    "        flat_mask_end = mask[:, T_trunc:].T.reshape(-1)\n",
    "        n_masks_start = np.sum(flat_mask_start)\n",
    "        \n",
    "        # Split starting shuffled flatten mask array into correct proportions\n",
    "        flat_mask_start_idx = np.where(flat_mask_start)[0]\n",
    "        np.random.shuffle(flat_mask_start_idx)\n",
    "        split_props_start = split_props[:-1] / np.sum(split_props[:-1])\n",
    "        split_ns = np.cumsum([round(n_masks_start * prop) for prop in split_props_start[:-1]])\n",
    "        split_idx = np.split(flat_mask_start_idx, split_ns)\n",
    "    \n",
    "        # Place finishing flatten mask array at the end\n",
    "        split_idx.append(n * T_trunc + np.where(flat_mask_end)[0])\n",
    "    \n",
    "    split_masks = np.array([[False] * n * T for _ in range(len(split_props))])\n",
    "    for i in range(len(split_props)):\n",
    "        split_masks[i, split_idx[i]] = True\n",
    "        \n",
    "    return split_masks"
   ]
  },
  {
   "cell_type": "code",
   "execution_count": 16,
   "id": "d6007f34",
   "metadata": {},
   "outputs": [],
   "source": [
    "def mask_mix(mask_1, mask_2, seed=0):\n",
    "    np.random.seed(seed)\n",
    "    \n",
    "    n  = len(mask_1) \n",
    "    n1 = np.sum(mask_1)\n",
    "    n2 = np.sum(mask_2)\n",
    "    \n",
    "    mask_idx = np.where(mask_1 + mask_2)[0]\n",
    "    np.random.shuffle(mask_idx)\n",
    "    split_idx = np.split(mask_idx, [n1])\n",
    "    \n",
    "    split_masks = np.array([[False] * n for _ in range(2)])\n",
    "    for i in range(2):\n",
    "        split_masks[i, split_idx[i]] = True\n",
    "        \n",
    "    return split_masks"
   ]
  },
  {
   "cell_type": "markdown",
   "id": "23074246",
   "metadata": {},
   "source": [
    "Testing the training/validation/calibration/test data split functions."
   ]
  },
  {
   "cell_type": "code",
   "execution_count": 17,
   "id": "5b406a80",
   "metadata": {},
   "outputs": [
    {
     "name": "stdout",
     "output_type": "stream",
     "text": [
      "Percentage train: 19.7%\n",
      "Percentage valid: 9.8%\n",
      "Percentage calib: 34.4%\n",
      "Percentage test:  36.1%\n"
     ]
    }
   ],
   "source": [
    "props = np.array([0.2, 0.1, 0.35, 0.35])\n",
    "train_mask, valid_mask, calib_mask, test_mask = mask_split(data_mask, props, mode='semi-inductive')\n",
    "\n",
    "print(f'Percentage train: {100 * np.sum(train_mask) / np.sum(data_mask) :02.1f}%')\n",
    "print(f'Percentage valid: {100 * np.sum(valid_mask) / np.sum(data_mask) :02.1f}%')\n",
    "print(f'Percentage calib: {100 * np.sum(calib_mask) / np.sum(data_mask) :02.1f}%')\n",
    "print(f'Percentage test:  {100 * np.sum(test_mask)  / np.sum(data_mask) :02.1f}%')"
   ]
  },
  {
   "cell_type": "markdown",
   "id": "940f5f9c",
   "metadata": {},
   "source": [
    "## Conformal prediction functions"
   ]
  },
  {
   "cell_type": "code",
   "execution_count": 18,
   "id": "5befd80a",
   "metadata": {},
   "outputs": [],
   "source": [
    "def get_prediction_sets(output, data, calib_mask, test_mask, alpha=0.1):\n",
    "    n_calib = calib_mask.sum()\n",
    "    \n",
    "    # Compute softmax probabilities\n",
    "    smx = torch.nn.Softmax(dim=1)\n",
    "    calib_heuristic = smx(output[calib_mask]).detach().numpy()\n",
    "    test_heuristic = smx(output[test_mask]).detach().numpy()\n",
    "    \n",
    "    # APS\n",
    "    calib_pi = calib_heuristic.argsort(1)[:,::-1]\n",
    "    calib_srt = np.take_along_axis(calib_heuristic, calib_pi, axis=1).cumsum(axis=1)\n",
    "    calib_scores = np.take_along_axis(calib_srt, calib_pi.argsort(axis=1), axis=1)[\n",
    "        range(n_calib), data.y[calib_mask]\n",
    "    ]\n",
    "    \n",
    "    # Get the score quantile\n",
    "    qhat = np.quantile(calib_scores, np.ceil((n_calib + 1) * (1 - alpha)) / n_calib, method='higher')\n",
    "    \n",
    "    test_pi = test_heuristic.argsort(1)[:,::-1]\n",
    "    test_srt = np.take_along_axis(test_heuristic, test_pi, axis=1).cumsum(axis=1)\n",
    "    pred_sets = np.take_along_axis(test_srt <= qhat, test_pi.argsort(axis=1), axis=1)\n",
    "    \n",
    "    return pred_sets"
   ]
  },
  {
   "cell_type": "code",
   "execution_count": 19,
   "id": "0cc8d052",
   "metadata": {},
   "outputs": [],
   "source": [
    "def accuracy(output, data, test_mask):\n",
    "    pred = output.argmax(dim=1)\n",
    "    correct = pred[test_mask] == data.y[test_mask]\n",
    "    acc = int(correct.sum()) / int(test_mask.sum())\n",
    "    \n",
    "    return acc"
   ]
  },
  {
   "cell_type": "code",
   "execution_count": 20,
   "id": "78003393",
   "metadata": {},
   "outputs": [],
   "source": [
    "def avg_set_size(pred_sets, test_mask):\n",
    "    return np.mean(np.sum(pred_sets, axis=1))"
   ]
  },
  {
   "cell_type": "code",
   "execution_count": 21,
   "id": "64159b28",
   "metadata": {},
   "outputs": [],
   "source": [
    "def coverage(pred_sets, data, test_mask):\n",
    "    in_set = np.array([pred_set[label] for pred_set, label in zip(pred_sets, data.y[test_mask])])\n",
    "    \n",
    "    return np.mean(in_set)"
   ]
  },
  {
   "cell_type": "markdown",
   "id": "ab670821",
   "metadata": {},
   "source": [
    "## GNN training"
   ]
  },
  {
   "cell_type": "markdown",
   "id": "9d18d856",
   "metadata": {},
   "source": [
    "Initiate nested results data structure."
   ]
  },
  {
   "cell_type": "code",
   "execution_count": 22,
   "id": "247efd9a",
   "metadata": {},
   "outputs": [],
   "source": [
    "results = {}\n",
    "\n",
    "methods = ['BD', 'UA']\n",
    "GNN_models = ['GCN', 'GAT']\n",
    "regimes = ['Trans', 'Semi-Ind']\n",
    "outputs = ['Accuracy', 'Avg Size', 'Coverage']\n",
    "times = ['All'] + list(range(T))\n",
    "\n",
    "for method in methods:\n",
    "    results[method] = {}\n",
    "    \n",
    "    for GNN_model in GNN_models:\n",
    "        results[method][GNN_model] = {}\n",
    "        \n",
    "        for regime in regimes:\n",
    "            results[method][GNN_model][regime] = {}\n",
    "            \n",
    "            for output in outputs:\n",
    "                results[method][GNN_model][regime][output] = {}\n",
    "                \n",
    "                for time in times:\n",
    "                    results[method][GNN_model][regime][output][time] = []"
   ]
  },
  {
   "cell_type": "markdown",
   "id": "11d10124",
   "metadata": {},
   "source": [
    "### Transductive experiments"
   ]
  },
  {
   "cell_type": "code",
   "execution_count": 23,
   "id": "9b0d6e03",
   "metadata": {
    "scrolled": true
   },
   "outputs": [
    {
     "name": "stdout",
     "output_type": "stream",
     "text": [
      "\n",
      "Training Block Diagonal GCN Number 0\n"
     ]
    },
    {
     "name": "stderr",
     "output_type": "stream",
     "text": [
      "100%|██████████| 200/200 [00:07<00:00, 25.41it/s]\n"
     ]
    },
    {
     "name": "stdout",
     "output_type": "stream",
     "text": [
      "Evaluating Block Diagonal GCN Number 0\n",
      "Validation accuracy: 0.894\n"
     ]
    },
    {
     "name": "stderr",
     "output_type": "stream",
     "text": [
      "100%|██████████| 100/100 [00:03<00:00, 27.81it/s]\n"
     ]
    },
    {
     "name": "stdout",
     "output_type": "stream",
     "text": [
      "Test accuracy: 0.848\n",
      "\n",
      "Training Block Diagonal GCN Number 1\n"
     ]
    },
    {
     "name": "stderr",
     "output_type": "stream",
     "text": [
      "100%|██████████| 200/200 [00:07<00:00, 28.36it/s]\n"
     ]
    },
    {
     "name": "stdout",
     "output_type": "stream",
     "text": [
      "Evaluating Block Diagonal GCN Number 1\n",
      "Validation accuracy: 0.883\n"
     ]
    },
    {
     "name": "stderr",
     "output_type": "stream",
     "text": [
      "100%|██████████| 100/100 [00:03<00:00, 29.03it/s]\n"
     ]
    },
    {
     "name": "stdout",
     "output_type": "stream",
     "text": [
      "Test accuracy: 0.854\n",
      "\n",
      "Training Block Diagonal GCN Number 2\n"
     ]
    },
    {
     "name": "stderr",
     "output_type": "stream",
     "text": [
      "100%|██████████| 200/200 [00:06<00:00, 28.81it/s]\n"
     ]
    },
    {
     "name": "stdout",
     "output_type": "stream",
     "text": [
      "Evaluating Block Diagonal GCN Number 2\n",
      "Validation accuracy: 0.880\n"
     ]
    },
    {
     "name": "stderr",
     "output_type": "stream",
     "text": [
      "100%|██████████| 100/100 [00:03<00:00, 28.72it/s]\n"
     ]
    },
    {
     "name": "stdout",
     "output_type": "stream",
     "text": [
      "Test accuracy: 0.855\n",
      "\n",
      "Training Block Diagonal GCN Number 3\n"
     ]
    },
    {
     "name": "stderr",
     "output_type": "stream",
     "text": [
      "100%|██████████| 200/200 [00:06<00:00, 28.85it/s]\n"
     ]
    },
    {
     "name": "stdout",
     "output_type": "stream",
     "text": [
      "Evaluating Block Diagonal GCN Number 3\n",
      "Validation accuracy: 0.883\n"
     ]
    },
    {
     "name": "stderr",
     "output_type": "stream",
     "text": [
      "100%|██████████| 100/100 [00:03<00:00, 28.65it/s]\n"
     ]
    },
    {
     "name": "stdout",
     "output_type": "stream",
     "text": [
      "Test accuracy: 0.857\n",
      "\n",
      "Training Block Diagonal GCN Number 4\n"
     ]
    },
    {
     "name": "stderr",
     "output_type": "stream",
     "text": [
      "100%|██████████| 200/200 [00:06<00:00, 28.82it/s]\n"
     ]
    },
    {
     "name": "stdout",
     "output_type": "stream",
     "text": [
      "Evaluating Block Diagonal GCN Number 4\n",
      "Validation accuracy: 0.888\n"
     ]
    },
    {
     "name": "stderr",
     "output_type": "stream",
     "text": [
      "100%|██████████| 100/100 [00:03<00:00, 28.80it/s]\n"
     ]
    },
    {
     "name": "stdout",
     "output_type": "stream",
     "text": [
      "Test accuracy: 0.856\n",
      "\n",
      "Training Block Diagonal GCN Number 5\n"
     ]
    },
    {
     "name": "stderr",
     "output_type": "stream",
     "text": [
      "100%|██████████| 200/200 [00:07<00:00, 28.05it/s]\n"
     ]
    },
    {
     "name": "stdout",
     "output_type": "stream",
     "text": [
      "Evaluating Block Diagonal GCN Number 5\n",
      "Validation accuracy: 0.874\n"
     ]
    },
    {
     "name": "stderr",
     "output_type": "stream",
     "text": [
      "100%|██████████| 100/100 [00:03<00:00, 26.03it/s]\n"
     ]
    },
    {
     "name": "stdout",
     "output_type": "stream",
     "text": [
      "Test accuracy: 0.855\n",
      "\n",
      "Training Block Diagonal GCN Number 6\n"
     ]
    },
    {
     "name": "stderr",
     "output_type": "stream",
     "text": [
      "100%|██████████| 200/200 [00:07<00:00, 25.55it/s]\n"
     ]
    },
    {
     "name": "stdout",
     "output_type": "stream",
     "text": [
      "Evaluating Block Diagonal GCN Number 6\n",
      "Validation accuracy: 0.860\n"
     ]
    },
    {
     "name": "stderr",
     "output_type": "stream",
     "text": [
      "100%|██████████| 100/100 [00:03<00:00, 25.66it/s]\n"
     ]
    },
    {
     "name": "stdout",
     "output_type": "stream",
     "text": [
      "Test accuracy: 0.854\n",
      "\n",
      "Training Block Diagonal GCN Number 7\n"
     ]
    },
    {
     "name": "stderr",
     "output_type": "stream",
     "text": [
      "100%|██████████| 200/200 [00:07<00:00, 25.43it/s]\n"
     ]
    },
    {
     "name": "stdout",
     "output_type": "stream",
     "text": [
      "Evaluating Block Diagonal GCN Number 7\n",
      "Validation accuracy: 0.869\n"
     ]
    },
    {
     "name": "stderr",
     "output_type": "stream",
     "text": [
      "100%|██████████| 100/100 [00:03<00:00, 27.74it/s]\n"
     ]
    },
    {
     "name": "stdout",
     "output_type": "stream",
     "text": [
      "Test accuracy: 0.854\n",
      "\n",
      "Training Block Diagonal GCN Number 8\n"
     ]
    },
    {
     "name": "stderr",
     "output_type": "stream",
     "text": [
      "100%|██████████| 200/200 [00:08<00:00, 24.33it/s]\n"
     ]
    },
    {
     "name": "stdout",
     "output_type": "stream",
     "text": [
      "Evaluating Block Diagonal GCN Number 8\n",
      "Validation accuracy: 0.880\n"
     ]
    },
    {
     "name": "stderr",
     "output_type": "stream",
     "text": [
      "100%|██████████| 100/100 [00:03<00:00, 26.75it/s]\n"
     ]
    },
    {
     "name": "stdout",
     "output_type": "stream",
     "text": [
      "Test accuracy: 0.856\n",
      "\n",
      "Training Block Diagonal GCN Number 9\n"
     ]
    },
    {
     "name": "stderr",
     "output_type": "stream",
     "text": [
      "100%|██████████| 200/200 [00:08<00:00, 24.45it/s]\n"
     ]
    },
    {
     "name": "stdout",
     "output_type": "stream",
     "text": [
      "Evaluating Block Diagonal GCN Number 9\n",
      "Validation accuracy: 0.858\n"
     ]
    },
    {
     "name": "stderr",
     "output_type": "stream",
     "text": [
      "100%|██████████| 100/100 [00:03<00:00, 26.18it/s]\n"
     ]
    },
    {
     "name": "stdout",
     "output_type": "stream",
     "text": [
      "Test accuracy: 0.857\n",
      "\n",
      "Training Block Diagonal GAT Number 0\n"
     ]
    },
    {
     "name": "stderr",
     "output_type": "stream",
     "text": [
      "100%|██████████| 200/200 [00:13<00:00, 14.47it/s]\n"
     ]
    },
    {
     "name": "stdout",
     "output_type": "stream",
     "text": [
      "Evaluating Block Diagonal GAT Number 0\n",
      "Validation accuracy: 0.880\n"
     ]
    },
    {
     "name": "stderr",
     "output_type": "stream",
     "text": [
      "100%|██████████| 100/100 [00:03<00:00, 27.07it/s]\n"
     ]
    },
    {
     "name": "stdout",
     "output_type": "stream",
     "text": [
      "Test accuracy: 0.830\n",
      "\n",
      "Training Block Diagonal GAT Number 1\n"
     ]
    },
    {
     "name": "stderr",
     "output_type": "stream",
     "text": [
      "100%|██████████| 200/200 [00:13<00:00, 15.16it/s]\n"
     ]
    },
    {
     "name": "stdout",
     "output_type": "stream",
     "text": [
      "Evaluating Block Diagonal GAT Number 1\n",
      "Validation accuracy: 0.824\n"
     ]
    },
    {
     "name": "stderr",
     "output_type": "stream",
     "text": [
      "100%|██████████| 100/100 [00:03<00:00, 28.09it/s]\n"
     ]
    },
    {
     "name": "stdout",
     "output_type": "stream",
     "text": [
      "Test accuracy: 0.820\n",
      "\n",
      "Training Block Diagonal GAT Number 2\n"
     ]
    },
    {
     "name": "stderr",
     "output_type": "stream",
     "text": [
      "100%|██████████| 200/200 [00:13<00:00, 15.02it/s]\n"
     ]
    },
    {
     "name": "stdout",
     "output_type": "stream",
     "text": [
      "Evaluating Block Diagonal GAT Number 2\n",
      "Validation accuracy: 0.813\n"
     ]
    },
    {
     "name": "stderr",
     "output_type": "stream",
     "text": [
      "100%|██████████| 100/100 [00:03<00:00, 27.78it/s]\n"
     ]
    },
    {
     "name": "stdout",
     "output_type": "stream",
     "text": [
      "Test accuracy: 0.818\n",
      "\n",
      "Training Block Diagonal GAT Number 3\n"
     ]
    },
    {
     "name": "stderr",
     "output_type": "stream",
     "text": [
      "100%|██████████| 200/200 [00:13<00:00, 14.53it/s]\n"
     ]
    },
    {
     "name": "stdout",
     "output_type": "stream",
     "text": [
      "Evaluating Block Diagonal GAT Number 3\n",
      "Validation accuracy: 0.855\n"
     ]
    },
    {
     "name": "stderr",
     "output_type": "stream",
     "text": [
      "100%|██████████| 100/100 [00:03<00:00, 27.18it/s]\n"
     ]
    },
    {
     "name": "stdout",
     "output_type": "stream",
     "text": [
      "Test accuracy: 0.817\n",
      "\n",
      "Training Block Diagonal GAT Number 4\n"
     ]
    },
    {
     "name": "stderr",
     "output_type": "stream",
     "text": [
      "100%|██████████| 200/200 [00:13<00:00, 14.44it/s]\n"
     ]
    },
    {
     "name": "stdout",
     "output_type": "stream",
     "text": [
      "Evaluating Block Diagonal GAT Number 4\n",
      "Validation accuracy: 0.791\n"
     ]
    },
    {
     "name": "stderr",
     "output_type": "stream",
     "text": [
      "100%|██████████| 100/100 [00:03<00:00, 27.83it/s]\n"
     ]
    },
    {
     "name": "stdout",
     "output_type": "stream",
     "text": [
      "Test accuracy: 0.807\n",
      "\n",
      "Training Block Diagonal GAT Number 5\n"
     ]
    },
    {
     "name": "stderr",
     "output_type": "stream",
     "text": [
      "100%|██████████| 200/200 [00:13<00:00, 15.28it/s]\n"
     ]
    },
    {
     "name": "stdout",
     "output_type": "stream",
     "text": [
      "Evaluating Block Diagonal GAT Number 5\n",
      "Validation accuracy: 0.838\n"
     ]
    },
    {
     "name": "stderr",
     "output_type": "stream",
     "text": [
      "100%|██████████| 100/100 [00:03<00:00, 25.78it/s]\n"
     ]
    },
    {
     "name": "stdout",
     "output_type": "stream",
     "text": [
      "Test accuracy: 0.807\n",
      "\n",
      "Training Block Diagonal GAT Number 6\n"
     ]
    },
    {
     "name": "stderr",
     "output_type": "stream",
     "text": [
      "100%|██████████| 200/200 [00:13<00:00, 14.87it/s]\n"
     ]
    },
    {
     "name": "stdout",
     "output_type": "stream",
     "text": [
      "Evaluating Block Diagonal GAT Number 6\n",
      "Validation accuracy: 0.788\n"
     ]
    },
    {
     "name": "stderr",
     "output_type": "stream",
     "text": [
      "100%|██████████| 100/100 [00:03<00:00, 27.58it/s]\n"
     ]
    },
    {
     "name": "stdout",
     "output_type": "stream",
     "text": [
      "Test accuracy: 0.807\n",
      "\n",
      "Training Block Diagonal GAT Number 7\n"
     ]
    },
    {
     "name": "stderr",
     "output_type": "stream",
     "text": [
      "100%|██████████| 200/200 [00:12<00:00, 15.52it/s]\n"
     ]
    },
    {
     "name": "stdout",
     "output_type": "stream",
     "text": [
      "Evaluating Block Diagonal GAT Number 7\n",
      "Validation accuracy: 0.852\n"
     ]
    },
    {
     "name": "stderr",
     "output_type": "stream",
     "text": [
      "100%|██████████| 100/100 [00:03<00:00, 25.89it/s]\n"
     ]
    },
    {
     "name": "stdout",
     "output_type": "stream",
     "text": [
      "Test accuracy: 0.809\n",
      "\n",
      "Training Block Diagonal GAT Number 8\n"
     ]
    },
    {
     "name": "stderr",
     "output_type": "stream",
     "text": [
      "100%|██████████| 200/200 [00:13<00:00, 14.99it/s]\n"
     ]
    },
    {
     "name": "stdout",
     "output_type": "stream",
     "text": [
      "Evaluating Block Diagonal GAT Number 8\n",
      "Validation accuracy: 0.844\n"
     ]
    },
    {
     "name": "stderr",
     "output_type": "stream",
     "text": [
      "100%|██████████| 100/100 [00:03<00:00, 27.76it/s]\n"
     ]
    },
    {
     "name": "stdout",
     "output_type": "stream",
     "text": [
      "Test accuracy: 0.809\n",
      "\n",
      "Training Block Diagonal GAT Number 9\n"
     ]
    },
    {
     "name": "stderr",
     "output_type": "stream",
     "text": [
      "100%|██████████| 200/200 [00:13<00:00, 15.06it/s]\n"
     ]
    },
    {
     "name": "stdout",
     "output_type": "stream",
     "text": [
      "Evaluating Block Diagonal GAT Number 9\n",
      "Validation accuracy: 0.821\n"
     ]
    },
    {
     "name": "stderr",
     "output_type": "stream",
     "text": [
      "100%|██████████| 100/100 [00:03<00:00, 27.23it/s]\n"
     ]
    },
    {
     "name": "stdout",
     "output_type": "stream",
     "text": [
      "Test accuracy: 0.808\n",
      "\n",
      "Training Unfolded GCN Number 0\n"
     ]
    },
    {
     "name": "stderr",
     "output_type": "stream",
     "text": [
      "100%|██████████| 200/200 [00:11<00:00, 17.89it/s]\n"
     ]
    },
    {
     "name": "stdout",
     "output_type": "stream",
     "text": [
      "Evaluating Unfolded GCN Number 0\n",
      "Validation accuracy: 0.941\n"
     ]
    },
    {
     "name": "stderr",
     "output_type": "stream",
     "text": [
      "100%|██████████| 100/100 [00:04<00:00, 24.27it/s]\n"
     ]
    },
    {
     "name": "stdout",
     "output_type": "stream",
     "text": [
      "Test accuracy: 0.912\n",
      "\n",
      "Training Unfolded GCN Number 1\n"
     ]
    },
    {
     "name": "stderr",
     "output_type": "stream",
     "text": [
      "100%|██████████| 200/200 [00:11<00:00, 17.87it/s]\n"
     ]
    },
    {
     "name": "stdout",
     "output_type": "stream",
     "text": [
      "Evaluating Unfolded GCN Number 1\n",
      "Validation accuracy: 0.925\n"
     ]
    },
    {
     "name": "stderr",
     "output_type": "stream",
     "text": [
      "100%|██████████| 100/100 [00:03<00:00, 25.32it/s]\n"
     ]
    },
    {
     "name": "stdout",
     "output_type": "stream",
     "text": [
      "Test accuracy: 0.917\n",
      "\n",
      "Training Unfolded GCN Number 2\n"
     ]
    },
    {
     "name": "stderr",
     "output_type": "stream",
     "text": [
      "100%|██████████| 200/200 [00:11<00:00, 17.88it/s]\n"
     ]
    },
    {
     "name": "stdout",
     "output_type": "stream",
     "text": [
      "Evaluating Unfolded GCN Number 2\n",
      "Validation accuracy: 0.925\n"
     ]
    },
    {
     "name": "stderr",
     "output_type": "stream",
     "text": [
      "100%|██████████| 100/100 [00:03<00:00, 26.00it/s]\n"
     ]
    },
    {
     "name": "stdout",
     "output_type": "stream",
     "text": [
      "Test accuracy: 0.920\n",
      "\n",
      "Training Unfolded GCN Number 3\n"
     ]
    },
    {
     "name": "stderr",
     "output_type": "stream",
     "text": [
      "100%|██████████| 200/200 [00:11<00:00, 17.80it/s]\n"
     ]
    },
    {
     "name": "stdout",
     "output_type": "stream",
     "text": [
      "Evaluating Unfolded GCN Number 3\n",
      "Validation accuracy: 0.922\n"
     ]
    },
    {
     "name": "stderr",
     "output_type": "stream",
     "text": [
      "100%|██████████| 100/100 [00:03<00:00, 27.13it/s]\n"
     ]
    },
    {
     "name": "stdout",
     "output_type": "stream",
     "text": [
      "Test accuracy: 0.923\n",
      "\n",
      "Training Unfolded GCN Number 4\n"
     ]
    },
    {
     "name": "stderr",
     "output_type": "stream",
     "text": [
      "100%|██████████| 200/200 [00:11<00:00, 17.76it/s]\n"
     ]
    },
    {
     "name": "stdout",
     "output_type": "stream",
     "text": [
      "Evaluating Unfolded GCN Number 4\n",
      "Validation accuracy: 0.925\n"
     ]
    },
    {
     "name": "stderr",
     "output_type": "stream",
     "text": [
      "100%|██████████| 100/100 [00:03<00:00, 26.41it/s]\n"
     ]
    },
    {
     "name": "stdout",
     "output_type": "stream",
     "text": [
      "Test accuracy: 0.921\n",
      "\n",
      "Training Unfolded GCN Number 5\n"
     ]
    },
    {
     "name": "stderr",
     "output_type": "stream",
     "text": [
      "100%|██████████| 200/200 [00:11<00:00, 18.04it/s]\n"
     ]
    },
    {
     "name": "stdout",
     "output_type": "stream",
     "text": [
      "Evaluating Unfolded GCN Number 5\n",
      "Validation accuracy: 0.925\n"
     ]
    },
    {
     "name": "stderr",
     "output_type": "stream",
     "text": [
      "100%|██████████| 100/100 [00:03<00:00, 27.15it/s]\n"
     ]
    },
    {
     "name": "stdout",
     "output_type": "stream",
     "text": [
      "Test accuracy: 0.920\n",
      "\n",
      "Training Unfolded GCN Number 6\n"
     ]
    },
    {
     "name": "stderr",
     "output_type": "stream",
     "text": [
      "100%|██████████| 200/200 [00:11<00:00, 18.14it/s]\n"
     ]
    },
    {
     "name": "stdout",
     "output_type": "stream",
     "text": [
      "Evaluating Unfolded GCN Number 6\n",
      "Validation accuracy: 0.933\n"
     ]
    },
    {
     "name": "stderr",
     "output_type": "stream",
     "text": [
      "100%|██████████| 100/100 [00:03<00:00, 26.62it/s]\n"
     ]
    },
    {
     "name": "stdout",
     "output_type": "stream",
     "text": [
      "Test accuracy: 0.922\n",
      "\n",
      "Training Unfolded GCN Number 7\n"
     ]
    },
    {
     "name": "stderr",
     "output_type": "stream",
     "text": [
      "100%|██████████| 200/200 [00:10<00:00, 18.25it/s]\n"
     ]
    },
    {
     "name": "stdout",
     "output_type": "stream",
     "text": [
      "Evaluating Unfolded GCN Number 7\n",
      "Validation accuracy: 0.939\n"
     ]
    },
    {
     "name": "stderr",
     "output_type": "stream",
     "text": [
      "100%|██████████| 100/100 [00:03<00:00, 26.97it/s]\n"
     ]
    },
    {
     "name": "stdout",
     "output_type": "stream",
     "text": [
      "Test accuracy: 0.922\n",
      "\n",
      "Training Unfolded GCN Number 8\n"
     ]
    },
    {
     "name": "stderr",
     "output_type": "stream",
     "text": [
      "100%|██████████| 200/200 [00:11<00:00, 17.59it/s]\n"
     ]
    },
    {
     "name": "stdout",
     "output_type": "stream",
     "text": [
      "Evaluating Unfolded GCN Number 8\n",
      "Validation accuracy: 0.947\n"
     ]
    },
    {
     "name": "stderr",
     "output_type": "stream",
     "text": [
      "100%|██████████| 100/100 [00:03<00:00, 26.59it/s]\n"
     ]
    },
    {
     "name": "stdout",
     "output_type": "stream",
     "text": [
      "Test accuracy: 0.922\n",
      "\n",
      "Training Unfolded GCN Number 9\n"
     ]
    },
    {
     "name": "stderr",
     "output_type": "stream",
     "text": [
      "100%|██████████| 200/200 [00:11<00:00, 18.04it/s]\n"
     ]
    },
    {
     "name": "stdout",
     "output_type": "stream",
     "text": [
      "Evaluating Unfolded GCN Number 9\n",
      "Validation accuracy: 0.944\n"
     ]
    },
    {
     "name": "stderr",
     "output_type": "stream",
     "text": [
      "100%|██████████| 100/100 [00:03<00:00, 26.35it/s]\n"
     ]
    },
    {
     "name": "stdout",
     "output_type": "stream",
     "text": [
      "Test accuracy: 0.924\n",
      "\n",
      "Training Unfolded GAT Number 0\n"
     ]
    },
    {
     "name": "stderr",
     "output_type": "stream",
     "text": [
      "100%|██████████| 200/200 [00:21<00:00,  9.52it/s]\n"
     ]
    },
    {
     "name": "stdout",
     "output_type": "stream",
     "text": [
      "Evaluating Unfolded GAT Number 0\n",
      "Validation accuracy: 0.911\n"
     ]
    },
    {
     "name": "stderr",
     "output_type": "stream",
     "text": [
      "100%|██████████| 100/100 [00:03<00:00, 26.97it/s]\n"
     ]
    },
    {
     "name": "stdout",
     "output_type": "stream",
     "text": [
      "Test accuracy: 0.869\n",
      "\n",
      "Training Unfolded GAT Number 1\n"
     ]
    },
    {
     "name": "stderr",
     "output_type": "stream",
     "text": [
      "100%|██████████| 200/200 [00:21<00:00,  9.38it/s]\n"
     ]
    },
    {
     "name": "stdout",
     "output_type": "stream",
     "text": [
      "Evaluating Unfolded GAT Number 1\n",
      "Validation accuracy: 0.911\n"
     ]
    },
    {
     "name": "stderr",
     "output_type": "stream",
     "text": [
      "100%|██████████| 100/100 [00:03<00:00, 26.28it/s]\n"
     ]
    },
    {
     "name": "stdout",
     "output_type": "stream",
     "text": [
      "Test accuracy: 0.884\n",
      "\n",
      "Training Unfolded GAT Number 2\n"
     ]
    },
    {
     "name": "stderr",
     "output_type": "stream",
     "text": [
      "100%|██████████| 200/200 [00:21<00:00,  9.34it/s]\n"
     ]
    },
    {
     "name": "stdout",
     "output_type": "stream",
     "text": [
      "Evaluating Unfolded GAT Number 2\n",
      "Validation accuracy: 0.919\n"
     ]
    },
    {
     "name": "stderr",
     "output_type": "stream",
     "text": [
      "100%|██████████| 100/100 [00:03<00:00, 26.65it/s]\n"
     ]
    },
    {
     "name": "stdout",
     "output_type": "stream",
     "text": [
      "Test accuracy: 0.894\n",
      "\n",
      "Training Unfolded GAT Number 3\n"
     ]
    },
    {
     "name": "stderr",
     "output_type": "stream",
     "text": [
      "100%|██████████| 200/200 [00:21<00:00,  9.43it/s]\n"
     ]
    },
    {
     "name": "stdout",
     "output_type": "stream",
     "text": [
      "Evaluating Unfolded GAT Number 3\n",
      "Validation accuracy: 0.883\n"
     ]
    },
    {
     "name": "stderr",
     "output_type": "stream",
     "text": [
      "100%|██████████| 100/100 [00:03<00:00, 26.56it/s]\n"
     ]
    },
    {
     "name": "stdout",
     "output_type": "stream",
     "text": [
      "Test accuracy: 0.887\n",
      "\n",
      "Training Unfolded GAT Number 4\n"
     ]
    },
    {
     "name": "stderr",
     "output_type": "stream",
     "text": [
      "100%|██████████| 200/200 [00:21<00:00,  9.41it/s]\n"
     ]
    },
    {
     "name": "stdout",
     "output_type": "stream",
     "text": [
      "Evaluating Unfolded GAT Number 4\n",
      "Validation accuracy: 0.905\n"
     ]
    },
    {
     "name": "stderr",
     "output_type": "stream",
     "text": [
      "100%|██████████| 100/100 [00:03<00:00, 26.93it/s]\n"
     ]
    },
    {
     "name": "stdout",
     "output_type": "stream",
     "text": [
      "Test accuracy: 0.887\n",
      "\n",
      "Training Unfolded GAT Number 5\n"
     ]
    },
    {
     "name": "stderr",
     "output_type": "stream",
     "text": [
      "100%|██████████| 200/200 [00:21<00:00,  9.32it/s]\n"
     ]
    },
    {
     "name": "stdout",
     "output_type": "stream",
     "text": [
      "Evaluating Unfolded GAT Number 5\n",
      "Validation accuracy: 0.908\n"
     ]
    },
    {
     "name": "stderr",
     "output_type": "stream",
     "text": [
      "100%|██████████| 100/100 [00:04<00:00, 24.64it/s]\n"
     ]
    },
    {
     "name": "stdout",
     "output_type": "stream",
     "text": [
      "Test accuracy: 0.888\n",
      "\n",
      "Training Unfolded GAT Number 6\n"
     ]
    },
    {
     "name": "stderr",
     "output_type": "stream",
     "text": [
      "100%|██████████| 200/200 [00:21<00:00,  9.41it/s]\n"
     ]
    },
    {
     "name": "stdout",
     "output_type": "stream",
     "text": [
      "Evaluating Unfolded GAT Number 6\n",
      "Validation accuracy: 0.911\n"
     ]
    },
    {
     "name": "stderr",
     "output_type": "stream",
     "text": [
      "100%|██████████| 100/100 [00:04<00:00, 24.63it/s]\n"
     ]
    },
    {
     "name": "stdout",
     "output_type": "stream",
     "text": [
      "Test accuracy: 0.891\n",
      "\n",
      "Training Unfolded GAT Number 7\n"
     ]
    },
    {
     "name": "stderr",
     "output_type": "stream",
     "text": [
      "100%|██████████| 200/200 [00:21<00:00,  9.30it/s]\n"
     ]
    },
    {
     "name": "stdout",
     "output_type": "stream",
     "text": [
      "Evaluating Unfolded GAT Number 7\n",
      "Validation accuracy: 0.927\n"
     ]
    },
    {
     "name": "stderr",
     "output_type": "stream",
     "text": [
      "100%|██████████| 100/100 [00:03<00:00, 26.33it/s]\n"
     ]
    },
    {
     "name": "stdout",
     "output_type": "stream",
     "text": [
      "Test accuracy: 0.893\n",
      "\n",
      "Training Unfolded GAT Number 8\n"
     ]
    },
    {
     "name": "stderr",
     "output_type": "stream",
     "text": [
      "100%|██████████| 200/200 [00:21<00:00,  9.45it/s]\n"
     ]
    },
    {
     "name": "stdout",
     "output_type": "stream",
     "text": [
      "Evaluating Unfolded GAT Number 8\n",
      "Validation accuracy: 0.933\n"
     ]
    },
    {
     "name": "stderr",
     "output_type": "stream",
     "text": [
      "100%|██████████| 100/100 [00:03<00:00, 26.32it/s]\n"
     ]
    },
    {
     "name": "stdout",
     "output_type": "stream",
     "text": [
      "Test accuracy: 0.896\n",
      "\n",
      "Training Unfolded GAT Number 9\n"
     ]
    },
    {
     "name": "stderr",
     "output_type": "stream",
     "text": [
      "100%|██████████| 200/200 [00:21<00:00,  9.49it/s]\n"
     ]
    },
    {
     "name": "stdout",
     "output_type": "stream",
     "text": [
      "Evaluating Unfolded GAT Number 9\n",
      "Validation accuracy: 0.899\n"
     ]
    },
    {
     "name": "stderr",
     "output_type": "stream",
     "text": [
      "100%|██████████| 100/100 [00:03<00:00, 25.73it/s]"
     ]
    },
    {
     "name": "stdout",
     "output_type": "stream",
     "text": [
      "Test accuracy: 0.896\n",
      "CPU times: user 1h 1min 35s, sys: 3.43 s, total: 1h 1min 39s\n",
      "Wall time: 11min 23s\n"
     ]
    },
    {
     "name": "stderr",
     "output_type": "stream",
     "text": [
      "\n"
     ]
    }
   ],
   "source": [
    "%%time\n",
    "\n",
    "for (method, GNN_model) in product(methods, GNN_models):\n",
    "        \n",
    "    for i in range(num_train_trans):\n",
    "        # Split data into training/validation/calibration/test\n",
    "        train_mask, valid_mask, calib_mask, test_mask = mask_split(data_mask, props, seed=i, mode='transductive')\n",
    "        \n",
    "        if method == 'BD':\n",
    "            method_str = 'Block Diagonal'\n",
    "            data = dataset_BD\n",
    "        if method == 'UA':\n",
    "            method_str = 'Unfolded'\n",
    "            data = dataset_UA\n",
    "            # Pad masks to include anchor nodes\n",
    "            train_mask = np.concatenate((np.array([False] * n), train_mask))\n",
    "            valid_mask = np.concatenate((np.array([False] * n), valid_mask))\n",
    "            calib_mask = np.concatenate((np.array([False] * n), calib_mask))\n",
    "            test_mask  = np.concatenate((np.array([False] * n), test_mask))\n",
    "        \n",
    "        if GNN_model == 'GCN':\n",
    "            model = GCN(data.num_nodes, num_channels_GCN, num_classes, seed=i)\n",
    "        if GNN_model == 'GAT':\n",
    "            model = GAT(data.num_nodes, num_channels_GAT, num_classes, seed=i)\n",
    "            \n",
    "        optimizer = torch.optim.Adam(model.parameters(), lr=learning_rate, weight_decay=weight_decay)\n",
    "\n",
    "        print(f'\\nTraining {method_str} {GNN_model} Number {i}')\n",
    "        max_valid_acc = 0\n",
    "    \n",
    "        for epoch in tqdm(range(num_epochs)):\n",
    "            train_loss = train(model, data, train_mask)\n",
    "            valid_acc  = valid(model, data, valid_mask)\n",
    "\n",
    "            if valid_acc > max_valid_acc:\n",
    "                max_valid_acc = valid_acc\n",
    "                best_model = copy.deepcopy(model)\n",
    "    \n",
    "        print(f'Evaluating {method_str} {GNN_model} Number {i}')\n",
    "        print(f'Validation accuracy: {max_valid_acc:0.3f}')\n",
    "        output = best_model(data.x, data.edge_index)\n",
    "        \n",
    "        for j in tqdm(range(num_permute_trans)):\n",
    "            # Permute the calibration and test datasets\n",
    "            calib_mask, test_mask = mask_mix(calib_mask, test_mask, seed=j)\n",
    "        \n",
    "            pred_sets = get_prediction_sets(output, data, calib_mask, test_mask, alpha)\n",
    "        \n",
    "            results[method][GNN_model]['Trans']['Accuracy']['All'].append(accuracy(output, data, test_mask))\n",
    "            results[method][GNN_model]['Trans']['Avg Size']['All'].append(avg_set_size(pred_sets, test_mask))\n",
    "            results[method][GNN_model]['Trans']['Coverage']['All'].append(coverage(pred_sets, data, test_mask))\n",
    "        \n",
    "            for t in range(T):\n",
    "                # Consider test nodes only at time t\n",
    "                if method == 'BD':\n",
    "                    time_mask = np.array([[False] * n for _ in range(T)])\n",
    "                    time_mask[t] = True; time_mask = time_mask.reshape(-1)\n",
    "                if method == 'UA':\n",
    "                    time_mask = np.array([[False] * n for _ in range(T+1)])\n",
    "                    time_mask[t+1] = True; time_mask = time_mask.reshape(-1)\n",
    "            \n",
    "                test_mask_t = time_mask * test_mask\n",
    "                if np.sum(test_mask_t) == 0:\n",
    "                    continue\n",
    "            \n",
    "                # Get prediction sets corresponding to time t\n",
    "                pred_sets_t = pred_sets[np.array([np.where(np.where(test_mask)[0] == np.where(test_mask_t)[0][i])[0][0]\n",
    "                                                  for i in range(sum(test_mask_t))])]\n",
    "            \n",
    "                results[method][GNN_model]['Trans']['Accuracy'][t].append(accuracy(output, data, test_mask_t))\n",
    "                results[method][GNN_model]['Trans']['Avg Size'][t].append(avg_set_size(pred_sets_t, test_mask_t))\n",
    "                results[method][GNN_model]['Trans']['Coverage'][t].append(coverage(pred_sets_t, data, test_mask_t))\n",
    "                \n",
    "        avg_test_acc = np.mean(results[method][GNN_model]['Trans']['Accuracy']['All'])\n",
    "        print(f'Test accuracy: {avg_test_acc:0.3f}')"
   ]
  },
  {
   "cell_type": "markdown",
   "id": "83241607",
   "metadata": {},
   "source": [
    "### Semi-inductive experiments"
   ]
  },
  {
   "cell_type": "code",
   "execution_count": 24,
   "id": "a377be9b",
   "metadata": {
    "scrolled": true
   },
   "outputs": [
    {
     "name": "stdout",
     "output_type": "stream",
     "text": [
      "\n",
      "Training Block Diagonal GCN Number 0\n"
     ]
    },
    {
     "name": "stderr",
     "output_type": "stream",
     "text": [
      "100%|██████████| 200/200 [00:07<00:00, 26.92it/s]\n"
     ]
    },
    {
     "name": "stdout",
     "output_type": "stream",
     "text": [
      "Evaluating Block Diagonal GCN Number 0\n",
      "Validation accuracy: 0.892\n",
      "Test accuracy: 0.111\n",
      "\n",
      "Training Block Diagonal GCN Number 1\n"
     ]
    },
    {
     "name": "stderr",
     "output_type": "stream",
     "text": [
      "100%|██████████| 200/200 [00:07<00:00, 26.40it/s]\n"
     ]
    },
    {
     "name": "stdout",
     "output_type": "stream",
     "text": [
      "Evaluating Block Diagonal GCN Number 1\n",
      "Validation accuracy: 0.915\n",
      "Test accuracy: 0.119\n",
      "\n",
      "Training Block Diagonal GCN Number 2\n"
     ]
    },
    {
     "name": "stderr",
     "output_type": "stream",
     "text": [
      "100%|██████████| 200/200 [00:07<00:00, 25.79it/s]\n"
     ]
    },
    {
     "name": "stdout",
     "output_type": "stream",
     "text": [
      "Evaluating Block Diagonal GCN Number 2\n",
      "Validation accuracy: 0.915\n",
      "Test accuracy: 0.115\n",
      "\n",
      "Training Block Diagonal GCN Number 3\n"
     ]
    },
    {
     "name": "stderr",
     "output_type": "stream",
     "text": [
      "100%|██████████| 200/200 [00:07<00:00, 26.96it/s]\n"
     ]
    },
    {
     "name": "stdout",
     "output_type": "stream",
     "text": [
      "Evaluating Block Diagonal GCN Number 3\n",
      "Validation accuracy: 0.906\n",
      "Test accuracy: 0.119\n",
      "\n",
      "Training Block Diagonal GCN Number 4\n"
     ]
    },
    {
     "name": "stderr",
     "output_type": "stream",
     "text": [
      "100%|██████████| 200/200 [00:07<00:00, 26.94it/s]\n"
     ]
    },
    {
     "name": "stdout",
     "output_type": "stream",
     "text": [
      "Evaluating Block Diagonal GCN Number 4\n",
      "Validation accuracy: 0.915\n",
      "Test accuracy: 0.118\n",
      "\n",
      "Training Block Diagonal GCN Number 5\n"
     ]
    },
    {
     "name": "stderr",
     "output_type": "stream",
     "text": [
      "100%|██████████| 200/200 [00:07<00:00, 27.04it/s]\n"
     ]
    },
    {
     "name": "stdout",
     "output_type": "stream",
     "text": [
      "Evaluating Block Diagonal GCN Number 5\n",
      "Validation accuracy: 0.915\n",
      "Test accuracy: 0.116\n",
      "\n",
      "Training Block Diagonal GCN Number 6\n"
     ]
    },
    {
     "name": "stderr",
     "output_type": "stream",
     "text": [
      "100%|██████████| 200/200 [00:07<00:00, 27.28it/s]\n"
     ]
    },
    {
     "name": "stdout",
     "output_type": "stream",
     "text": [
      "Evaluating Block Diagonal GCN Number 6\n",
      "Validation accuracy: 0.918\n",
      "Test accuracy: 0.115\n",
      "\n",
      "Training Block Diagonal GCN Number 7\n"
     ]
    },
    {
     "name": "stderr",
     "output_type": "stream",
     "text": [
      "100%|██████████| 200/200 [00:07<00:00, 26.26it/s]\n"
     ]
    },
    {
     "name": "stdout",
     "output_type": "stream",
     "text": [
      "Evaluating Block Diagonal GCN Number 7\n",
      "Validation accuracy: 0.938\n",
      "Test accuracy: 0.112\n",
      "\n",
      "Training Block Diagonal GCN Number 8\n"
     ]
    },
    {
     "name": "stderr",
     "output_type": "stream",
     "text": [
      "100%|██████████| 200/200 [00:07<00:00, 27.07it/s]\n"
     ]
    },
    {
     "name": "stdout",
     "output_type": "stream",
     "text": [
      "Evaluating Block Diagonal GCN Number 8\n",
      "Validation accuracy: 0.938\n",
      "Test accuracy: 0.109\n",
      "\n",
      "Training Block Diagonal GCN Number 9\n"
     ]
    },
    {
     "name": "stderr",
     "output_type": "stream",
     "text": [
      "100%|██████████| 200/200 [00:07<00:00, 25.99it/s]\n"
     ]
    },
    {
     "name": "stdout",
     "output_type": "stream",
     "text": [
      "Evaluating Block Diagonal GCN Number 9\n",
      "Validation accuracy: 0.909\n",
      "Test accuracy: 0.111\n",
      "\n",
      "Training Block Diagonal GCN Number 10\n"
     ]
    },
    {
     "name": "stderr",
     "output_type": "stream",
     "text": [
      "100%|██████████| 200/200 [00:07<00:00, 25.85it/s]\n"
     ]
    },
    {
     "name": "stdout",
     "output_type": "stream",
     "text": [
      "Evaluating Block Diagonal GCN Number 10\n",
      "Validation accuracy: 0.901\n",
      "Test accuracy: 0.111\n",
      "\n",
      "Training Block Diagonal GCN Number 11\n"
     ]
    },
    {
     "name": "stderr",
     "output_type": "stream",
     "text": [
      "100%|██████████| 200/200 [00:07<00:00, 26.86it/s]\n"
     ]
    },
    {
     "name": "stdout",
     "output_type": "stream",
     "text": [
      "Evaluating Block Diagonal GCN Number 11\n",
      "Validation accuracy: 0.920\n",
      "Test accuracy: 0.113\n",
      "\n",
      "Training Block Diagonal GCN Number 12\n"
     ]
    },
    {
     "name": "stderr",
     "output_type": "stream",
     "text": [
      "100%|██████████| 200/200 [00:07<00:00, 26.27it/s]\n"
     ]
    },
    {
     "name": "stdout",
     "output_type": "stream",
     "text": [
      "Evaluating Block Diagonal GCN Number 12\n",
      "Validation accuracy: 0.915\n",
      "Test accuracy: 0.113\n",
      "\n",
      "Training Block Diagonal GCN Number 13\n"
     ]
    },
    {
     "name": "stderr",
     "output_type": "stream",
     "text": [
      "100%|██████████| 200/200 [00:07<00:00, 26.41it/s]\n"
     ]
    },
    {
     "name": "stdout",
     "output_type": "stream",
     "text": [
      "Evaluating Block Diagonal GCN Number 13\n",
      "Validation accuracy: 0.903\n",
      "Test accuracy: 0.114\n",
      "\n",
      "Training Block Diagonal GCN Number 14\n"
     ]
    },
    {
     "name": "stderr",
     "output_type": "stream",
     "text": [
      "100%|██████████| 200/200 [00:07<00:00, 26.54it/s]\n"
     ]
    },
    {
     "name": "stdout",
     "output_type": "stream",
     "text": [
      "Evaluating Block Diagonal GCN Number 14\n",
      "Validation accuracy: 0.901\n",
      "Test accuracy: 0.113\n",
      "\n",
      "Training Block Diagonal GCN Number 15\n"
     ]
    },
    {
     "name": "stderr",
     "output_type": "stream",
     "text": [
      "100%|██████████| 200/200 [00:07<00:00, 25.76it/s]\n"
     ]
    },
    {
     "name": "stdout",
     "output_type": "stream",
     "text": [
      "Evaluating Block Diagonal GCN Number 15\n",
      "Validation accuracy: 0.909\n",
      "Test accuracy: 0.115\n",
      "\n",
      "Training Block Diagonal GCN Number 16\n"
     ]
    },
    {
     "name": "stderr",
     "output_type": "stream",
     "text": [
      "100%|██████████| 200/200 [00:07<00:00, 25.60it/s]\n"
     ]
    },
    {
     "name": "stdout",
     "output_type": "stream",
     "text": [
      "Evaluating Block Diagonal GCN Number 16\n",
      "Validation accuracy: 0.855\n",
      "Test accuracy: 0.115\n",
      "\n",
      "Training Block Diagonal GCN Number 17\n"
     ]
    },
    {
     "name": "stderr",
     "output_type": "stream",
     "text": [
      "100%|██████████| 200/200 [00:07<00:00, 26.55it/s]\n"
     ]
    },
    {
     "name": "stdout",
     "output_type": "stream",
     "text": [
      "Evaluating Block Diagonal GCN Number 17\n",
      "Validation accuracy: 0.906\n",
      "Test accuracy: 0.115\n",
      "\n",
      "Training Block Diagonal GCN Number 18\n"
     ]
    },
    {
     "name": "stderr",
     "output_type": "stream",
     "text": [
      "100%|██████████| 200/200 [00:07<00:00, 25.83it/s]\n"
     ]
    },
    {
     "name": "stdout",
     "output_type": "stream",
     "text": [
      "Evaluating Block Diagonal GCN Number 18\n",
      "Validation accuracy: 0.898\n",
      "Test accuracy: 0.115\n",
      "\n",
      "Training Block Diagonal GCN Number 19\n"
     ]
    },
    {
     "name": "stderr",
     "output_type": "stream",
     "text": [
      "100%|██████████| 200/200 [00:07<00:00, 26.07it/s]\n"
     ]
    },
    {
     "name": "stdout",
     "output_type": "stream",
     "text": [
      "Evaluating Block Diagonal GCN Number 19\n",
      "Validation accuracy: 0.903\n",
      "Test accuracy: 0.115\n",
      "\n",
      "Training Block Diagonal GCN Number 20\n"
     ]
    },
    {
     "name": "stderr",
     "output_type": "stream",
     "text": [
      "100%|██████████| 200/200 [00:07<00:00, 27.31it/s]\n"
     ]
    },
    {
     "name": "stdout",
     "output_type": "stream",
     "text": [
      "Evaluating Block Diagonal GCN Number 20\n",
      "Validation accuracy: 0.884\n",
      "Test accuracy: 0.116\n",
      "\n",
      "Training Block Diagonal GCN Number 21\n"
     ]
    },
    {
     "name": "stderr",
     "output_type": "stream",
     "text": [
      "100%|██████████| 200/200 [00:07<00:00, 26.68it/s]\n"
     ]
    },
    {
     "name": "stdout",
     "output_type": "stream",
     "text": [
      "Evaluating Block Diagonal GCN Number 21\n",
      "Validation accuracy: 0.901\n",
      "Test accuracy: 0.116\n",
      "\n",
      "Training Block Diagonal GCN Number 22\n"
     ]
    },
    {
     "name": "stderr",
     "output_type": "stream",
     "text": [
      "100%|██████████| 200/200 [00:07<00:00, 26.83it/s]\n"
     ]
    },
    {
     "name": "stdout",
     "output_type": "stream",
     "text": [
      "Evaluating Block Diagonal GCN Number 22\n",
      "Validation accuracy: 0.898\n",
      "Test accuracy: 0.116\n",
      "\n",
      "Training Block Diagonal GCN Number 23\n"
     ]
    },
    {
     "name": "stderr",
     "output_type": "stream",
     "text": [
      "100%|██████████| 200/200 [00:07<00:00, 26.19it/s]\n"
     ]
    },
    {
     "name": "stdout",
     "output_type": "stream",
     "text": [
      "Evaluating Block Diagonal GCN Number 23\n",
      "Validation accuracy: 0.901\n",
      "Test accuracy: 0.117\n",
      "\n",
      "Training Block Diagonal GCN Number 24\n"
     ]
    },
    {
     "name": "stderr",
     "output_type": "stream",
     "text": [
      "100%|██████████| 200/200 [00:07<00:00, 25.67it/s]\n"
     ]
    },
    {
     "name": "stdout",
     "output_type": "stream",
     "text": [
      "Evaluating Block Diagonal GCN Number 24\n",
      "Validation accuracy: 0.915\n",
      "Test accuracy: 0.116\n",
      "\n",
      "Training Block Diagonal GCN Number 25\n"
     ]
    },
    {
     "name": "stderr",
     "output_type": "stream",
     "text": [
      "100%|██████████| 200/200 [00:07<00:00, 26.91it/s]\n"
     ]
    },
    {
     "name": "stdout",
     "output_type": "stream",
     "text": [
      "Evaluating Block Diagonal GCN Number 25\n",
      "Validation accuracy: 0.872\n",
      "Test accuracy: 0.116\n",
      "\n",
      "Training Block Diagonal GCN Number 26\n"
     ]
    },
    {
     "name": "stderr",
     "output_type": "stream",
     "text": [
      "100%|██████████| 200/200 [00:07<00:00, 26.64it/s]\n"
     ]
    },
    {
     "name": "stdout",
     "output_type": "stream",
     "text": [
      "Evaluating Block Diagonal GCN Number 26\n",
      "Validation accuracy: 0.909\n",
      "Test accuracy: 0.116\n",
      "\n",
      "Training Block Diagonal GCN Number 27\n"
     ]
    },
    {
     "name": "stderr",
     "output_type": "stream",
     "text": [
      "100%|██████████| 200/200 [00:07<00:00, 26.04it/s]\n"
     ]
    },
    {
     "name": "stdout",
     "output_type": "stream",
     "text": [
      "Evaluating Block Diagonal GCN Number 27\n",
      "Validation accuracy: 0.901\n",
      "Test accuracy: 0.116\n",
      "\n",
      "Training Block Diagonal GCN Number 28\n"
     ]
    },
    {
     "name": "stderr",
     "output_type": "stream",
     "text": [
      "100%|██████████| 200/200 [00:07<00:00, 26.54it/s]\n"
     ]
    },
    {
     "name": "stdout",
     "output_type": "stream",
     "text": [
      "Evaluating Block Diagonal GCN Number 28\n",
      "Validation accuracy: 0.889\n",
      "Test accuracy: 0.117\n",
      "\n",
      "Training Block Diagonal GCN Number 29\n"
     ]
    },
    {
     "name": "stderr",
     "output_type": "stream",
     "text": [
      "100%|██████████| 200/200 [00:07<00:00, 26.59it/s]\n"
     ]
    },
    {
     "name": "stdout",
     "output_type": "stream",
     "text": [
      "Evaluating Block Diagonal GCN Number 29\n",
      "Validation accuracy: 0.920\n",
      "Test accuracy: 0.117\n",
      "\n",
      "Training Block Diagonal GCN Number 30\n"
     ]
    },
    {
     "name": "stderr",
     "output_type": "stream",
     "text": [
      "100%|██████████| 200/200 [00:07<00:00, 25.75it/s]\n"
     ]
    },
    {
     "name": "stdout",
     "output_type": "stream",
     "text": [
      "Evaluating Block Diagonal GCN Number 30\n",
      "Validation accuracy: 0.923\n",
      "Test accuracy: 0.117\n",
      "\n",
      "Training Block Diagonal GCN Number 31\n"
     ]
    },
    {
     "name": "stderr",
     "output_type": "stream",
     "text": [
      "100%|██████████| 200/200 [00:07<00:00, 26.11it/s]\n"
     ]
    },
    {
     "name": "stdout",
     "output_type": "stream",
     "text": [
      "Evaluating Block Diagonal GCN Number 31\n",
      "Validation accuracy: 0.886\n",
      "Test accuracy: 0.117\n",
      "\n",
      "Training Block Diagonal GCN Number 32\n"
     ]
    },
    {
     "name": "stderr",
     "output_type": "stream",
     "text": [
      "100%|██████████| 200/200 [00:07<00:00, 26.79it/s]\n"
     ]
    },
    {
     "name": "stdout",
     "output_type": "stream",
     "text": [
      "Evaluating Block Diagonal GCN Number 32\n",
      "Validation accuracy: 0.935\n",
      "Test accuracy: 0.117\n",
      "\n",
      "Training Block Diagonal GCN Number 33\n"
     ]
    },
    {
     "name": "stderr",
     "output_type": "stream",
     "text": [
      "100%|██████████| 200/200 [00:07<00:00, 26.77it/s]\n"
     ]
    },
    {
     "name": "stdout",
     "output_type": "stream",
     "text": [
      "Evaluating Block Diagonal GCN Number 33\n",
      "Validation accuracy: 0.895\n",
      "Test accuracy: 0.117\n",
      "\n",
      "Training Block Diagonal GCN Number 34\n"
     ]
    },
    {
     "name": "stderr",
     "output_type": "stream",
     "text": [
      "100%|██████████| 200/200 [00:07<00:00, 26.76it/s]\n"
     ]
    },
    {
     "name": "stdout",
     "output_type": "stream",
     "text": [
      "Evaluating Block Diagonal GCN Number 34\n",
      "Validation accuracy: 0.909\n",
      "Test accuracy: 0.117\n",
      "\n",
      "Training Block Diagonal GCN Number 35\n"
     ]
    },
    {
     "name": "stderr",
     "output_type": "stream",
     "text": [
      "100%|██████████| 200/200 [00:07<00:00, 25.58it/s]\n"
     ]
    },
    {
     "name": "stdout",
     "output_type": "stream",
     "text": [
      "Evaluating Block Diagonal GCN Number 35\n",
      "Validation accuracy: 0.889\n",
      "Test accuracy: 0.117\n",
      "\n",
      "Training Block Diagonal GCN Number 36\n"
     ]
    },
    {
     "name": "stderr",
     "output_type": "stream",
     "text": [
      "100%|██████████| 200/200 [00:07<00:00, 26.43it/s]\n"
     ]
    },
    {
     "name": "stdout",
     "output_type": "stream",
     "text": [
      "Evaluating Block Diagonal GCN Number 36\n",
      "Validation accuracy: 0.918\n",
      "Test accuracy: 0.117\n",
      "\n",
      "Training Block Diagonal GCN Number 37\n"
     ]
    },
    {
     "name": "stderr",
     "output_type": "stream",
     "text": [
      "100%|██████████| 200/200 [00:07<00:00, 25.72it/s]\n"
     ]
    },
    {
     "name": "stdout",
     "output_type": "stream",
     "text": [
      "Evaluating Block Diagonal GCN Number 37\n",
      "Validation accuracy: 0.912\n",
      "Test accuracy: 0.117\n",
      "\n",
      "Training Block Diagonal GCN Number 38\n"
     ]
    },
    {
     "name": "stderr",
     "output_type": "stream",
     "text": [
      "100%|██████████| 200/200 [00:07<00:00, 25.86it/s]\n"
     ]
    },
    {
     "name": "stdout",
     "output_type": "stream",
     "text": [
      "Evaluating Block Diagonal GCN Number 38\n",
      "Validation accuracy: 0.892\n",
      "Test accuracy: 0.116\n",
      "\n",
      "Training Block Diagonal GCN Number 39\n"
     ]
    },
    {
     "name": "stderr",
     "output_type": "stream",
     "text": [
      "100%|██████████| 200/200 [00:07<00:00, 26.36it/s]\n"
     ]
    },
    {
     "name": "stdout",
     "output_type": "stream",
     "text": [
      "Evaluating Block Diagonal GCN Number 39\n",
      "Validation accuracy: 0.886\n",
      "Test accuracy: 0.116\n",
      "\n",
      "Training Block Diagonal GCN Number 40\n"
     ]
    },
    {
     "name": "stderr",
     "output_type": "stream",
     "text": [
      "100%|██████████| 200/200 [00:07<00:00, 26.71it/s]\n"
     ]
    },
    {
     "name": "stdout",
     "output_type": "stream",
     "text": [
      "Evaluating Block Diagonal GCN Number 40\n",
      "Validation accuracy: 0.895\n",
      "Test accuracy: 0.115\n",
      "\n",
      "Training Block Diagonal GCN Number 41\n"
     ]
    },
    {
     "name": "stderr",
     "output_type": "stream",
     "text": [
      "100%|██████████| 200/200 [00:07<00:00, 25.91it/s]\n"
     ]
    },
    {
     "name": "stdout",
     "output_type": "stream",
     "text": [
      "Evaluating Block Diagonal GCN Number 41\n",
      "Validation accuracy: 0.920\n",
      "Test accuracy: 0.115\n",
      "\n",
      "Training Block Diagonal GCN Number 42\n"
     ]
    },
    {
     "name": "stderr",
     "output_type": "stream",
     "text": [
      "100%|██████████| 200/200 [00:07<00:00, 26.92it/s]\n"
     ]
    },
    {
     "name": "stdout",
     "output_type": "stream",
     "text": [
      "Evaluating Block Diagonal GCN Number 42\n",
      "Validation accuracy: 0.898\n",
      "Test accuracy: 0.115\n",
      "\n",
      "Training Block Diagonal GCN Number 43\n"
     ]
    },
    {
     "name": "stderr",
     "output_type": "stream",
     "text": [
      "100%|██████████| 200/200 [00:07<00:00, 27.08it/s]\n"
     ]
    },
    {
     "name": "stdout",
     "output_type": "stream",
     "text": [
      "Evaluating Block Diagonal GCN Number 43\n",
      "Validation accuracy: 0.903\n",
      "Test accuracy: 0.115\n",
      "\n",
      "Training Block Diagonal GCN Number 44\n"
     ]
    },
    {
     "name": "stderr",
     "output_type": "stream",
     "text": [
      "100%|██████████| 200/200 [00:07<00:00, 26.38it/s]\n"
     ]
    },
    {
     "name": "stdout",
     "output_type": "stream",
     "text": [
      "Evaluating Block Diagonal GCN Number 44\n",
      "Validation accuracy: 0.864\n",
      "Test accuracy: 0.115\n",
      "\n",
      "Training Block Diagonal GCN Number 45\n"
     ]
    },
    {
     "name": "stderr",
     "output_type": "stream",
     "text": [
      "100%|██████████| 200/200 [00:07<00:00, 25.60it/s]\n"
     ]
    },
    {
     "name": "stdout",
     "output_type": "stream",
     "text": [
      "Evaluating Block Diagonal GCN Number 45\n",
      "Validation accuracy: 0.878\n",
      "Test accuracy: 0.115\n",
      "\n",
      "Training Block Diagonal GCN Number 46\n"
     ]
    },
    {
     "name": "stderr",
     "output_type": "stream",
     "text": [
      "100%|██████████| 200/200 [00:07<00:00, 25.88it/s]\n"
     ]
    },
    {
     "name": "stdout",
     "output_type": "stream",
     "text": [
      "Evaluating Block Diagonal GCN Number 46\n",
      "Validation accuracy: 0.895\n",
      "Test accuracy: 0.115\n",
      "\n",
      "Training Block Diagonal GCN Number 47\n"
     ]
    },
    {
     "name": "stderr",
     "output_type": "stream",
     "text": [
      "100%|██████████| 200/200 [00:07<00:00, 26.08it/s]\n"
     ]
    },
    {
     "name": "stdout",
     "output_type": "stream",
     "text": [
      "Evaluating Block Diagonal GCN Number 47\n",
      "Validation accuracy: 0.938\n",
      "Test accuracy: 0.115\n",
      "\n",
      "Training Block Diagonal GCN Number 48\n"
     ]
    },
    {
     "name": "stderr",
     "output_type": "stream",
     "text": [
      "100%|██████████| 200/200 [00:07<00:00, 25.96it/s]\n"
     ]
    },
    {
     "name": "stdout",
     "output_type": "stream",
     "text": [
      "Evaluating Block Diagonal GCN Number 48\n",
      "Validation accuracy: 0.918\n",
      "Test accuracy: 0.115\n",
      "\n",
      "Training Block Diagonal GCN Number 49\n"
     ]
    },
    {
     "name": "stderr",
     "output_type": "stream",
     "text": [
      "100%|██████████| 200/200 [00:07<00:00, 25.65it/s]\n"
     ]
    },
    {
     "name": "stdout",
     "output_type": "stream",
     "text": [
      "Evaluating Block Diagonal GCN Number 49\n",
      "Validation accuracy: 0.909\n",
      "Test accuracy: 0.115\n",
      "\n",
      "Training Block Diagonal GAT Number 0\n"
     ]
    },
    {
     "name": "stderr",
     "output_type": "stream",
     "text": [
      "100%|██████████| 200/200 [00:13<00:00, 15.12it/s]\n"
     ]
    },
    {
     "name": "stdout",
     "output_type": "stream",
     "text": [
      "Evaluating Block Diagonal GAT Number 0\n",
      "Validation accuracy: 0.866\n",
      "Test accuracy: 0.124\n",
      "\n",
      "Training Block Diagonal GAT Number 1\n"
     ]
    },
    {
     "name": "stderr",
     "output_type": "stream",
     "text": [
      "100%|██████████| 200/200 [00:13<00:00, 14.88it/s]\n"
     ]
    },
    {
     "name": "stdout",
     "output_type": "stream",
     "text": [
      "Evaluating Block Diagonal GAT Number 1\n",
      "Validation accuracy: 0.886\n",
      "Test accuracy: 0.121\n",
      "\n",
      "Training Block Diagonal GAT Number 2\n"
     ]
    },
    {
     "name": "stderr",
     "output_type": "stream",
     "text": [
      "100%|██████████| 200/200 [00:13<00:00, 15.07it/s]\n"
     ]
    },
    {
     "name": "stdout",
     "output_type": "stream",
     "text": [
      "Evaluating Block Diagonal GAT Number 2\n",
      "Validation accuracy: 0.861\n",
      "Test accuracy: 0.120\n",
      "\n",
      "Training Block Diagonal GAT Number 3\n"
     ]
    },
    {
     "name": "stderr",
     "output_type": "stream",
     "text": [
      "100%|██████████| 200/200 [00:13<00:00, 15.03it/s]\n"
     ]
    },
    {
     "name": "stdout",
     "output_type": "stream",
     "text": [
      "Evaluating Block Diagonal GAT Number 3\n",
      "Validation accuracy: 0.878\n",
      "Test accuracy: 0.116\n",
      "\n",
      "Training Block Diagonal GAT Number 4\n"
     ]
    },
    {
     "name": "stderr",
     "output_type": "stream",
     "text": [
      "100%|██████████| 200/200 [00:13<00:00, 14.90it/s]\n"
     ]
    },
    {
     "name": "stdout",
     "output_type": "stream",
     "text": [
      "Evaluating Block Diagonal GAT Number 4\n",
      "Validation accuracy: 0.886\n",
      "Test accuracy: 0.114\n",
      "\n",
      "Training Block Diagonal GAT Number 5\n"
     ]
    },
    {
     "name": "stderr",
     "output_type": "stream",
     "text": [
      "100%|██████████| 200/200 [00:13<00:00, 14.78it/s]\n"
     ]
    },
    {
     "name": "stdout",
     "output_type": "stream",
     "text": [
      "Evaluating Block Diagonal GAT Number 5\n",
      "Validation accuracy: 0.861\n",
      "Test accuracy: 0.114\n",
      "\n",
      "Training Block Diagonal GAT Number 6\n"
     ]
    },
    {
     "name": "stderr",
     "output_type": "stream",
     "text": [
      "100%|██████████| 200/200 [00:13<00:00, 15.15it/s]\n"
     ]
    },
    {
     "name": "stdout",
     "output_type": "stream",
     "text": [
      "Evaluating Block Diagonal GAT Number 6\n",
      "Validation accuracy: 0.912\n",
      "Test accuracy: 0.113\n",
      "\n",
      "Training Block Diagonal GAT Number 7\n"
     ]
    },
    {
     "name": "stderr",
     "output_type": "stream",
     "text": [
      "100%|██████████| 200/200 [00:12<00:00, 15.63it/s]\n"
     ]
    },
    {
     "name": "stdout",
     "output_type": "stream",
     "text": [
      "Evaluating Block Diagonal GAT Number 7\n",
      "Validation accuracy: 0.901\n",
      "Test accuracy: 0.115\n",
      "\n",
      "Training Block Diagonal GAT Number 8\n"
     ]
    },
    {
     "name": "stderr",
     "output_type": "stream",
     "text": [
      "100%|██████████| 200/200 [00:12<00:00, 15.70it/s]\n"
     ]
    },
    {
     "name": "stdout",
     "output_type": "stream",
     "text": [
      "Evaluating Block Diagonal GAT Number 8\n",
      "Validation accuracy: 0.872\n",
      "Test accuracy: 0.116\n",
      "\n",
      "Training Block Diagonal GAT Number 9\n"
     ]
    },
    {
     "name": "stderr",
     "output_type": "stream",
     "text": [
      "100%|██████████| 200/200 [00:12<00:00, 15.50it/s]\n"
     ]
    },
    {
     "name": "stdout",
     "output_type": "stream",
     "text": [
      "Evaluating Block Diagonal GAT Number 9\n",
      "Validation accuracy: 0.901\n",
      "Test accuracy: 0.116\n",
      "\n",
      "Training Block Diagonal GAT Number 10\n"
     ]
    },
    {
     "name": "stderr",
     "output_type": "stream",
     "text": [
      "100%|██████████| 200/200 [00:12<00:00, 15.77it/s]\n"
     ]
    },
    {
     "name": "stdout",
     "output_type": "stream",
     "text": [
      "Evaluating Block Diagonal GAT Number 10\n",
      "Validation accuracy: 0.835\n",
      "Test accuracy: 0.117\n",
      "\n",
      "Training Block Diagonal GAT Number 11\n"
     ]
    },
    {
     "name": "stderr",
     "output_type": "stream",
     "text": [
      "100%|██████████| 200/200 [00:12<00:00, 15.55it/s]\n"
     ]
    },
    {
     "name": "stdout",
     "output_type": "stream",
     "text": [
      "Evaluating Block Diagonal GAT Number 11\n",
      "Validation accuracy: 0.881\n",
      "Test accuracy: 0.116\n",
      "\n",
      "Training Block Diagonal GAT Number 12\n"
     ]
    },
    {
     "name": "stderr",
     "output_type": "stream",
     "text": [
      "100%|██████████| 200/200 [00:12<00:00, 15.39it/s]\n"
     ]
    },
    {
     "name": "stdout",
     "output_type": "stream",
     "text": [
      "Evaluating Block Diagonal GAT Number 12\n",
      "Validation accuracy: 0.849\n",
      "Test accuracy: 0.116\n",
      "\n",
      "Training Block Diagonal GAT Number 13\n"
     ]
    },
    {
     "name": "stderr",
     "output_type": "stream",
     "text": [
      "100%|██████████| 200/200 [00:12<00:00, 15.54it/s]\n"
     ]
    },
    {
     "name": "stdout",
     "output_type": "stream",
     "text": [
      "Evaluating Block Diagonal GAT Number 13\n",
      "Validation accuracy: 0.875\n",
      "Test accuracy: 0.116\n",
      "\n",
      "Training Block Diagonal GAT Number 14\n"
     ]
    },
    {
     "name": "stderr",
     "output_type": "stream",
     "text": [
      "100%|██████████| 200/200 [00:12<00:00, 15.43it/s]\n"
     ]
    },
    {
     "name": "stdout",
     "output_type": "stream",
     "text": [
      "Evaluating Block Diagonal GAT Number 14\n",
      "Validation accuracy: 0.895\n",
      "Test accuracy: 0.115\n",
      "\n",
      "Training Block Diagonal GAT Number 15\n"
     ]
    },
    {
     "name": "stderr",
     "output_type": "stream",
     "text": [
      "100%|██████████| 200/200 [00:12<00:00, 15.47it/s]\n"
     ]
    },
    {
     "name": "stdout",
     "output_type": "stream",
     "text": [
      "Evaluating Block Diagonal GAT Number 15\n",
      "Validation accuracy: 0.889\n",
      "Test accuracy: 0.115\n",
      "\n",
      "Training Block Diagonal GAT Number 16\n"
     ]
    },
    {
     "name": "stderr",
     "output_type": "stream",
     "text": [
      "100%|██████████| 200/200 [00:12<00:00, 15.56it/s]\n"
     ]
    },
    {
     "name": "stdout",
     "output_type": "stream",
     "text": [
      "Evaluating Block Diagonal GAT Number 16\n",
      "Validation accuracy: 0.824\n",
      "Test accuracy: 0.115\n",
      "\n",
      "Training Block Diagonal GAT Number 17\n"
     ]
    },
    {
     "name": "stderr",
     "output_type": "stream",
     "text": [
      "100%|██████████| 200/200 [00:12<00:00, 15.58it/s]\n"
     ]
    },
    {
     "name": "stdout",
     "output_type": "stream",
     "text": [
      "Evaluating Block Diagonal GAT Number 17\n",
      "Validation accuracy: 0.881\n",
      "Test accuracy: 0.115\n",
      "\n",
      "Training Block Diagonal GAT Number 18\n"
     ]
    },
    {
     "name": "stderr",
     "output_type": "stream",
     "text": [
      "100%|██████████| 200/200 [00:13<00:00, 15.37it/s]\n"
     ]
    },
    {
     "name": "stdout",
     "output_type": "stream",
     "text": [
      "Evaluating Block Diagonal GAT Number 18\n",
      "Validation accuracy: 0.875\n",
      "Test accuracy: 0.115\n",
      "\n",
      "Training Block Diagonal GAT Number 19\n"
     ]
    },
    {
     "name": "stderr",
     "output_type": "stream",
     "text": [
      "100%|██████████| 200/200 [00:12<00:00, 15.46it/s]\n"
     ]
    },
    {
     "name": "stdout",
     "output_type": "stream",
     "text": [
      "Evaluating Block Diagonal GAT Number 19\n",
      "Validation accuracy: 0.886\n",
      "Test accuracy: 0.115\n",
      "\n",
      "Training Block Diagonal GAT Number 20\n"
     ]
    },
    {
     "name": "stderr",
     "output_type": "stream",
     "text": [
      "100%|██████████| 200/200 [00:12<00:00, 15.63it/s]\n"
     ]
    },
    {
     "name": "stdout",
     "output_type": "stream",
     "text": [
      "Evaluating Block Diagonal GAT Number 20\n",
      "Validation accuracy: 0.849\n",
      "Test accuracy: 0.115\n",
      "\n",
      "Training Block Diagonal GAT Number 21\n"
     ]
    },
    {
     "name": "stderr",
     "output_type": "stream",
     "text": [
      "100%|██████████| 200/200 [00:12<00:00, 15.56it/s]\n"
     ]
    },
    {
     "name": "stdout",
     "output_type": "stream",
     "text": [
      "Evaluating Block Diagonal GAT Number 21\n",
      "Validation accuracy: 0.849\n",
      "Test accuracy: 0.115\n",
      "\n",
      "Training Block Diagonal GAT Number 22\n"
     ]
    },
    {
     "name": "stderr",
     "output_type": "stream",
     "text": [
      "100%|██████████| 200/200 [00:12<00:00, 15.62it/s]\n"
     ]
    },
    {
     "name": "stdout",
     "output_type": "stream",
     "text": [
      "Evaluating Block Diagonal GAT Number 22\n",
      "Validation accuracy: 0.875\n",
      "Test accuracy: 0.115\n",
      "\n",
      "Training Block Diagonal GAT Number 23\n"
     ]
    },
    {
     "name": "stderr",
     "output_type": "stream",
     "text": [
      "100%|██████████| 200/200 [00:12<00:00, 15.70it/s]\n"
     ]
    },
    {
     "name": "stdout",
     "output_type": "stream",
     "text": [
      "Evaluating Block Diagonal GAT Number 23\n",
      "Validation accuracy: 0.841\n",
      "Test accuracy: 0.112\n",
      "\n",
      "Training Block Diagonal GAT Number 24\n"
     ]
    },
    {
     "name": "stderr",
     "output_type": "stream",
     "text": [
      "100%|██████████| 200/200 [00:12<00:00, 15.76it/s]\n"
     ]
    },
    {
     "name": "stdout",
     "output_type": "stream",
     "text": [
      "Evaluating Block Diagonal GAT Number 24\n",
      "Validation accuracy: 0.869\n",
      "Test accuracy: 0.109\n",
      "\n",
      "Training Block Diagonal GAT Number 25\n"
     ]
    },
    {
     "name": "stderr",
     "output_type": "stream",
     "text": [
      "100%|██████████| 200/200 [00:12<00:00, 15.44it/s]\n"
     ]
    },
    {
     "name": "stdout",
     "output_type": "stream",
     "text": [
      "Evaluating Block Diagonal GAT Number 25\n",
      "Validation accuracy: 0.847\n",
      "Test accuracy: 0.110\n",
      "\n",
      "Training Block Diagonal GAT Number 26\n"
     ]
    },
    {
     "name": "stderr",
     "output_type": "stream",
     "text": [
      "100%|██████████| 200/200 [00:12<00:00, 15.46it/s]\n"
     ]
    },
    {
     "name": "stdout",
     "output_type": "stream",
     "text": [
      "Evaluating Block Diagonal GAT Number 26\n",
      "Validation accuracy: 0.881\n",
      "Test accuracy: 0.110\n",
      "\n",
      "Training Block Diagonal GAT Number 27\n"
     ]
    },
    {
     "name": "stderr",
     "output_type": "stream",
     "text": [
      "100%|██████████| 200/200 [00:12<00:00, 15.52it/s]\n"
     ]
    },
    {
     "name": "stdout",
     "output_type": "stream",
     "text": [
      "Evaluating Block Diagonal GAT Number 27\n",
      "Validation accuracy: 0.872\n",
      "Test accuracy: 0.110\n",
      "\n",
      "Training Block Diagonal GAT Number 28\n"
     ]
    },
    {
     "name": "stderr",
     "output_type": "stream",
     "text": [
      "100%|██████████| 200/200 [00:12<00:00, 15.48it/s]\n"
     ]
    },
    {
     "name": "stdout",
     "output_type": "stream",
     "text": [
      "Evaluating Block Diagonal GAT Number 28\n",
      "Validation accuracy: 0.849\n",
      "Test accuracy: 0.110\n",
      "\n",
      "Training Block Diagonal GAT Number 29\n"
     ]
    },
    {
     "name": "stderr",
     "output_type": "stream",
     "text": [
      "100%|██████████| 200/200 [00:12<00:00, 15.86it/s]\n"
     ]
    },
    {
     "name": "stdout",
     "output_type": "stream",
     "text": [
      "Evaluating Block Diagonal GAT Number 29\n",
      "Validation accuracy: 0.895\n",
      "Test accuracy: 0.110\n",
      "\n",
      "Training Block Diagonal GAT Number 30\n"
     ]
    },
    {
     "name": "stderr",
     "output_type": "stream",
     "text": [
      "100%|██████████| 200/200 [00:12<00:00, 15.73it/s]\n"
     ]
    },
    {
     "name": "stdout",
     "output_type": "stream",
     "text": [
      "Evaluating Block Diagonal GAT Number 30\n",
      "Validation accuracy: 0.872\n",
      "Test accuracy: 0.111\n",
      "\n",
      "Training Block Diagonal GAT Number 31\n"
     ]
    },
    {
     "name": "stderr",
     "output_type": "stream",
     "text": [
      "100%|██████████| 200/200 [00:12<00:00, 15.75it/s]\n"
     ]
    },
    {
     "name": "stdout",
     "output_type": "stream",
     "text": [
      "Evaluating Block Diagonal GAT Number 31\n",
      "Validation accuracy: 0.832\n",
      "Test accuracy: 0.111\n",
      "\n",
      "Training Block Diagonal GAT Number 32\n"
     ]
    },
    {
     "name": "stderr",
     "output_type": "stream",
     "text": [
      "100%|██████████| 200/200 [00:12<00:00, 15.62it/s]\n"
     ]
    },
    {
     "name": "stdout",
     "output_type": "stream",
     "text": [
      "Evaluating Block Diagonal GAT Number 32\n",
      "Validation accuracy: 0.889\n",
      "Test accuracy: 0.111\n",
      "\n",
      "Training Block Diagonal GAT Number 33\n"
     ]
    },
    {
     "name": "stderr",
     "output_type": "stream",
     "text": [
      "100%|██████████| 200/200 [00:12<00:00, 15.95it/s]\n"
     ]
    },
    {
     "name": "stdout",
     "output_type": "stream",
     "text": [
      "Evaluating Block Diagonal GAT Number 33\n",
      "Validation accuracy: 0.884\n",
      "Test accuracy: 0.109\n",
      "\n",
      "Training Block Diagonal GAT Number 34\n"
     ]
    },
    {
     "name": "stderr",
     "output_type": "stream",
     "text": [
      "100%|██████████| 200/200 [00:12<00:00, 15.97it/s]\n"
     ]
    },
    {
     "name": "stdout",
     "output_type": "stream",
     "text": [
      "Evaluating Block Diagonal GAT Number 34\n",
      "Validation accuracy: 0.872\n",
      "Test accuracy: 0.110\n",
      "\n",
      "Training Block Diagonal GAT Number 35\n"
     ]
    },
    {
     "name": "stderr",
     "output_type": "stream",
     "text": [
      "100%|██████████| 200/200 [00:12<00:00, 15.53it/s]\n"
     ]
    },
    {
     "name": "stdout",
     "output_type": "stream",
     "text": [
      "Evaluating Block Diagonal GAT Number 35\n",
      "Validation accuracy: 0.872\n",
      "Test accuracy: 0.110\n",
      "\n",
      "Training Block Diagonal GAT Number 36\n"
     ]
    },
    {
     "name": "stderr",
     "output_type": "stream",
     "text": [
      "100%|██████████| 200/200 [00:12<00:00, 15.67it/s]\n"
     ]
    },
    {
     "name": "stdout",
     "output_type": "stream",
     "text": [
      "Evaluating Block Diagonal GAT Number 36\n",
      "Validation accuracy: 0.844\n",
      "Test accuracy: 0.110\n",
      "\n",
      "Training Block Diagonal GAT Number 37\n"
     ]
    },
    {
     "name": "stderr",
     "output_type": "stream",
     "text": [
      "100%|██████████| 200/200 [00:12<00:00, 15.62it/s]\n"
     ]
    },
    {
     "name": "stdout",
     "output_type": "stream",
     "text": [
      "Evaluating Block Diagonal GAT Number 37\n",
      "Validation accuracy: 0.881\n",
      "Test accuracy: 0.111\n",
      "\n",
      "Training Block Diagonal GAT Number 38\n"
     ]
    },
    {
     "name": "stderr",
     "output_type": "stream",
     "text": [
      "100%|██████████| 200/200 [00:12<00:00, 15.79it/s]\n"
     ]
    },
    {
     "name": "stdout",
     "output_type": "stream",
     "text": [
      "Evaluating Block Diagonal GAT Number 38\n",
      "Validation accuracy: 0.835\n",
      "Test accuracy: 0.111\n",
      "\n",
      "Training Block Diagonal GAT Number 39\n"
     ]
    },
    {
     "name": "stderr",
     "output_type": "stream",
     "text": [
      "100%|██████████| 200/200 [00:13<00:00, 15.37it/s]\n"
     ]
    },
    {
     "name": "stdout",
     "output_type": "stream",
     "text": [
      "Evaluating Block Diagonal GAT Number 39\n",
      "Validation accuracy: 0.858\n",
      "Test accuracy: 0.110\n",
      "\n",
      "Training Block Diagonal GAT Number 40\n"
     ]
    },
    {
     "name": "stderr",
     "output_type": "stream",
     "text": [
      "100%|██████████| 200/200 [00:12<00:00, 15.50it/s]\n"
     ]
    },
    {
     "name": "stdout",
     "output_type": "stream",
     "text": [
      "Evaluating Block Diagonal GAT Number 40\n",
      "Validation accuracy: 0.844\n",
      "Test accuracy: 0.111\n",
      "\n",
      "Training Block Diagonal GAT Number 41\n"
     ]
    },
    {
     "name": "stderr",
     "output_type": "stream",
     "text": [
      "100%|██████████| 200/200 [00:12<00:00, 15.78it/s]\n"
     ]
    },
    {
     "name": "stdout",
     "output_type": "stream",
     "text": [
      "Evaluating Block Diagonal GAT Number 41\n",
      "Validation accuracy: 0.915\n",
      "Test accuracy: 0.111\n",
      "\n",
      "Training Block Diagonal GAT Number 42\n"
     ]
    },
    {
     "name": "stderr",
     "output_type": "stream",
     "text": [
      "100%|██████████| 200/200 [00:12<00:00, 15.77it/s]\n"
     ]
    },
    {
     "name": "stdout",
     "output_type": "stream",
     "text": [
      "Evaluating Block Diagonal GAT Number 42\n",
      "Validation accuracy: 0.841\n",
      "Test accuracy: 0.111\n",
      "\n",
      "Training Block Diagonal GAT Number 43\n"
     ]
    },
    {
     "name": "stderr",
     "output_type": "stream",
     "text": [
      "100%|██████████| 200/200 [00:13<00:00, 15.35it/s]\n"
     ]
    },
    {
     "name": "stdout",
     "output_type": "stream",
     "text": [
      "Evaluating Block Diagonal GAT Number 43\n",
      "Validation accuracy: 0.866\n",
      "Test accuracy: 0.111\n",
      "\n",
      "Training Block Diagonal GAT Number 44\n"
     ]
    },
    {
     "name": "stderr",
     "output_type": "stream",
     "text": [
      "100%|██████████| 200/200 [00:12<00:00, 15.48it/s]\n"
     ]
    },
    {
     "name": "stdout",
     "output_type": "stream",
     "text": [
      "Evaluating Block Diagonal GAT Number 44\n",
      "Validation accuracy: 0.832\n",
      "Test accuracy: 0.111\n",
      "\n",
      "Training Block Diagonal GAT Number 45\n"
     ]
    },
    {
     "name": "stderr",
     "output_type": "stream",
     "text": [
      "100%|██████████| 200/200 [00:12<00:00, 15.52it/s]\n"
     ]
    },
    {
     "name": "stdout",
     "output_type": "stream",
     "text": [
      "Evaluating Block Diagonal GAT Number 45\n",
      "Validation accuracy: 0.847\n",
      "Test accuracy: 0.112\n",
      "\n",
      "Training Block Diagonal GAT Number 46\n"
     ]
    },
    {
     "name": "stderr",
     "output_type": "stream",
     "text": [
      "100%|██████████| 200/200 [00:12<00:00, 15.44it/s]\n"
     ]
    },
    {
     "name": "stdout",
     "output_type": "stream",
     "text": [
      "Evaluating Block Diagonal GAT Number 46\n",
      "Validation accuracy: 0.878\n",
      "Test accuracy: 0.112\n",
      "\n",
      "Training Block Diagonal GAT Number 47\n"
     ]
    },
    {
     "name": "stderr",
     "output_type": "stream",
     "text": [
      "100%|██████████| 200/200 [00:12<00:00, 15.60it/s]\n"
     ]
    },
    {
     "name": "stdout",
     "output_type": "stream",
     "text": [
      "Evaluating Block Diagonal GAT Number 47\n",
      "Validation accuracy: 0.915\n",
      "Test accuracy: 0.110\n",
      "\n",
      "Training Block Diagonal GAT Number 48\n"
     ]
    },
    {
     "name": "stderr",
     "output_type": "stream",
     "text": [
      "100%|██████████| 200/200 [00:12<00:00, 15.60it/s]\n"
     ]
    },
    {
     "name": "stdout",
     "output_type": "stream",
     "text": [
      "Evaluating Block Diagonal GAT Number 48\n",
      "Validation accuracy: 0.838\n",
      "Test accuracy: 0.110\n",
      "\n",
      "Training Block Diagonal GAT Number 49\n"
     ]
    },
    {
     "name": "stderr",
     "output_type": "stream",
     "text": [
      "100%|██████████| 200/200 [00:12<00:00, 15.46it/s]\n"
     ]
    },
    {
     "name": "stdout",
     "output_type": "stream",
     "text": [
      "Evaluating Block Diagonal GAT Number 49\n",
      "Validation accuracy: 0.889\n",
      "Test accuracy: 0.111\n",
      "\n",
      "Training Unfolded GCN Number 0\n"
     ]
    },
    {
     "name": "stderr",
     "output_type": "stream",
     "text": [
      "100%|██████████| 200/200 [00:10<00:00, 18.60it/s]\n"
     ]
    },
    {
     "name": "stdout",
     "output_type": "stream",
     "text": [
      "Evaluating Unfolded GCN Number 0\n",
      "Validation accuracy: 0.901\n",
      "Test accuracy: 0.916\n",
      "\n",
      "Training Unfolded GCN Number 1\n"
     ]
    },
    {
     "name": "stderr",
     "output_type": "stream",
     "text": [
      "100%|██████████| 200/200 [00:10<00:00, 18.68it/s]\n"
     ]
    },
    {
     "name": "stdout",
     "output_type": "stream",
     "text": [
      "Evaluating Unfolded GCN Number 1\n",
      "Validation accuracy: 0.935\n",
      "Test accuracy: 0.920\n",
      "\n",
      "Training Unfolded GCN Number 2\n"
     ]
    },
    {
     "name": "stderr",
     "output_type": "stream",
     "text": [
      "100%|██████████| 200/200 [00:10<00:00, 18.97it/s]\n"
     ]
    },
    {
     "name": "stdout",
     "output_type": "stream",
     "text": [
      "Evaluating Unfolded GCN Number 2\n",
      "Validation accuracy: 0.929\n",
      "Test accuracy: 0.917\n",
      "\n",
      "Training Unfolded GCN Number 3\n"
     ]
    },
    {
     "name": "stderr",
     "output_type": "stream",
     "text": [
      "100%|██████████| 200/200 [00:10<00:00, 18.71it/s]\n"
     ]
    },
    {
     "name": "stdout",
     "output_type": "stream",
     "text": [
      "Evaluating Unfolded GCN Number 3\n",
      "Validation accuracy: 0.949\n",
      "Test accuracy: 0.919\n",
      "\n",
      "Training Unfolded GCN Number 4\n"
     ]
    },
    {
     "name": "stderr",
     "output_type": "stream",
     "text": [
      "100%|██████████| 200/200 [00:10<00:00, 18.41it/s]\n"
     ]
    },
    {
     "name": "stdout",
     "output_type": "stream",
     "text": [
      "Evaluating Unfolded GCN Number 4\n",
      "Validation accuracy: 0.943\n",
      "Test accuracy: 0.916\n",
      "\n",
      "Training Unfolded GCN Number 5\n"
     ]
    },
    {
     "name": "stderr",
     "output_type": "stream",
     "text": [
      "100%|██████████| 200/200 [00:10<00:00, 18.65it/s]\n"
     ]
    },
    {
     "name": "stdout",
     "output_type": "stream",
     "text": [
      "Evaluating Unfolded GCN Number 5\n",
      "Validation accuracy: 0.946\n",
      "Test accuracy: 0.917\n",
      "\n",
      "Training Unfolded GCN Number 6\n"
     ]
    },
    {
     "name": "stderr",
     "output_type": "stream",
     "text": [
      "100%|██████████| 200/200 [00:10<00:00, 19.02it/s]\n"
     ]
    },
    {
     "name": "stdout",
     "output_type": "stream",
     "text": [
      "Evaluating Unfolded GCN Number 6\n",
      "Validation accuracy: 0.938\n",
      "Test accuracy: 0.917\n",
      "\n",
      "Training Unfolded GCN Number 7\n"
     ]
    },
    {
     "name": "stderr",
     "output_type": "stream",
     "text": [
      "100%|██████████| 200/200 [00:10<00:00, 19.59it/s]\n"
     ]
    },
    {
     "name": "stdout",
     "output_type": "stream",
     "text": [
      "Evaluating Unfolded GCN Number 7\n",
      "Validation accuracy: 0.943\n",
      "Test accuracy: 0.917\n",
      "\n",
      "Training Unfolded GCN Number 8\n"
     ]
    },
    {
     "name": "stderr",
     "output_type": "stream",
     "text": [
      "100%|██████████| 200/200 [00:10<00:00, 19.35it/s]\n"
     ]
    },
    {
     "name": "stdout",
     "output_type": "stream",
     "text": [
      "Evaluating Unfolded GCN Number 8\n",
      "Validation accuracy: 0.957\n",
      "Test accuracy: 0.918\n",
      "\n",
      "Training Unfolded GCN Number 9\n"
     ]
    },
    {
     "name": "stderr",
     "output_type": "stream",
     "text": [
      "100%|██████████| 200/200 [00:10<00:00, 18.79it/s]\n"
     ]
    },
    {
     "name": "stdout",
     "output_type": "stream",
     "text": [
      "Evaluating Unfolded GCN Number 9\n",
      "Validation accuracy: 0.960\n",
      "Test accuracy: 0.918\n",
      "\n",
      "Training Unfolded GCN Number 10\n"
     ]
    },
    {
     "name": "stderr",
     "output_type": "stream",
     "text": [
      "100%|██████████| 200/200 [00:10<00:00, 18.62it/s]\n"
     ]
    },
    {
     "name": "stdout",
     "output_type": "stream",
     "text": [
      "Evaluating Unfolded GCN Number 10\n",
      "Validation accuracy: 0.943\n",
      "Test accuracy: 0.918\n",
      "\n",
      "Training Unfolded GCN Number 11\n"
     ]
    },
    {
     "name": "stderr",
     "output_type": "stream",
     "text": [
      "100%|██████████| 200/200 [00:10<00:00, 18.94it/s]\n"
     ]
    },
    {
     "name": "stdout",
     "output_type": "stream",
     "text": [
      "Evaluating Unfolded GCN Number 11\n",
      "Validation accuracy: 0.935\n",
      "Test accuracy: 0.918\n",
      "\n",
      "Training Unfolded GCN Number 12\n"
     ]
    },
    {
     "name": "stderr",
     "output_type": "stream",
     "text": [
      "100%|██████████| 200/200 [00:10<00:00, 18.54it/s]\n"
     ]
    },
    {
     "name": "stdout",
     "output_type": "stream",
     "text": [
      "Evaluating Unfolded GCN Number 12\n",
      "Validation accuracy: 0.949\n",
      "Test accuracy: 0.918\n",
      "\n",
      "Training Unfolded GCN Number 13\n"
     ]
    },
    {
     "name": "stderr",
     "output_type": "stream",
     "text": [
      "100%|██████████| 200/200 [00:10<00:00, 18.58it/s]\n"
     ]
    },
    {
     "name": "stdout",
     "output_type": "stream",
     "text": [
      "Evaluating Unfolded GCN Number 13\n",
      "Validation accuracy: 0.935\n",
      "Test accuracy: 0.918\n",
      "\n",
      "Training Unfolded GCN Number 14\n"
     ]
    },
    {
     "name": "stderr",
     "output_type": "stream",
     "text": [
      "100%|██████████| 200/200 [00:10<00:00, 18.38it/s]\n"
     ]
    },
    {
     "name": "stdout",
     "output_type": "stream",
     "text": [
      "Evaluating Unfolded GCN Number 14\n",
      "Validation accuracy: 0.918\n",
      "Test accuracy: 0.917\n",
      "\n",
      "Training Unfolded GCN Number 15\n"
     ]
    },
    {
     "name": "stderr",
     "output_type": "stream",
     "text": [
      "100%|██████████| 200/200 [00:10<00:00, 18.50it/s]\n"
     ]
    },
    {
     "name": "stdout",
     "output_type": "stream",
     "text": [
      "Evaluating Unfolded GCN Number 15\n",
      "Validation accuracy: 0.940\n",
      "Test accuracy: 0.918\n",
      "\n",
      "Training Unfolded GCN Number 16\n"
     ]
    },
    {
     "name": "stderr",
     "output_type": "stream",
     "text": [
      "100%|██████████| 200/200 [00:10<00:00, 18.88it/s]\n"
     ]
    },
    {
     "name": "stdout",
     "output_type": "stream",
     "text": [
      "Evaluating Unfolded GCN Number 16\n",
      "Validation accuracy: 0.906\n",
      "Test accuracy: 0.918\n",
      "\n",
      "Training Unfolded GCN Number 17\n"
     ]
    },
    {
     "name": "stderr",
     "output_type": "stream",
     "text": [
      "100%|██████████| 200/200 [00:10<00:00, 18.59it/s]\n"
     ]
    },
    {
     "name": "stdout",
     "output_type": "stream",
     "text": [
      "Evaluating Unfolded GCN Number 17\n",
      "Validation accuracy: 0.929\n",
      "Test accuracy: 0.918\n",
      "\n",
      "Training Unfolded GCN Number 18\n"
     ]
    },
    {
     "name": "stderr",
     "output_type": "stream",
     "text": [
      "100%|██████████| 200/200 [00:10<00:00, 18.45it/s]\n"
     ]
    },
    {
     "name": "stdout",
     "output_type": "stream",
     "text": [
      "Evaluating Unfolded GCN Number 18\n",
      "Validation accuracy: 0.952\n",
      "Test accuracy: 0.918\n",
      "\n",
      "Training Unfolded GCN Number 19\n"
     ]
    },
    {
     "name": "stderr",
     "output_type": "stream",
     "text": [
      "100%|██████████| 200/200 [00:10<00:00, 18.51it/s]\n"
     ]
    },
    {
     "name": "stdout",
     "output_type": "stream",
     "text": [
      "Evaluating Unfolded GCN Number 19\n",
      "Validation accuracy: 0.923\n",
      "Test accuracy: 0.917\n",
      "\n",
      "Training Unfolded GCN Number 20\n"
     ]
    },
    {
     "name": "stderr",
     "output_type": "stream",
     "text": [
      "100%|██████████| 200/200 [00:10<00:00, 18.44it/s]\n"
     ]
    },
    {
     "name": "stdout",
     "output_type": "stream",
     "text": [
      "Evaluating Unfolded GCN Number 20\n",
      "Validation accuracy: 0.932\n",
      "Test accuracy: 0.917\n",
      "\n",
      "Training Unfolded GCN Number 21\n"
     ]
    },
    {
     "name": "stderr",
     "output_type": "stream",
     "text": [
      "100%|██████████| 200/200 [00:10<00:00, 18.75it/s]\n"
     ]
    },
    {
     "name": "stdout",
     "output_type": "stream",
     "text": [
      "Evaluating Unfolded GCN Number 21\n",
      "Validation accuracy: 0.909\n",
      "Test accuracy: 0.917\n",
      "\n",
      "Training Unfolded GCN Number 22\n"
     ]
    },
    {
     "name": "stderr",
     "output_type": "stream",
     "text": [
      "100%|██████████| 200/200 [00:10<00:00, 18.96it/s]\n"
     ]
    },
    {
     "name": "stdout",
     "output_type": "stream",
     "text": [
      "Evaluating Unfolded GCN Number 22\n",
      "Validation accuracy: 0.949\n",
      "Test accuracy: 0.917\n",
      "\n",
      "Training Unfolded GCN Number 23\n"
     ]
    },
    {
     "name": "stderr",
     "output_type": "stream",
     "text": [
      "100%|██████████| 200/200 [00:10<00:00, 18.88it/s]\n"
     ]
    },
    {
     "name": "stdout",
     "output_type": "stream",
     "text": [
      "Evaluating Unfolded GCN Number 23\n",
      "Validation accuracy: 0.932\n",
      "Test accuracy: 0.917\n",
      "\n",
      "Training Unfolded GCN Number 24\n"
     ]
    },
    {
     "name": "stderr",
     "output_type": "stream",
     "text": [
      "100%|██████████| 200/200 [00:10<00:00, 18.65it/s]\n"
     ]
    },
    {
     "name": "stdout",
     "output_type": "stream",
     "text": [
      "Evaluating Unfolded GCN Number 24\n",
      "Validation accuracy: 0.926\n",
      "Test accuracy: 0.917\n",
      "\n",
      "Training Unfolded GCN Number 25\n"
     ]
    },
    {
     "name": "stderr",
     "output_type": "stream",
     "text": [
      "100%|██████████| 200/200 [00:10<00:00, 18.43it/s]\n"
     ]
    },
    {
     "name": "stdout",
     "output_type": "stream",
     "text": [
      "Evaluating Unfolded GCN Number 25\n",
      "Validation accuracy: 0.918\n",
      "Test accuracy: 0.917\n",
      "\n",
      "Training Unfolded GCN Number 26\n"
     ]
    },
    {
     "name": "stderr",
     "output_type": "stream",
     "text": [
      "100%|██████████| 200/200 [00:10<00:00, 18.63it/s]\n"
     ]
    },
    {
     "name": "stdout",
     "output_type": "stream",
     "text": [
      "Evaluating Unfolded GCN Number 26\n",
      "Validation accuracy: 0.926\n",
      "Test accuracy: 0.917\n",
      "\n",
      "Training Unfolded GCN Number 27\n"
     ]
    },
    {
     "name": "stderr",
     "output_type": "stream",
     "text": [
      "100%|██████████| 200/200 [00:10<00:00, 18.87it/s]\n"
     ]
    },
    {
     "name": "stdout",
     "output_type": "stream",
     "text": [
      "Evaluating Unfolded GCN Number 27\n",
      "Validation accuracy: 0.915\n",
      "Test accuracy: 0.917\n",
      "\n",
      "Training Unfolded GCN Number 28\n"
     ]
    },
    {
     "name": "stderr",
     "output_type": "stream",
     "text": [
      "100%|██████████| 200/200 [00:10<00:00, 18.65it/s]\n"
     ]
    },
    {
     "name": "stdout",
     "output_type": "stream",
     "text": [
      "Evaluating Unfolded GCN Number 28\n",
      "Validation accuracy: 0.938\n",
      "Test accuracy: 0.917\n",
      "\n",
      "Training Unfolded GCN Number 29\n"
     ]
    },
    {
     "name": "stderr",
     "output_type": "stream",
     "text": [
      "100%|██████████| 200/200 [00:10<00:00, 18.43it/s]\n"
     ]
    },
    {
     "name": "stdout",
     "output_type": "stream",
     "text": [
      "Evaluating Unfolded GCN Number 29\n",
      "Validation accuracy: 0.943\n",
      "Test accuracy: 0.918\n",
      "\n",
      "Training Unfolded GCN Number 30\n"
     ]
    },
    {
     "name": "stderr",
     "output_type": "stream",
     "text": [
      "100%|██████████| 200/200 [00:10<00:00, 18.56it/s]\n"
     ]
    },
    {
     "name": "stdout",
     "output_type": "stream",
     "text": [
      "Evaluating Unfolded GCN Number 30\n",
      "Validation accuracy: 0.949\n",
      "Test accuracy: 0.918\n",
      "\n",
      "Training Unfolded GCN Number 31\n"
     ]
    },
    {
     "name": "stderr",
     "output_type": "stream",
     "text": [
      "100%|██████████| 200/200 [00:10<00:00, 18.57it/s]\n"
     ]
    },
    {
     "name": "stdout",
     "output_type": "stream",
     "text": [
      "Evaluating Unfolded GCN Number 31\n",
      "Validation accuracy: 0.912\n",
      "Test accuracy: 0.917\n",
      "\n",
      "Training Unfolded GCN Number 32\n"
     ]
    },
    {
     "name": "stderr",
     "output_type": "stream",
     "text": [
      "100%|██████████| 200/200 [00:10<00:00, 18.42it/s]\n"
     ]
    },
    {
     "name": "stdout",
     "output_type": "stream",
     "text": [
      "Evaluating Unfolded GCN Number 32\n",
      "Validation accuracy: 0.943\n",
      "Test accuracy: 0.917\n",
      "\n",
      "Training Unfolded GCN Number 33\n"
     ]
    },
    {
     "name": "stderr",
     "output_type": "stream",
     "text": [
      "100%|██████████| 200/200 [00:10<00:00, 18.66it/s]\n"
     ]
    },
    {
     "name": "stdout",
     "output_type": "stream",
     "text": [
      "Evaluating Unfolded GCN Number 33\n",
      "Validation accuracy: 0.929\n",
      "Test accuracy: 0.917\n",
      "\n",
      "Training Unfolded GCN Number 34\n"
     ]
    },
    {
     "name": "stderr",
     "output_type": "stream",
     "text": [
      "100%|██████████| 200/200 [00:10<00:00, 18.45it/s]\n"
     ]
    },
    {
     "name": "stdout",
     "output_type": "stream",
     "text": [
      "Evaluating Unfolded GCN Number 34\n",
      "Validation accuracy: 0.940\n",
      "Test accuracy: 0.917\n",
      "\n",
      "Training Unfolded GCN Number 35\n"
     ]
    },
    {
     "name": "stderr",
     "output_type": "stream",
     "text": [
      "100%|██████████| 200/200 [00:10<00:00, 18.79it/s]\n"
     ]
    },
    {
     "name": "stdout",
     "output_type": "stream",
     "text": [
      "Evaluating Unfolded GCN Number 35\n",
      "Validation accuracy: 0.932\n",
      "Test accuracy: 0.917\n",
      "\n",
      "Training Unfolded GCN Number 36\n"
     ]
    },
    {
     "name": "stderr",
     "output_type": "stream",
     "text": [
      "100%|██████████| 200/200 [00:10<00:00, 18.81it/s]\n"
     ]
    },
    {
     "name": "stdout",
     "output_type": "stream",
     "text": [
      "Evaluating Unfolded GCN Number 36\n",
      "Validation accuracy: 0.932\n",
      "Test accuracy: 0.917\n",
      "\n",
      "Training Unfolded GCN Number 37\n"
     ]
    },
    {
     "name": "stderr",
     "output_type": "stream",
     "text": [
      "100%|██████████| 200/200 [00:10<00:00, 18.89it/s]\n"
     ]
    },
    {
     "name": "stdout",
     "output_type": "stream",
     "text": [
      "Evaluating Unfolded GCN Number 37\n",
      "Validation accuracy: 0.938\n",
      "Test accuracy: 0.917\n",
      "\n",
      "Training Unfolded GCN Number 38\n"
     ]
    },
    {
     "name": "stderr",
     "output_type": "stream",
     "text": [
      "100%|██████████| 200/200 [00:10<00:00, 19.03it/s]\n"
     ]
    },
    {
     "name": "stdout",
     "output_type": "stream",
     "text": [
      "Evaluating Unfolded GCN Number 38\n",
      "Validation accuracy: 0.943\n",
      "Test accuracy: 0.917\n",
      "\n",
      "Training Unfolded GCN Number 39\n"
     ]
    },
    {
     "name": "stderr",
     "output_type": "stream",
     "text": [
      "100%|██████████| 200/200 [00:10<00:00, 18.98it/s]\n"
     ]
    },
    {
     "name": "stdout",
     "output_type": "stream",
     "text": [
      "Evaluating Unfolded GCN Number 39\n",
      "Validation accuracy: 0.935\n",
      "Test accuracy: 0.918\n",
      "\n",
      "Training Unfolded GCN Number 40\n"
     ]
    },
    {
     "name": "stderr",
     "output_type": "stream",
     "text": [
      "100%|██████████| 200/200 [00:10<00:00, 18.68it/s]\n"
     ]
    },
    {
     "name": "stdout",
     "output_type": "stream",
     "text": [
      "Evaluating Unfolded GCN Number 40\n",
      "Validation accuracy: 0.915\n",
      "Test accuracy: 0.917\n",
      "\n",
      "Training Unfolded GCN Number 41\n"
     ]
    },
    {
     "name": "stderr",
     "output_type": "stream",
     "text": [
      "100%|██████████| 200/200 [00:10<00:00, 18.50it/s]\n"
     ]
    },
    {
     "name": "stdout",
     "output_type": "stream",
     "text": [
      "Evaluating Unfolded GCN Number 41\n",
      "Validation accuracy: 0.949\n",
      "Test accuracy: 0.918\n",
      "\n",
      "Training Unfolded GCN Number 42\n"
     ]
    },
    {
     "name": "stderr",
     "output_type": "stream",
     "text": [
      "100%|██████████| 200/200 [00:10<00:00, 19.16it/s]\n"
     ]
    },
    {
     "name": "stdout",
     "output_type": "stream",
     "text": [
      "Evaluating Unfolded GCN Number 42\n",
      "Validation accuracy: 0.915\n",
      "Test accuracy: 0.918\n",
      "\n",
      "Training Unfolded GCN Number 43\n"
     ]
    },
    {
     "name": "stderr",
     "output_type": "stream",
     "text": [
      "100%|██████████| 200/200 [00:10<00:00, 18.99it/s]\n"
     ]
    },
    {
     "name": "stdout",
     "output_type": "stream",
     "text": [
      "Evaluating Unfolded GCN Number 43\n",
      "Validation accuracy: 0.926\n",
      "Test accuracy: 0.918\n",
      "\n",
      "Training Unfolded GCN Number 44\n"
     ]
    },
    {
     "name": "stderr",
     "output_type": "stream",
     "text": [
      "100%|██████████| 200/200 [00:10<00:00, 19.20it/s]\n"
     ]
    },
    {
     "name": "stdout",
     "output_type": "stream",
     "text": [
      "Evaluating Unfolded GCN Number 44\n",
      "Validation accuracy: 0.841\n",
      "Test accuracy: 0.917\n",
      "\n",
      "Training Unfolded GCN Number 45\n"
     ]
    },
    {
     "name": "stderr",
     "output_type": "stream",
     "text": [
      "100%|██████████| 200/200 [00:10<00:00, 19.20it/s]\n"
     ]
    },
    {
     "name": "stdout",
     "output_type": "stream",
     "text": [
      "Evaluating Unfolded GCN Number 45\n",
      "Validation accuracy: 0.886\n",
      "Test accuracy: 0.917\n",
      "\n",
      "Training Unfolded GCN Number 46\n"
     ]
    },
    {
     "name": "stderr",
     "output_type": "stream",
     "text": [
      "100%|██████████| 200/200 [00:10<00:00, 18.64it/s]\n"
     ]
    },
    {
     "name": "stdout",
     "output_type": "stream",
     "text": [
      "Evaluating Unfolded GCN Number 46\n",
      "Validation accuracy: 0.909\n",
      "Test accuracy: 0.917\n",
      "\n",
      "Training Unfolded GCN Number 47\n"
     ]
    },
    {
     "name": "stderr",
     "output_type": "stream",
     "text": [
      "100%|██████████| 200/200 [00:10<00:00, 18.48it/s]\n"
     ]
    },
    {
     "name": "stdout",
     "output_type": "stream",
     "text": [
      "Evaluating Unfolded GCN Number 47\n",
      "Validation accuracy: 0.938\n",
      "Test accuracy: 0.917\n",
      "\n",
      "Training Unfolded GCN Number 48\n"
     ]
    },
    {
     "name": "stderr",
     "output_type": "stream",
     "text": [
      "100%|██████████| 200/200 [00:10<00:00, 18.76it/s]\n"
     ]
    },
    {
     "name": "stdout",
     "output_type": "stream",
     "text": [
      "Evaluating Unfolded GCN Number 48\n",
      "Validation accuracy: 0.940\n",
      "Test accuracy: 0.917\n",
      "\n",
      "Training Unfolded GCN Number 49\n"
     ]
    },
    {
     "name": "stderr",
     "output_type": "stream",
     "text": [
      "100%|██████████| 200/200 [00:10<00:00, 18.25it/s]\n"
     ]
    },
    {
     "name": "stdout",
     "output_type": "stream",
     "text": [
      "Evaluating Unfolded GCN Number 49\n",
      "Validation accuracy: 0.946\n",
      "Test accuracy: 0.917\n",
      "\n",
      "Training Unfolded GAT Number 0\n"
     ]
    },
    {
     "name": "stderr",
     "output_type": "stream",
     "text": [
      "100%|██████████| 200/200 [00:21<00:00,  9.35it/s]\n"
     ]
    },
    {
     "name": "stdout",
     "output_type": "stream",
     "text": [
      "Evaluating Unfolded GAT Number 0\n",
      "Validation accuracy: 0.869\n",
      "Test accuracy: 0.888\n",
      "\n",
      "Training Unfolded GAT Number 1\n"
     ]
    },
    {
     "name": "stderr",
     "output_type": "stream",
     "text": [
      "100%|██████████| 200/200 [00:23<00:00,  8.58it/s]\n"
     ]
    },
    {
     "name": "stdout",
     "output_type": "stream",
     "text": [
      "Evaluating Unfolded GAT Number 1\n",
      "Validation accuracy: 0.909\n",
      "Test accuracy: 0.874\n",
      "\n",
      "Training Unfolded GAT Number 2\n"
     ]
    },
    {
     "name": "stderr",
     "output_type": "stream",
     "text": [
      "100%|██████████| 200/200 [00:20<00:00,  9.63it/s]\n"
     ]
    },
    {
     "name": "stdout",
     "output_type": "stream",
     "text": [
      "Evaluating Unfolded GAT Number 2\n",
      "Validation accuracy: 0.940\n",
      "Test accuracy: 0.881\n",
      "\n",
      "Training Unfolded GAT Number 3\n"
     ]
    },
    {
     "name": "stderr",
     "output_type": "stream",
     "text": [
      "100%|██████████| 200/200 [00:20<00:00,  9.67it/s]\n"
     ]
    },
    {
     "name": "stdout",
     "output_type": "stream",
     "text": [
      "Evaluating Unfolded GAT Number 3\n",
      "Validation accuracy: 0.872\n",
      "Test accuracy: 0.867\n",
      "\n",
      "Training Unfolded GAT Number 4\n"
     ]
    },
    {
     "name": "stderr",
     "output_type": "stream",
     "text": [
      "100%|██████████| 200/200 [00:21<00:00,  9.52it/s]\n"
     ]
    },
    {
     "name": "stdout",
     "output_type": "stream",
     "text": [
      "Evaluating Unfolded GAT Number 4\n",
      "Validation accuracy: 0.929\n",
      "Test accuracy: 0.867\n",
      "\n",
      "Training Unfolded GAT Number 5\n"
     ]
    },
    {
     "name": "stderr",
     "output_type": "stream",
     "text": [
      "100%|██████████| 200/200 [00:20<00:00,  9.63it/s]\n"
     ]
    },
    {
     "name": "stdout",
     "output_type": "stream",
     "text": [
      "Evaluating Unfolded GAT Number 5\n",
      "Validation accuracy: 0.895\n",
      "Test accuracy: 0.862\n",
      "\n",
      "Training Unfolded GAT Number 6\n"
     ]
    },
    {
     "name": "stderr",
     "output_type": "stream",
     "text": [
      "100%|██████████| 200/200 [00:20<00:00,  9.77it/s]\n"
     ]
    },
    {
     "name": "stdout",
     "output_type": "stream",
     "text": [
      "Evaluating Unfolded GAT Number 6\n",
      "Validation accuracy: 0.920\n",
      "Test accuracy: 0.866\n",
      "\n",
      "Training Unfolded GAT Number 7\n"
     ]
    },
    {
     "name": "stderr",
     "output_type": "stream",
     "text": [
      "100%|██████████| 200/200 [00:20<00:00,  9.61it/s]\n"
     ]
    },
    {
     "name": "stdout",
     "output_type": "stream",
     "text": [
      "Evaluating Unfolded GAT Number 7\n",
      "Validation accuracy: 0.920\n",
      "Test accuracy: 0.868\n",
      "\n",
      "Training Unfolded GAT Number 8\n"
     ]
    },
    {
     "name": "stderr",
     "output_type": "stream",
     "text": [
      "100%|██████████| 200/200 [00:20<00:00,  9.61it/s]\n"
     ]
    },
    {
     "name": "stdout",
     "output_type": "stream",
     "text": [
      "Evaluating Unfolded GAT Number 8\n",
      "Validation accuracy: 0.949\n",
      "Test accuracy: 0.868\n",
      "\n",
      "Training Unfolded GAT Number 9\n"
     ]
    },
    {
     "name": "stderr",
     "output_type": "stream",
     "text": [
      "100%|██████████| 200/200 [00:20<00:00,  9.65it/s]\n"
     ]
    },
    {
     "name": "stdout",
     "output_type": "stream",
     "text": [
      "Evaluating Unfolded GAT Number 9\n",
      "Validation accuracy: 0.918\n",
      "Test accuracy: 0.870\n",
      "\n",
      "Training Unfolded GAT Number 10\n"
     ]
    },
    {
     "name": "stderr",
     "output_type": "stream",
     "text": [
      "100%|██████████| 200/200 [00:20<00:00,  9.56it/s]\n"
     ]
    },
    {
     "name": "stdout",
     "output_type": "stream",
     "text": [
      "Evaluating Unfolded GAT Number 10\n",
      "Validation accuracy: 0.884\n",
      "Test accuracy: 0.865\n",
      "\n",
      "Training Unfolded GAT Number 11\n"
     ]
    },
    {
     "name": "stderr",
     "output_type": "stream",
     "text": [
      "100%|██████████| 200/200 [00:20<00:00,  9.79it/s]\n"
     ]
    },
    {
     "name": "stdout",
     "output_type": "stream",
     "text": [
      "Evaluating Unfolded GAT Number 11\n",
      "Validation accuracy: 0.923\n",
      "Test accuracy: 0.866\n",
      "\n",
      "Training Unfolded GAT Number 12\n"
     ]
    },
    {
     "name": "stderr",
     "output_type": "stream",
     "text": [
      "100%|██████████| 200/200 [00:20<00:00,  9.83it/s]\n"
     ]
    },
    {
     "name": "stdout",
     "output_type": "stream",
     "text": [
      "Evaluating Unfolded GAT Number 12\n",
      "Validation accuracy: 0.926\n",
      "Test accuracy: 0.866\n",
      "\n",
      "Training Unfolded GAT Number 13\n"
     ]
    },
    {
     "name": "stderr",
     "output_type": "stream",
     "text": [
      "100%|██████████| 200/200 [00:20<00:00,  9.89it/s]\n"
     ]
    },
    {
     "name": "stdout",
     "output_type": "stream",
     "text": [
      "Evaluating Unfolded GAT Number 13\n",
      "Validation accuracy: 0.932\n",
      "Test accuracy: 0.869\n",
      "\n",
      "Training Unfolded GAT Number 14\n"
     ]
    },
    {
     "name": "stderr",
     "output_type": "stream",
     "text": [
      "100%|██████████| 200/200 [00:20<00:00,  9.62it/s]\n"
     ]
    },
    {
     "name": "stdout",
     "output_type": "stream",
     "text": [
      "Evaluating Unfolded GAT Number 14\n",
      "Validation accuracy: 0.918\n",
      "Test accuracy: 0.871\n",
      "\n",
      "Training Unfolded GAT Number 15\n"
     ]
    },
    {
     "name": "stderr",
     "output_type": "stream",
     "text": [
      "100%|██████████| 200/200 [00:20<00:00,  9.78it/s]\n"
     ]
    },
    {
     "name": "stdout",
     "output_type": "stream",
     "text": [
      "Evaluating Unfolded GAT Number 15\n",
      "Validation accuracy: 0.898\n",
      "Test accuracy: 0.869\n",
      "\n",
      "Training Unfolded GAT Number 16\n"
     ]
    },
    {
     "name": "stderr",
     "output_type": "stream",
     "text": [
      "100%|██████████| 200/200 [00:20<00:00,  9.83it/s]\n"
     ]
    },
    {
     "name": "stdout",
     "output_type": "stream",
     "text": [
      "Evaluating Unfolded GAT Number 16\n",
      "Validation accuracy: 0.892\n",
      "Test accuracy: 0.868\n",
      "\n",
      "Training Unfolded GAT Number 17\n"
     ]
    },
    {
     "name": "stderr",
     "output_type": "stream",
     "text": [
      "100%|██████████| 200/200 [00:20<00:00,  9.57it/s]\n"
     ]
    },
    {
     "name": "stdout",
     "output_type": "stream",
     "text": [
      "Evaluating Unfolded GAT Number 17\n",
      "Validation accuracy: 0.926\n",
      "Test accuracy: 0.869\n",
      "\n",
      "Training Unfolded GAT Number 18\n"
     ]
    },
    {
     "name": "stderr",
     "output_type": "stream",
     "text": [
      "100%|██████████| 200/200 [00:20<00:00,  9.70it/s]\n"
     ]
    },
    {
     "name": "stdout",
     "output_type": "stream",
     "text": [
      "Evaluating Unfolded GAT Number 18\n",
      "Validation accuracy: 0.912\n",
      "Test accuracy: 0.868\n",
      "\n",
      "Training Unfolded GAT Number 19\n"
     ]
    },
    {
     "name": "stderr",
     "output_type": "stream",
     "text": [
      "100%|██████████| 200/200 [00:20<00:00,  9.64it/s]\n"
     ]
    },
    {
     "name": "stdout",
     "output_type": "stream",
     "text": [
      "Evaluating Unfolded GAT Number 19\n",
      "Validation accuracy: 0.878\n",
      "Test accuracy: 0.867\n",
      "\n",
      "Training Unfolded GAT Number 20\n"
     ]
    },
    {
     "name": "stderr",
     "output_type": "stream",
     "text": [
      "100%|██████████| 200/200 [00:20<00:00,  9.66it/s]\n"
     ]
    },
    {
     "name": "stdout",
     "output_type": "stream",
     "text": [
      "Evaluating Unfolded GAT Number 20\n",
      "Validation accuracy: 0.923\n",
      "Test accuracy: 0.869\n",
      "\n",
      "Training Unfolded GAT Number 21\n"
     ]
    },
    {
     "name": "stderr",
     "output_type": "stream",
     "text": [
      "100%|██████████| 200/200 [00:20<00:00,  9.69it/s]\n"
     ]
    },
    {
     "name": "stdout",
     "output_type": "stream",
     "text": [
      "Evaluating Unfolded GAT Number 21\n",
      "Validation accuracy: 0.901\n",
      "Test accuracy: 0.869\n",
      "\n",
      "Training Unfolded GAT Number 22\n"
     ]
    },
    {
     "name": "stderr",
     "output_type": "stream",
     "text": [
      "100%|██████████| 200/200 [00:20<00:00,  9.61it/s]\n"
     ]
    },
    {
     "name": "stdout",
     "output_type": "stream",
     "text": [
      "Evaluating Unfolded GAT Number 22\n",
      "Validation accuracy: 0.929\n",
      "Test accuracy: 0.869\n",
      "\n",
      "Training Unfolded GAT Number 23\n"
     ]
    },
    {
     "name": "stderr",
     "output_type": "stream",
     "text": [
      "100%|██████████| 200/200 [00:20<00:00,  9.61it/s]\n"
     ]
    },
    {
     "name": "stdout",
     "output_type": "stream",
     "text": [
      "Evaluating Unfolded GAT Number 23\n",
      "Validation accuracy: 0.898\n",
      "Test accuracy: 0.869\n",
      "\n",
      "Training Unfolded GAT Number 24\n"
     ]
    },
    {
     "name": "stderr",
     "output_type": "stream",
     "text": [
      "100%|██████████| 200/200 [00:21<00:00,  9.46it/s]\n"
     ]
    },
    {
     "name": "stdout",
     "output_type": "stream",
     "text": [
      "Evaluating Unfolded GAT Number 24\n",
      "Validation accuracy: 0.920\n",
      "Test accuracy: 0.869\n",
      "\n",
      "Training Unfolded GAT Number 25\n"
     ]
    },
    {
     "name": "stderr",
     "output_type": "stream",
     "text": [
      "100%|██████████| 200/200 [00:20<00:00,  9.56it/s]\n"
     ]
    },
    {
     "name": "stdout",
     "output_type": "stream",
     "text": [
      "Evaluating Unfolded GAT Number 25\n",
      "Validation accuracy: 0.912\n",
      "Test accuracy: 0.869\n",
      "\n",
      "Training Unfolded GAT Number 26\n"
     ]
    },
    {
     "name": "stderr",
     "output_type": "stream",
     "text": [
      "100%|██████████| 200/200 [00:20<00:00,  9.57it/s]\n"
     ]
    },
    {
     "name": "stdout",
     "output_type": "stream",
     "text": [
      "Evaluating Unfolded GAT Number 26\n",
      "Validation accuracy: 0.918\n",
      "Test accuracy: 0.869\n",
      "\n",
      "Training Unfolded GAT Number 27\n"
     ]
    },
    {
     "name": "stderr",
     "output_type": "stream",
     "text": [
      "100%|██████████| 200/200 [00:21<00:00,  9.46it/s]\n"
     ]
    },
    {
     "name": "stdout",
     "output_type": "stream",
     "text": [
      "Evaluating Unfolded GAT Number 27\n",
      "Validation accuracy: 0.920\n",
      "Test accuracy: 0.869\n",
      "\n",
      "Training Unfolded GAT Number 28\n"
     ]
    },
    {
     "name": "stderr",
     "output_type": "stream",
     "text": [
      "100%|██████████| 200/200 [00:20<00:00,  9.70it/s]\n"
     ]
    },
    {
     "name": "stdout",
     "output_type": "stream",
     "text": [
      "Evaluating Unfolded GAT Number 28\n",
      "Validation accuracy: 0.909\n",
      "Test accuracy: 0.869\n",
      "\n",
      "Training Unfolded GAT Number 29\n"
     ]
    },
    {
     "name": "stderr",
     "output_type": "stream",
     "text": [
      "100%|██████████| 200/200 [00:20<00:00,  9.69it/s]\n"
     ]
    },
    {
     "name": "stdout",
     "output_type": "stream",
     "text": [
      "Evaluating Unfolded GAT Number 29\n",
      "Validation accuracy: 0.938\n",
      "Test accuracy: 0.869\n",
      "\n",
      "Training Unfolded GAT Number 30\n"
     ]
    },
    {
     "name": "stderr",
     "output_type": "stream",
     "text": [
      "100%|██████████| 200/200 [00:20<00:00,  9.65it/s]\n"
     ]
    },
    {
     "name": "stdout",
     "output_type": "stream",
     "text": [
      "Evaluating Unfolded GAT Number 30\n",
      "Validation accuracy: 0.923\n",
      "Test accuracy: 0.869\n",
      "\n",
      "Training Unfolded GAT Number 31\n"
     ]
    },
    {
     "name": "stderr",
     "output_type": "stream",
     "text": [
      "100%|██████████| 200/200 [00:20<00:00,  9.63it/s]\n"
     ]
    },
    {
     "name": "stdout",
     "output_type": "stream",
     "text": [
      "Evaluating Unfolded GAT Number 31\n",
      "Validation accuracy: 0.892\n",
      "Test accuracy: 0.868\n",
      "\n",
      "Training Unfolded GAT Number 32\n"
     ]
    },
    {
     "name": "stderr",
     "output_type": "stream",
     "text": [
      "100%|██████████| 200/200 [00:20<00:00,  9.66it/s]\n"
     ]
    },
    {
     "name": "stdout",
     "output_type": "stream",
     "text": [
      "Evaluating Unfolded GAT Number 32\n",
      "Validation accuracy: 0.912\n",
      "Test accuracy: 0.868\n",
      "\n",
      "Training Unfolded GAT Number 33\n"
     ]
    },
    {
     "name": "stderr",
     "output_type": "stream",
     "text": [
      "100%|██████████| 200/200 [00:20<00:00,  9.74it/s]\n"
     ]
    },
    {
     "name": "stdout",
     "output_type": "stream",
     "text": [
      "Evaluating Unfolded GAT Number 33\n",
      "Validation accuracy: 0.920\n",
      "Test accuracy: 0.868\n",
      "\n",
      "Training Unfolded GAT Number 34\n"
     ]
    },
    {
     "name": "stderr",
     "output_type": "stream",
     "text": [
      "100%|██████████| 200/200 [00:20<00:00,  9.75it/s]\n"
     ]
    },
    {
     "name": "stdout",
     "output_type": "stream",
     "text": [
      "Evaluating Unfolded GAT Number 34\n",
      "Validation accuracy: 0.932\n",
      "Test accuracy: 0.869\n",
      "\n",
      "Training Unfolded GAT Number 35\n"
     ]
    },
    {
     "name": "stderr",
     "output_type": "stream",
     "text": [
      "100%|██████████| 200/200 [00:20<00:00,  9.54it/s]\n"
     ]
    },
    {
     "name": "stdout",
     "output_type": "stream",
     "text": [
      "Evaluating Unfolded GAT Number 35\n",
      "Validation accuracy: 0.912\n",
      "Test accuracy: 0.869\n",
      "\n",
      "Training Unfolded GAT Number 36\n"
     ]
    },
    {
     "name": "stderr",
     "output_type": "stream",
     "text": [
      "100%|██████████| 200/200 [00:21<00:00,  9.51it/s]\n"
     ]
    },
    {
     "name": "stdout",
     "output_type": "stream",
     "text": [
      "Evaluating Unfolded GAT Number 36\n",
      "Validation accuracy: 0.903\n",
      "Test accuracy: 0.869\n",
      "\n",
      "Training Unfolded GAT Number 37\n"
     ]
    },
    {
     "name": "stderr",
     "output_type": "stream",
     "text": [
      "100%|██████████| 200/200 [00:20<00:00,  9.68it/s]\n"
     ]
    },
    {
     "name": "stdout",
     "output_type": "stream",
     "text": [
      "Evaluating Unfolded GAT Number 37\n",
      "Validation accuracy: 0.938\n",
      "Test accuracy: 0.870\n",
      "\n",
      "Training Unfolded GAT Number 38\n"
     ]
    },
    {
     "name": "stderr",
     "output_type": "stream",
     "text": [
      "100%|██████████| 200/200 [00:20<00:00,  9.56it/s]\n"
     ]
    },
    {
     "name": "stdout",
     "output_type": "stream",
     "text": [
      "Evaluating Unfolded GAT Number 38\n",
      "Validation accuracy: 0.929\n",
      "Test accuracy: 0.870\n",
      "\n",
      "Training Unfolded GAT Number 39\n"
     ]
    },
    {
     "name": "stderr",
     "output_type": "stream",
     "text": [
      "100%|██████████| 200/200 [00:20<00:00,  9.54it/s]\n"
     ]
    },
    {
     "name": "stdout",
     "output_type": "stream",
     "text": [
      "Evaluating Unfolded GAT Number 39\n",
      "Validation accuracy: 0.932\n",
      "Test accuracy: 0.871\n",
      "\n",
      "Training Unfolded GAT Number 40\n"
     ]
    },
    {
     "name": "stderr",
     "output_type": "stream",
     "text": [
      "100%|██████████| 200/200 [00:20<00:00,  9.66it/s]\n"
     ]
    },
    {
     "name": "stdout",
     "output_type": "stream",
     "text": [
      "Evaluating Unfolded GAT Number 40\n",
      "Validation accuracy: 0.881\n",
      "Test accuracy: 0.870\n",
      "\n",
      "Training Unfolded GAT Number 41\n"
     ]
    },
    {
     "name": "stderr",
     "output_type": "stream",
     "text": [
      "100%|██████████| 200/200 [00:20<00:00,  9.58it/s]\n"
     ]
    },
    {
     "name": "stdout",
     "output_type": "stream",
     "text": [
      "Evaluating Unfolded GAT Number 41\n",
      "Validation accuracy: 0.932\n",
      "Test accuracy: 0.870\n",
      "\n",
      "Training Unfolded GAT Number 42\n"
     ]
    },
    {
     "name": "stderr",
     "output_type": "stream",
     "text": [
      "100%|██████████| 200/200 [00:20<00:00,  9.67it/s]\n"
     ]
    },
    {
     "name": "stdout",
     "output_type": "stream",
     "text": [
      "Evaluating Unfolded GAT Number 42\n",
      "Validation accuracy: 0.878\n",
      "Test accuracy: 0.870\n",
      "\n",
      "Training Unfolded GAT Number 43\n"
     ]
    },
    {
     "name": "stderr",
     "output_type": "stream",
     "text": [
      "100%|██████████| 200/200 [00:20<00:00,  9.57it/s]\n"
     ]
    },
    {
     "name": "stdout",
     "output_type": "stream",
     "text": [
      "Evaluating Unfolded GAT Number 43\n",
      "Validation accuracy: 0.892\n",
      "Test accuracy: 0.869\n",
      "\n",
      "Training Unfolded GAT Number 44\n"
     ]
    },
    {
     "name": "stderr",
     "output_type": "stream",
     "text": [
      "100%|██████████| 200/200 [00:20<00:00,  9.55it/s]\n"
     ]
    },
    {
     "name": "stdout",
     "output_type": "stream",
     "text": [
      "Evaluating Unfolded GAT Number 44\n",
      "Validation accuracy: 0.855\n",
      "Test accuracy: 0.869\n",
      "\n",
      "Training Unfolded GAT Number 45\n"
     ]
    },
    {
     "name": "stderr",
     "output_type": "stream",
     "text": [
      "100%|██████████| 200/200 [00:21<00:00,  9.49it/s]\n"
     ]
    },
    {
     "name": "stdout",
     "output_type": "stream",
     "text": [
      "Evaluating Unfolded GAT Number 45\n",
      "Validation accuracy: 0.915\n",
      "Test accuracy: 0.869\n",
      "\n",
      "Training Unfolded GAT Number 46\n"
     ]
    },
    {
     "name": "stderr",
     "output_type": "stream",
     "text": [
      "100%|██████████| 200/200 [00:20<00:00,  9.56it/s]\n"
     ]
    },
    {
     "name": "stdout",
     "output_type": "stream",
     "text": [
      "Evaluating Unfolded GAT Number 46\n",
      "Validation accuracy: 0.915\n",
      "Test accuracy: 0.869\n",
      "\n",
      "Training Unfolded GAT Number 47\n"
     ]
    },
    {
     "name": "stderr",
     "output_type": "stream",
     "text": [
      "100%|██████████| 200/200 [00:20<00:00,  9.67it/s]\n"
     ]
    },
    {
     "name": "stdout",
     "output_type": "stream",
     "text": [
      "Evaluating Unfolded GAT Number 47\n",
      "Validation accuracy: 0.929\n",
      "Test accuracy: 0.870\n",
      "\n",
      "Training Unfolded GAT Number 48\n"
     ]
    },
    {
     "name": "stderr",
     "output_type": "stream",
     "text": [
      "100%|██████████| 200/200 [00:20<00:00,  9.62it/s]\n"
     ]
    },
    {
     "name": "stdout",
     "output_type": "stream",
     "text": [
      "Evaluating Unfolded GAT Number 48\n",
      "Validation accuracy: 0.935\n",
      "Test accuracy: 0.870\n",
      "\n",
      "Training Unfolded GAT Number 49\n"
     ]
    },
    {
     "name": "stderr",
     "output_type": "stream",
     "text": [
      "100%|██████████| 200/200 [00:20<00:00,  9.55it/s]"
     ]
    },
    {
     "name": "stdout",
     "output_type": "stream",
     "text": [
      "Evaluating Unfolded GAT Number 49\n",
      "Validation accuracy: 0.906\n",
      "Test accuracy: 0.870\n",
      "CPU times: user 3h 49min 8s, sys: 13.9 s, total: 3h 49min 21s\n",
      "Wall time: 43min 29s\n"
     ]
    },
    {
     "name": "stderr",
     "output_type": "stream",
     "text": [
      "\n"
     ]
    }
   ],
   "source": [
    "%%time\n",
    "\n",
    "for (method, GNN_model) in product(methods, GNN_models):\n",
    "        \n",
    "    for i in range(num_train_semi_ind):\n",
    "        # Split data into training/validation/calibration/test\n",
    "        train_mask, valid_mask, calib_mask, test_mask = mask_split(data_mask, props, seed=i, mode='semi-inductive')\n",
    "        \n",
    "        if method == 'BD':\n",
    "            method_str = 'Block Diagonal'\n",
    "            data = dataset_BD\n",
    "        if method == 'UA':\n",
    "            method_str = 'Unfolded'\n",
    "            data = dataset_UA\n",
    "            # Pad masks to include anchor nodes\n",
    "            train_mask = np.concatenate((np.array([False] * n), train_mask))\n",
    "            valid_mask = np.concatenate((np.array([False] * n), valid_mask))\n",
    "            calib_mask = np.concatenate((np.array([False] * n), calib_mask))\n",
    "            test_mask  = np.concatenate((np.array([False] * n), test_mask))\n",
    "        \n",
    "        if GNN_model == 'GCN':\n",
    "            model = GCN(data.num_nodes, num_channels_GCN, num_classes, seed=i)\n",
    "        if GNN_model == 'GAT':\n",
    "            model = GAT(data.num_nodes, num_channels_GAT, num_classes, seed=i)\n",
    "            \n",
    "        optimizer = torch.optim.Adam(model.parameters(), lr=learning_rate, weight_decay=weight_decay)\n",
    "\n",
    "        print(f'\\nTraining {method_str} {GNN_model} Number {i}')\n",
    "        max_valid_acc = 0\n",
    "    \n",
    "        for epoch in tqdm(range(num_epochs)):\n",
    "            train_loss = train(model, data, train_mask)\n",
    "            valid_acc  = valid(model, data, valid_mask)\n",
    "\n",
    "            if valid_acc > max_valid_acc:\n",
    "                max_valid_acc = valid_acc\n",
    "                best_model = copy.deepcopy(model)\n",
    "    \n",
    "        print(f'Evaluating {method_str} {GNN_model} Number {i}')\n",
    "        print(f'Validation accuracy: {max_valid_acc:0.3f}')\n",
    "        output = best_model(data.x, data.edge_index)\n",
    "        \n",
    "        # Cannot permute the calibration and test datasets in semi-inductive experiments\n",
    "        \n",
    "        pred_sets = get_prediction_sets(output, data, calib_mask, test_mask, alpha)\n",
    "        \n",
    "        results[method][GNN_model]['Semi-Ind']['Accuracy']['All'].append(accuracy(output, data, test_mask))\n",
    "        results[method][GNN_model]['Semi-Ind']['Avg Size']['All'].append(avg_set_size(pred_sets, test_mask))\n",
    "        results[method][GNN_model]['Semi-Ind']['Coverage']['All'].append(coverage(pred_sets, data, test_mask))\n",
    "        \n",
    "        for t in range(T):\n",
    "            # Consider test nodes only at time t\n",
    "            if method == 'BD':\n",
    "                time_mask = np.array([[False] * n for _ in range(T)])\n",
    "                time_mask[t] = True; time_mask = time_mask.reshape(-1)\n",
    "            if method == 'UA':\n",
    "                time_mask = np.array([[False] * n for _ in range(T+1)])\n",
    "                time_mask[t+1] = True; time_mask = time_mask.reshape(-1)\n",
    "            \n",
    "            test_mask_t = time_mask * test_mask\n",
    "            if np.sum(test_mask_t) == 0:\n",
    "                continue\n",
    "            \n",
    "            # Get prediction sets corresponding to time t\n",
    "            pred_sets_t = pred_sets[np.array([np.where(np.where(test_mask)[0] == np.where(test_mask_t)[0][i])[0][0]\n",
    "                                                for i in range(sum(test_mask_t))])]\n",
    "            \n",
    "            results[method][GNN_model]['Semi-Ind']['Accuracy'][t].append(accuracy(output, data, test_mask_t))\n",
    "            results[method][GNN_model]['Semi-Ind']['Avg Size'][t].append(avg_set_size(pred_sets_t, test_mask_t))\n",
    "            results[method][GNN_model]['Semi-Ind']['Coverage'][t].append(coverage(pred_sets_t, data, test_mask_t))\n",
    "            \n",
    "        avg_test_acc = np.mean(results[method][GNN_model]['Semi-Ind']['Accuracy']['All'])\n",
    "        print(f'Test accuracy: {avg_test_acc:0.3f}')"
   ]
  },
  {
   "cell_type": "markdown",
   "id": "6bdd845b",
   "metadata": {},
   "source": [
    "Save results to pickle file."
   ]
  },
  {
   "cell_type": "code",
   "execution_count": 26,
   "id": "e8a11864",
   "metadata": {},
   "outputs": [],
   "source": [
    "with open(results_file, 'wb') as file:\n",
    "    pickle.dump(results, file)"
   ]
  }
 ],
 "metadata": {
  "kernelspec": {
   "display_name": "Python 3 (ipykernel)",
   "language": "python",
   "name": "python3"
  },
  "language_info": {
   "codemirror_mode": {
    "name": "ipython",
    "version": 3
   },
   "file_extension": ".py",
   "mimetype": "text/x-python",
   "name": "python",
   "nbconvert_exporter": "python",
   "pygments_lexer": "ipython3",
   "version": "3.10.2"
  }
 },
 "nbformat": 4,
 "nbformat_minor": 5
}
