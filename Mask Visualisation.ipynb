{
 "cells": [
  {
   "cell_type": "code",
   "execution_count": 12,
   "id": "2c93deb3-989e-4e54-a4d3-99efc7a85ee4",
   "metadata": {},
   "outputs": [],
   "source": [
    "import matplotlib.pyplot as plt\n",
    "from matplotlib import colors\n",
    "import numpy as np"
   ]
  },
  {
   "cell_type": "code",
   "execution_count": 13,
   "id": "5ca6633c-795e-454f-b3cb-0b8a34d453b6",
   "metadata": {},
   "outputs": [],
   "source": [
    "np.random.seed(42)"
   ]
  },
  {
   "cell_type": "code",
   "execution_count": 14,
   "id": "35512475-b098-4e72-b8c7-98f7b33c186a",
   "metadata": {},
   "outputs": [],
   "source": [
    "n = 5\n",
    "T = 20"
   ]
  },
  {
   "cell_type": "code",
   "execution_count": 36,
   "id": "f18c4ab9-6f65-47d0-94d6-9b63d8f7a24b",
   "metadata": {},
   "outputs": [],
   "source": [
    "num_train = int(0.20 * n * T)\n",
    "num_valid = int(0.10 * n * T)\n",
    "num_calib = int(0.35 * n * T)\n",
    "num_test  = int(0.35 * n * T)"
   ]
  },
  {
   "cell_type": "markdown",
   "id": "9b70d0d4-a6ca-4116-a0c1-0908db89fffe",
   "metadata": {},
   "source": [
    "#### Example masks"
   ]
  },
  {
   "cell_type": "code",
   "execution_count": 37,
   "id": "72961793-58a8-44da-b86f-ac1825f66793",
   "metadata": {},
   "outputs": [],
   "source": [
    "mask_trans = np.repeat([1, 2, 3, 4], [num_train, num_valid, num_calib, num_test])\n",
    "\n",
    "np.random.shuffle(mask_trans)\n",
    "mask_trans = mask_trans.reshape((T, n)).T"
   ]
  },
  {
   "cell_type": "code",
   "execution_count": 38,
   "id": "b28213f2-b9a1-4192-9fed-68fe7fbdc4a6",
   "metadata": {},
   "outputs": [],
   "source": [
    "mask_semi_ind_1 = np.repeat([1, 2, 3], [num_train, num_valid, num_calib])\n",
    "mask_semi_ind_2 = np.repeat(4, num_test)\n",
    "\n",
    "np.random.shuffle(mask_semi_ind_1)\n",
    "mask_semi_ind = np.concatenate([mask_semi_ind_1, mask_semi_ind_2]).reshape((T, n)).T"
   ]
  },
  {
   "cell_type": "code",
   "execution_count": 49,
   "id": "d91c95dd",
   "metadata": {},
   "outputs": [
    {
     "data": {
      "text/plain": [
       "64"
      ]
     },
     "execution_count": 49,
     "metadata": {},
     "output_type": "execute_result"
    }
   ],
   "source": [
    "num_train + num_valid "
   ]
  },
  {
   "cell_type": "code",
   "execution_count": 50,
   "id": "39f5f916",
   "metadata": {},
   "outputs": [
    {
     "data": {
      "text/plain": [
       "34"
      ]
     },
     "execution_count": 50,
     "metadata": {},
     "output_type": "execute_result"
    }
   ],
   "source": [
    "num_calib + num_test"
   ]
  },
  {
   "cell_type": "code",
   "execution_count": 51,
   "id": "e5c65dbb-c2de-4e07-bf37-38902e21d288",
   "metadata": {},
   "outputs": [],
   "source": [
    "num_train = int((0.65*(2/3)) * n * T)\n",
    "num_valid = int((0.65*(1/3)) * n * T) + 1\n",
    "num_calib = int(0.175 * n * T)\n",
    "num_test  = int(0.175 * n * T) + 1\n",
    "\n",
    "mask_temp_trans_1 = np.repeat([1, 2], [num_train, num_valid])\n",
    "mask_temp_trans_2 = np.repeat([3, 4], [num_calib, num_test])\n",
    "\n",
    "np.random.shuffle(mask_temp_trans_1)\n",
    "np.random.shuffle(mask_temp_trans_2)\n",
    "mask_temp_trans = np.concatenate([mask_temp_trans_1, mask_temp_trans_2]).reshape((T, n)).T"
   ]
  },
  {
   "cell_type": "markdown",
   "id": "17506a20-3c24-47e2-b46d-a9b8b7cdc493",
   "metadata": {},
   "source": [
    "#### Plot masks"
   ]
  },
  {
   "cell_type": "markdown",
   "id": "92659633-de21-4d11-be02-5316b639ace8",
   "metadata": {},
   "source": [
    "Create discrete colormap."
   ]
  },
  {
   "cell_type": "code",
   "execution_count": 52,
   "id": "3ed0f3ac-b7df-4f06-b490-6e421a8236b4",
   "metadata": {},
   "outputs": [],
   "source": [
    "cmap = colors.ListedColormap(['tab:red', 'tab:blue', 'tab:orange', 'tab:green'])\n",
    "bounds = [0.5, 1.5, 2.5, 3.5, 4.5]\n",
    "norm = colors.BoundaryNorm(bounds, cmap.N)"
   ]
  },
  {
   "cell_type": "markdown",
   "id": "51aa7434-0417-470d-a7ce-08cb76a46cf3",
   "metadata": {},
   "source": [
    "Create legend."
   ]
  },
  {
   "cell_type": "code",
   "execution_count": 53,
   "id": "fe9888ff-635a-462b-9552-58040dec1cac",
   "metadata": {},
   "outputs": [],
   "source": [
    "fig = plt.figure()\n",
    "handles = [plt.scatter([],[], color=cmap.colors[0], marker='s', s=16, label='Training'),\n",
    "           plt.scatter([],[], color=cmap.colors[1], marker='s', s=16, label='Validation'),\n",
    "           plt.scatter([],[], color=cmap.colors[2], marker='s', s=16, label='Calibration'),\n",
    "           plt.scatter([],[], color=cmap.colors[3], marker='s', s=16, label='Test')]\n",
    "plt.close()"
   ]
  },
  {
   "cell_type": "code",
   "execution_count": 54,
   "id": "11d5380b-bd9d-45bf-9430-ee15c91b3844",
   "metadata": {},
   "outputs": [],
   "source": [
    "save_plots = True"
   ]
  },
  {
   "cell_type": "code",
   "execution_count": 55,
   "id": "3d4a4ae8-c842-4421-8fd1-187a7c490a2e",
   "metadata": {},
   "outputs": [
    {
     "data": {
      "image/png": "[encoded data removed]",
      "text/plain": [
       "<Figure size 540x540 with 3 Axes>"
      ]
     },
     "metadata": {},
     "output_type": "display_data"
    }
   ],
   "source": [
    "fig, axs = plt.subplots(3, 1, figsize=(5.4, 5.4))\n",
    "\n",
    "axs[0].imshow(mask_trans, cmap=cmap, norm=norm)\n",
    "axs[1].imshow(mask_semi_ind, cmap=cmap, norm=norm)\n",
    "axs[2].imshow(mask_temp_trans, cmap=cmap, norm=norm)\n",
    "\n",
    "for t in range(3):\n",
    "    axs[t].grid(which='major', axis='both', linestyle='-', color='k', linewidth=1)\n",
    "    axs[t].set_xticks(np.arange(-0.5, T, 1)); axs[t].set_yticks(np.arange(-0.5, n, 1))\n",
    "    axs[t].set_xticklabels([]); axs[t].set_yticklabels([])\n",
    "    axs[t].set_xlabel('Time', fontsize=8)\n",
    "    axs[t].set_ylabel('Node', fontsize=8)\n",
    "\n",
    "axs[0].set_title('Transductive regime mask', fontsize=9)\n",
    "axs[1].set_title('Semi-inductive regime mask', fontsize=9)\n",
    "axs[2].set_title('Temporal transductive regime mask', fontsize=9)\n",
    "\n",
    "fig.legend(handles=handles, loc='lower center', ncol=4, fancybox=True, fontsize=8, handletextpad=0.1)\n",
    "plt.subplots_adjust(bottom = 0.07)\n",
    "\n",
    "plt.show\n",
    "\n",
    "if save_plots:\n",
    "    fig.savefig('Mask_Visualisation.pdf', bbox_inches=\"tight\")"
   ]
  }
 ],
 "metadata": {
  "kernelspec": {
   "display_name": "Python 3 (ipykernel)",
   "language": "python",
   "name": "python3"
  },
  "language_info": {
   "codemirror_mode": {
    "name": "ipython",
    "version": 3
   },
   "file_extension": ".py",
   "mimetype": "text/x-python",
   "name": "python",
   "nbconvert_exporter": "python",
   "pygments_lexer": "ipython3",
   "version": "3.10.2"
  }
 },
 "nbformat": 4,
 "nbformat_minor": 5
}
