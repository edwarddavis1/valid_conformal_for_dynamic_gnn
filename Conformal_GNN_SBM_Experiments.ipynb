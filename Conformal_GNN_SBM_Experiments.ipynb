{
 "cells": [
  {
   "cell_type": "code",
   "execution_count": 2,
   "id": "6a567e14",
   "metadata": {},
   "outputs": [],
   "source": [
    "import copy\n",
    "from itertools import product\n",
    "import numpy as np\n",
    "import pandas as pd\n",
    "import pickle\n",
    "from scipy.linalg import block_diag\n",
    "import spectral_embedding as se\n",
    "from tqdm import tqdm\n",
    "\n",
    "import torch\n",
    "from torch.functional import F\n",
    "\n",
    "import torch_geometric\n",
    "from torch_geometric.data import Data, Dataset\n",
    "from torch_geometric.nn import GATConv, GCNConv"
   ]
  },
  {
   "cell_type": "markdown",
   "id": "07af3c7b",
   "metadata": {},
   "source": [
    "## Experiment parameters"
   ]
  },
  {
   "cell_type": "code",
   "execution_count": 2,
   "id": "e888bd24",
   "metadata": {},
   "outputs": [],
   "source": [
    "# Training/validation/calibration/test dataset split sizes\n",
    "props = np.array([0.2, 0.1, 0.35, 0.35])\n",
    "\n",
    "# Target 1-coverage for conformal prediction\n",
    "alpha = 0.1\n",
    "\n",
    "# Number of experiments\n",
    "num_train_trans = 10\n",
    "num_permute_trans = 100\n",
    "num_train_semi_ind = 50\n",
    "\n",
    "# GNN model parameters\n",
    "num_epochs = 200\n",
    "num_channels_GCN = 16\n",
    "num_channels_GAT = 16\n",
    "learning_rate = 0.01\n",
    "weight_decay = 5e-4\n",
    "\n",
    "# Save results\n",
    "results_file = 'results/Conformal_GNN_SBM_Results_10_100_50.pkl'"
   ]
  },
  {
   "cell_type": "markdown",
   "id": "117653ba",
   "metadata": {},
   "source": [
    "## Generate dataset"
   ]
  },
  {
   "cell_type": "code",
   "execution_count": 3,
   "id": "9a0092e2",
   "metadata": {},
   "outputs": [],
   "source": [
    "np.random.seed(42)"
   ]
  },
  {
   "cell_type": "markdown",
   "id": "72b190f7",
   "metadata": {},
   "source": [
    "Set dynamic SBM parameters."
   ]
  },
  {
   "cell_type": "code",
   "execution_count": 4,
   "id": "3377dbed",
   "metadata": {},
   "outputs": [],
   "source": [
    "K = 3\n",
    "n = 100 * K\n",
    "T = 8\n",
    "pi = np.repeat(1/K, K)\n",
    "\n",
    "a = [0.08, 0.16]\n",
    "Bs = 0.02 * np.ones((T, K, K))\n",
    "\n",
    "T_list = [t for t in range(T)]\n",
    "np.random.shuffle(T_list)\n",
    "\n",
    "for t in range(T):\n",
    "    for k in range(K):\n",
    "        Bs[t, k, k] = a[(T_list[t] & (1 << k)) >> k]"
   ]
  },
  {
   "cell_type": "code",
   "execution_count": 5,
   "id": "2ae4ea16",
   "metadata": {},
   "outputs": [],
   "source": [
    "As, Z = se.generate_SBM_dynamic(n, Bs, pi)\n",
    "\n",
    "node_labels = np.tile(Z, T)\n",
    "num_classes = K"
   ]
  },
  {
   "cell_type": "code",
   "execution_count": null,
   "id": "fe0b4cb4",
   "metadata": {},
   "outputs": [],
   "source": [
    "# (For the dataset plotting script - not required for the experiments to run)\n",
    "\n",
    "from scipy import sparse\n",
    "\n",
    "As_sparse = [sparse.csr_matrix(A) for A in As]\n",
    "for i, A_sparse in enumerate(As_sparse):\n",
    "    sparse.save_npz(f\"datasets/sbm/sbm_As_{i}.npz\", A_sparse)\n",
    "\n",
    "np.save(f\"datasets/sbm/sbm_node_labels.npy\", node_labels)"
   ]
  },
  {
   "cell_type": "markdown",
   "id": "f3e13af4",
   "metadata": {},
   "source": [
    "## GNN functions"
   ]
  },
  {
   "cell_type": "markdown",
   "id": "cc892ea3",
   "metadata": {},
   "source": [
    "Dynamic network class that puts a list of adjacency matrices along with class labels into a pytorch geometric dataset. This is then used to create the block diagonal and dilated unfolded adjacency matrices for input into the graph neural networks. "
   ]
  },
  {
   "cell_type": "code",
   "execution_count": 6,
   "id": "5d22c634",
   "metadata": {},
   "outputs": [],
   "source": [
    "class Dynamic_Network(Dataset):\n",
    "    \"\"\"\n",
    "    A pytorch geometric dataset for a dynamic network.\n",
    "    \"\"\"\n",
    "\n",
    "    def __init__(self, As, labels):\n",
    "        self.As = As\n",
    "        self.T = As.shape[0]\n",
    "        self.n = As.shape[1]\n",
    "        self.classes = labels\n",
    "\n",
    "    def __len__(self):\n",
    "        return len(self.As)\n",
    "\n",
    "    def __getitem__(self, idx):\n",
    "        x = torch.tensor(np.eye(self.n), dtype=torch.float)\n",
    "        edge_index = torch.tensor(np.array([self.As[idx].nonzero()]), dtype=torch.long).reshape(2, -1)\n",
    "        y = torch.tensor(self.classes, dtype=torch.long)\n",
    "        \n",
    "        # Create a PyTorch Geometric data object\n",
    "        data = torch_geometric.data.Data(x=x, edge_index=edge_index, y=y)\n",
    "        data.num_nodes = self.n\n",
    "\n",
    "        return data"
   ]
  },
  {
   "cell_type": "code",
   "execution_count": 7,
   "id": "b67e9d1e",
   "metadata": {},
   "outputs": [],
   "source": [
    "class Block_Diagonal_Network(Dataset):\n",
    "    \"\"\"\n",
    "    A pytorch geometric dataset for the block diagonal version of a Dynamic Network object.\n",
    "    \"\"\"\n",
    "    \n",
    "    def __init__(self, dataset):\n",
    "        self.A = block_diag(*dataset.As)\n",
    "        self.T = dataset.T\n",
    "        self.n = dataset.n\n",
    "        self.classes = dataset.classes\n",
    "        \n",
    "    def __len__(self):\n",
    "        return 1\n",
    "    \n",
    "    def __getitem__(self, idx):\n",
    "        x = torch.tensor(np.eye(self.n * self.T), dtype=torch.float)\n",
    "        edge_index = torch.tensor(np.array([self.A.nonzero()]), dtype=torch.long).reshape(2, -1)\n",
    "        y = torch.tensor(self.classes, dtype=torch.long)\n",
    "        \n",
    "        # Create a PyTorch Geometric data object\n",
    "        data = torch_geometric.data.Data(x=x, edge_index=edge_index, y=y)\n",
    "        data.num_nodes = self.n * self.T\n",
    "\n",
    "        return data"
   ]
  },
  {
   "cell_type": "code",
   "execution_count": 8,
   "id": "055d2853",
   "metadata": {},
   "outputs": [],
   "source": [
    "class Unfolded_Network(Dataset):\n",
    "    \"\"\"\n",
    "    A pytorch geometric dataset for the dilated unfolding of a Dynamic Network object.\n",
    "    \"\"\"\n",
    "    \n",
    "    def __init__(self, dataset):\n",
    "        self.A_unf = np.block([dataset.As[t] for t in range(dataset.T)])\n",
    "        self.A = np.block([[np.zeros((dataset.n, dataset.n)), self.A_unf],\n",
    "                           [self.A_unf.T, np.zeros((dataset.n * dataset.T, dataset.n * dataset.T))]])\n",
    "        self.T = dataset.T\n",
    "        self.n = dataset.n\n",
    "        self.classes = dataset.classes\n",
    "        \n",
    "    def __len__(self):\n",
    "        return 1\n",
    "    \n",
    "    def __getitem__(self, idx):\n",
    "        x = torch.tensor(np.eye(self.n * (self.T + 1)), dtype=torch.float)\n",
    "        edge_index = torch.tensor(np.array([self.A.nonzero()]), dtype=torch.long).reshape(2, -1)\n",
    "        y = torch.tensor(np.concatenate((np.zeros(self.n), self.classes)), dtype=torch.long)\n",
    "        \n",
    "        # Create a PyTorch Geometric data object\n",
    "        data = torch_geometric.data.Data(x=x, edge_index=edge_index, y=y)\n",
    "        data.num_nodes = self.n * (self.T + 1)\n",
    "\n",
    "        return data"
   ]
  },
  {
   "cell_type": "code",
   "execution_count": 9,
   "id": "9d24e2b9",
   "metadata": {},
   "outputs": [],
   "source": [
    "dataset = Dynamic_Network(As, node_labels)\n",
    "dataset_BD = Block_Diagonal_Network(dataset)[0]\n",
    "dataset_UA = Unfolded_Network(dataset)[0]"
   ]
  },
  {
   "cell_type": "markdown",
   "id": "2b2beba0",
   "metadata": {},
   "source": [
    "Define general GCN and GAT neural networks to be applied to both the block diagonal and dilated unfolded networks."
   ]
  },
  {
   "cell_type": "code",
   "execution_count": 10,
   "id": "b44241ba",
   "metadata": {},
   "outputs": [],
   "source": [
    "class GCN(torch.nn.Module):\n",
    "    def __init__(self, num_nodes, num_channels, num_classes, seed):\n",
    "        super().__init__()\n",
    "        torch.manual_seed(seed)\n",
    "        self.conv1 = GCNConv(num_nodes, num_channels)\n",
    "        self.conv2 = GCNConv(num_channels, num_classes)\n",
    "\n",
    "    def forward(self, x, edge_index):\n",
    "        x = self.conv1(x, edge_index)\n",
    "        x = x.relu()\n",
    "        x = F.dropout(x, p=0.5, training=self.training)\n",
    "        x = self.conv2(x, edge_index)\n",
    "        \n",
    "        return x\n",
    "\n",
    "    \n",
    "class GAT(torch.nn.Module):\n",
    "    def __init__(self, num_nodes, num_channels, num_classes, seed):\n",
    "        super().__init__()\n",
    "        torch.manual_seed(seed)\n",
    "        self.conv1 = GATConv(num_nodes, num_channels)\n",
    "        self.conv2 = GATConv(num_channels, num_classes)\n",
    "\n",
    "    def forward(self, x, edge_index):\n",
    "        x = self.conv1(x, edge_index)\n",
    "        x = x.relu()\n",
    "        x = F.dropout(x, p=0.5, training=self.training)\n",
    "        x = self.conv2(x, edge_index)\n",
    "        \n",
    "        return x"
   ]
  },
  {
   "cell_type": "code",
   "execution_count": 11,
   "id": "c18182c1",
   "metadata": {},
   "outputs": [],
   "source": [
    "def train(model, data, train_mask):\n",
    "    model.train()\n",
    "    optimizer.zero_grad()\n",
    "    criterion = torch.nn.CrossEntropyLoss()\n",
    "    \n",
    "    out = model(data.x, data.edge_index)\n",
    "    loss = criterion(out[train_mask], data.y[train_mask])\n",
    "    loss.backward()\n",
    "    optimizer.step()\n",
    "    \n",
    "    return loss\n",
    "\n",
    "\n",
    "def valid(model, data, valid_mask):\n",
    "    model.eval()\n",
    "    \n",
    "    out = model(data.x, data.edge_index)\n",
    "    pred = out.argmax(dim = 1)\n",
    "    correct = pred[valid_mask] == data.y[valid_mask]\n",
    "    acc = int(correct.sum()) / int(valid_mask.sum())\n",
    "    \n",
    "    return acc"
   ]
  },
  {
   "cell_type": "markdown",
   "id": "69f1ae89",
   "metadata": {},
   "source": [
    "## Data split functions"
   ]
  },
  {
   "cell_type": "markdown",
   "id": "e4439dc0",
   "metadata": {},
   "source": [
    "Create a data mask that consists only of useful nodes for training and testing. We only consider nodes in a particular time window if it has degree greater than zero at that time window."
   ]
  },
  {
   "cell_type": "code",
   "execution_count": 12,
   "id": "67450d0e",
   "metadata": {},
   "outputs": [
    {
     "name": "stdout",
     "output_type": "stream",
     "text": [
      "Percentage of usable node/time pairs: 100.0%\n"
     ]
    }
   ],
   "source": [
    "data_mask = np.array([[True] * T for _ in range(n)])\n",
    "\n",
    "for t in range(T):\n",
    "    data_mask[np.where(np.sum(As[t], axis=0) == 0)[0], t] = False\n",
    "\n",
    "print(f'Percentage of usable node/time pairs: {100 * np.sum(data_mask) / (n * T) :02.1f}%')"
   ]
  },
  {
   "cell_type": "code",
   "execution_count": 13,
   "id": "4cc03c8b",
   "metadata": {},
   "outputs": [],
   "source": [
    "def mask_split(mask, split_props, seed=0, mode='transductive'):\n",
    "    np.random.seed(seed)\n",
    "    \n",
    "    n, T = mask.shape\n",
    "    \n",
    "    if mode == 'transductive':\n",
    "        # Flatten mask array into one dimension in blocks of nodes per time\n",
    "        flat_mask = mask.T.reshape(-1)\n",
    "        n_masks = np.sum(flat_mask)\n",
    "        \n",
    "        # Split shuffled flatten mask array indices into correct proportions\n",
    "        flat_mask_idx = np.where(flat_mask)[0]\n",
    "        np.random.shuffle(flat_mask_idx)\n",
    "        split_ns = np.cumsum([round(n_masks * prop) for prop in split_props[:-1]])\n",
    "        split_idx = np.split(flat_mask_idx, split_ns)\n",
    "        \n",
    "    if mode == 'semi-inductive':\n",
    "        # Find time such that final proportion of masks happen after that time\n",
    "        T_trunc = np.where(np.cumsum(np.sum(mask, axis=0) / np.sum(mask)) >= 1 - split_props[-1])[0][0]\n",
    "        \n",
    "        # Flatten mask arrays into one dimension in blocks of nodes per time\n",
    "        flat_mask_start = mask[:, :T_trunc].T.reshape(-1)\n",
    "        flat_mask_end = mask[:, T_trunc:].T.reshape(-1)\n",
    "        n_masks_start = np.sum(flat_mask_start)\n",
    "        \n",
    "        # Split starting shuffled flatten mask array into correct proportions\n",
    "        flat_mask_start_idx = np.where(flat_mask_start)[0]\n",
    "        np.random.shuffle(flat_mask_start_idx)\n",
    "        split_props_start = split_props[:-1] / np.sum(split_props[:-1])\n",
    "        split_ns = np.cumsum([round(n_masks_start * prop) for prop in split_props_start[:-1]])\n",
    "        split_idx = np.split(flat_mask_start_idx, split_ns)\n",
    "    \n",
    "        # Place finishing flatten mask array at the end\n",
    "        split_idx.append(n * T_trunc + np.where(flat_mask_end)[0])\n",
    "    \n",
    "    split_masks = np.array([[False] * n * T for _ in range(len(split_props))])\n",
    "    for i in range(len(split_props)):\n",
    "        split_masks[i, split_idx[i]] = True\n",
    "        \n",
    "    return split_masks"
   ]
  },
  {
   "cell_type": "code",
   "execution_count": 14,
   "id": "d6007f34",
   "metadata": {},
   "outputs": [],
   "source": [
    "def mask_mix(mask_1, mask_2, seed=0):\n",
    "    np.random.seed(seed)\n",
    "    \n",
    "    n  = len(mask_1) \n",
    "    n1 = np.sum(mask_1)\n",
    "    n2 = np.sum(mask_2)\n",
    "    \n",
    "    mask_idx = np.where(mask_1 + mask_2)[0]\n",
    "    np.random.shuffle(mask_idx)\n",
    "    split_idx = np.split(mask_idx, [n1])\n",
    "    \n",
    "    split_masks = np.array([[False] * n for _ in range(2)])\n",
    "    for i in range(2):\n",
    "        split_masks[i, split_idx[i]] = True\n",
    "        \n",
    "    return split_masks"
   ]
  },
  {
   "cell_type": "markdown",
   "id": "23074246",
   "metadata": {},
   "source": [
    "Testing the training/validation/calibration/test data split functions."
   ]
  },
  {
   "cell_type": "code",
   "execution_count": 15,
   "id": "5b406a80",
   "metadata": {},
   "outputs": [
    {
     "name": "stdout",
     "output_type": "stream",
     "text": [
      "Percentage train: 19.2%\n",
      "Percentage valid: 9.6%\n",
      "Percentage calib: 33.6%\n",
      "Percentage test:  37.5%\n"
     ]
    }
   ],
   "source": [
    "props = np.array([0.2, 0.1, 0.35, 0.35])\n",
    "train_mask, valid_mask, calib_mask, test_mask = mask_split(data_mask, props, mode='semi-inductive')\n",
    "\n",
    "print(f'Percentage train: {100 * np.sum(train_mask) / np.sum(data_mask) :02.1f}%')\n",
    "print(f'Percentage valid: {100 * np.sum(valid_mask) / np.sum(data_mask) :02.1f}%')\n",
    "print(f'Percentage calib: {100 * np.sum(calib_mask) / np.sum(data_mask) :02.1f}%')\n",
    "print(f'Percentage test:  {100 * np.sum(test_mask)  / np.sum(data_mask) :02.1f}%')"
   ]
  },
  {
   "cell_type": "markdown",
   "id": "940f5f9c",
   "metadata": {},
   "source": [
    "## Conformal prediction functions"
   ]
  },
  {
   "cell_type": "code",
   "execution_count": 16,
   "id": "5befd80a",
   "metadata": {},
   "outputs": [],
   "source": [
    "def get_prediction_sets(output, data, calib_mask, test_mask, alpha=0.1):\n",
    "    n_calib = calib_mask.sum()\n",
    "    \n",
    "    # Compute softmax probabilities\n",
    "    smx = torch.nn.Softmax(dim=1)\n",
    "    calib_heuristic = smx(output[calib_mask]).detach().numpy()\n",
    "    test_heuristic = smx(output[test_mask]).detach().numpy()\n",
    "    \n",
    "    # APS\n",
    "    calib_pi = calib_heuristic.argsort(1)[:,::-1]\n",
    "    calib_srt = np.take_along_axis(calib_heuristic, calib_pi, axis=1).cumsum(axis=1)\n",
    "    calib_scores = np.take_along_axis(calib_srt, calib_pi.argsort(axis=1), axis=1)[\n",
    "        range(n_calib), data.y[calib_mask]\n",
    "    ]\n",
    "    \n",
    "    # Get the score quantile\n",
    "    qhat = np.quantile(calib_scores, np.ceil((n_calib + 1) * (1 - alpha)) / n_calib, method='higher')\n",
    "    \n",
    "    test_pi = test_heuristic.argsort(1)[:,::-1]\n",
    "    test_srt = np.take_along_axis(test_heuristic, test_pi, axis=1).cumsum(axis=1)\n",
    "    pred_sets = np.take_along_axis(test_srt <= qhat, test_pi.argsort(axis=1), axis=1)\n",
    "    \n",
    "    return pred_sets"
   ]
  },
  {
   "cell_type": "code",
   "execution_count": 17,
   "id": "0cc8d052",
   "metadata": {},
   "outputs": [],
   "source": [
    "def accuracy(output, data, test_mask):\n",
    "    pred = output.argmax(dim=1)\n",
    "    correct = pred[test_mask] == data.y[test_mask]\n",
    "    acc = int(correct.sum()) / int(test_mask.sum())\n",
    "    \n",
    "    return acc"
   ]
  },
  {
   "cell_type": "code",
   "execution_count": 18,
   "id": "78003393",
   "metadata": {},
   "outputs": [],
   "source": [
    "def avg_set_size(pred_sets, test_mask):\n",
    "    return np.mean(np.sum(pred_sets, axis=1))"
   ]
  },
  {
   "cell_type": "code",
   "execution_count": 19,
   "id": "64159b28",
   "metadata": {},
   "outputs": [],
   "source": [
    "def coverage(pred_sets, data, test_mask):\n",
    "    in_set = np.array([pred_set[label] for pred_set, label in zip(pred_sets, data.y[test_mask])])\n",
    "    \n",
    "    return np.mean(in_set)"
   ]
  },
  {
   "cell_type": "markdown",
   "id": "ab670821",
   "metadata": {},
   "source": [
    "## GNN training"
   ]
  },
  {
   "cell_type": "markdown",
   "id": "9d18d856",
   "metadata": {},
   "source": [
    "Initiate nested results data structure."
   ]
  },
  {
   "cell_type": "code",
   "execution_count": 20,
   "id": "247efd9a",
   "metadata": {},
   "outputs": [],
   "source": [
    "results = {}\n",
    "\n",
    "methods = ['BD', 'UA']\n",
    "GNN_models = ['GCN', 'GAT']\n",
    "regimes = ['Trans', 'Semi-Ind']\n",
    "outputs = ['Accuracy', 'Avg Size', 'Coverage']\n",
    "times = ['All'] + list(range(T))\n",
    "\n",
    "for method in methods:\n",
    "    results[method] = {}\n",
    "    \n",
    "    for GNN_model in GNN_models:\n",
    "        results[method][GNN_model] = {}\n",
    "        \n",
    "        for regime in regimes:\n",
    "            results[method][GNN_model][regime] = {}\n",
    "            \n",
    "            for output in outputs:\n",
    "                results[method][GNN_model][regime][output] = {}\n",
    "                \n",
    "                for time in times:\n",
    "                    results[method][GNN_model][regime][output][time] = []"
   ]
  },
  {
   "cell_type": "markdown",
   "id": "11d10124",
   "metadata": {},
   "source": [
    "### Transductive experiments"
   ]
  },
  {
   "cell_type": "code",
   "execution_count": 21,
   "id": "9b0d6e03",
   "metadata": {
    "scrolled": true
   },
   "outputs": [
    {
     "name": "stdout",
     "output_type": "stream",
     "text": [
      "\n",
      "Training Block Diagonal GCN Number 0\n"
     ]
    },
    {
     "name": "stderr",
     "output_type": "stream",
     "text": [
      "100%|█████████████████████████████████████████████████████████████| 200/200 [00:12<00:00, 16.43it/s]\n"
     ]
    },
    {
     "name": "stdout",
     "output_type": "stream",
     "text": [
      "Validation accuracy: 0.963\n",
      "Evaluating Block Diagonal GCN Number 0\n"
     ]
    },
    {
     "name": "stderr",
     "output_type": "stream",
     "text": [
      "100%|████████████████████████████████████████████████████████████| 100/100 [00:00<00:00, 114.57it/s]\n"
     ]
    },
    {
     "name": "stdout",
     "output_type": "stream",
     "text": [
      "Test accuracy: 0.965\n",
      "\n",
      "Training Block Diagonal GCN Number 1\n"
     ]
    },
    {
     "name": "stderr",
     "output_type": "stream",
     "text": [
      "100%|█████████████████████████████████████████████████████████████| 200/200 [00:10<00:00, 19.44it/s]\n"
     ]
    },
    {
     "name": "stdout",
     "output_type": "stream",
     "text": [
      "Validation accuracy: 0.983\n",
      "Evaluating Block Diagonal GCN Number 1\n"
     ]
    },
    {
     "name": "stderr",
     "output_type": "stream",
     "text": [
      "100%|████████████████████████████████████████████████████████████| 100/100 [00:00<00:00, 115.51it/s]\n"
     ]
    },
    {
     "name": "stdout",
     "output_type": "stream",
     "text": [
      "Test accuracy: 0.969\n",
      "\n",
      "Training Block Diagonal GCN Number 2\n"
     ]
    },
    {
     "name": "stderr",
     "output_type": "stream",
     "text": [
      "100%|█████████████████████████████████████████████████████████████| 200/200 [00:10<00:00, 18.26it/s]\n"
     ]
    },
    {
     "name": "stdout",
     "output_type": "stream",
     "text": [
      "Validation accuracy: 0.988\n",
      "Evaluating Block Diagonal GCN Number 2\n"
     ]
    },
    {
     "name": "stderr",
     "output_type": "stream",
     "text": [
      "100%|████████████████████████████████████████████████████████████| 100/100 [00:00<00:00, 112.30it/s]\n"
     ]
    },
    {
     "name": "stdout",
     "output_type": "stream",
     "text": [
      "Test accuracy: 0.969\n",
      "\n",
      "Training Block Diagonal GCN Number 3\n"
     ]
    },
    {
     "name": "stderr",
     "output_type": "stream",
     "text": [
      "100%|█████████████████████████████████████████████████████████████| 200/200 [00:11<00:00, 16.79it/s]\n"
     ]
    },
    {
     "name": "stdout",
     "output_type": "stream",
     "text": [
      "Validation accuracy: 0.983\n",
      "Evaluating Block Diagonal GCN Number 3\n"
     ]
    },
    {
     "name": "stderr",
     "output_type": "stream",
     "text": [
      "100%|████████████████████████████████████████████████████████████| 100/100 [00:00<00:00, 108.43it/s]\n"
     ]
    },
    {
     "name": "stdout",
     "output_type": "stream",
     "text": [
      "Test accuracy: 0.968\n",
      "\n",
      "Training Block Diagonal GCN Number 4\n"
     ]
    },
    {
     "name": "stderr",
     "output_type": "stream",
     "text": [
      "100%|█████████████████████████████████████████████████████████████| 200/200 [00:10<00:00, 18.28it/s]\n"
     ]
    },
    {
     "name": "stdout",
     "output_type": "stream",
     "text": [
      "Validation accuracy: 0.954\n",
      "Evaluating Block Diagonal GCN Number 4\n"
     ]
    },
    {
     "name": "stderr",
     "output_type": "stream",
     "text": [
      "100%|████████████████████████████████████████████████████████████| 100/100 [00:00<00:00, 110.93it/s]\n"
     ]
    },
    {
     "name": "stdout",
     "output_type": "stream",
     "text": [
      "Test accuracy: 0.962\n",
      "\n",
      "Training Block Diagonal GCN Number 5\n"
     ]
    },
    {
     "name": "stderr",
     "output_type": "stream",
     "text": [
      "100%|█████████████████████████████████████████████████████████████| 200/200 [00:10<00:00, 18.45it/s]\n"
     ]
    },
    {
     "name": "stdout",
     "output_type": "stream",
     "text": [
      "Validation accuracy: 0.979\n",
      "Evaluating Block Diagonal GCN Number 5\n"
     ]
    },
    {
     "name": "stderr",
     "output_type": "stream",
     "text": [
      "100%|████████████████████████████████████████████████████████████| 100/100 [00:00<00:00, 111.68it/s]\n"
     ]
    },
    {
     "name": "stdout",
     "output_type": "stream",
     "text": [
      "Test accuracy: 0.964\n",
      "\n",
      "Training Block Diagonal GCN Number 6\n"
     ]
    },
    {
     "name": "stderr",
     "output_type": "stream",
     "text": [
      "100%|█████████████████████████████████████████████████████████████| 200/200 [00:10<00:00, 19.94it/s]\n"
     ]
    },
    {
     "name": "stdout",
     "output_type": "stream",
     "text": [
      "Validation accuracy: 0.979\n",
      "Evaluating Block Diagonal GCN Number 6\n"
     ]
    },
    {
     "name": "stderr",
     "output_type": "stream",
     "text": [
      "100%|████████████████████████████████████████████████████████████| 100/100 [00:00<00:00, 107.78it/s]\n"
     ]
    },
    {
     "name": "stdout",
     "output_type": "stream",
     "text": [
      "Test accuracy: 0.965\n",
      "\n",
      "Training Block Diagonal GCN Number 7\n"
     ]
    },
    {
     "name": "stderr",
     "output_type": "stream",
     "text": [
      "100%|█████████████████████████████████████████████████████████████| 200/200 [00:11<00:00, 17.73it/s]\n"
     ]
    },
    {
     "name": "stdout",
     "output_type": "stream",
     "text": [
      "Validation accuracy: 0.967\n",
      "Evaluating Block Diagonal GCN Number 7\n"
     ]
    },
    {
     "name": "stderr",
     "output_type": "stream",
     "text": [
      "100%|█████████████████████████████████████████████████████████████| 100/100 [00:01<00:00, 88.51it/s]\n"
     ]
    },
    {
     "name": "stdout",
     "output_type": "stream",
     "text": [
      "Test accuracy: 0.966\n",
      "\n",
      "Training Block Diagonal GCN Number 8\n"
     ]
    },
    {
     "name": "stderr",
     "output_type": "stream",
     "text": [
      "100%|█████████████████████████████████████████████████████████████| 200/200 [00:11<00:00, 17.76it/s]\n"
     ]
    },
    {
     "name": "stdout",
     "output_type": "stream",
     "text": [
      "Validation accuracy: 0.979\n",
      "Evaluating Block Diagonal GCN Number 8\n"
     ]
    },
    {
     "name": "stderr",
     "output_type": "stream",
     "text": [
      "100%|█████████████████████████████████████████████████████████████| 100/100 [00:01<00:00, 85.19it/s]\n"
     ]
    },
    {
     "name": "stdout",
     "output_type": "stream",
     "text": [
      "Test accuracy: 0.965\n",
      "\n",
      "Training Block Diagonal GCN Number 9\n"
     ]
    },
    {
     "name": "stderr",
     "output_type": "stream",
     "text": [
      "100%|█████████████████████████████████████████████████████████████| 200/200 [00:12<00:00, 16.25it/s]\n"
     ]
    },
    {
     "name": "stdout",
     "output_type": "stream",
     "text": [
      "Validation accuracy: 0.979\n",
      "Evaluating Block Diagonal GCN Number 9\n"
     ]
    },
    {
     "name": "stderr",
     "output_type": "stream",
     "text": [
      "100%|█████████████████████████████████████████████████████████████| 100/100 [00:01<00:00, 89.20it/s]\n"
     ]
    },
    {
     "name": "stdout",
     "output_type": "stream",
     "text": [
      "Test accuracy: 0.964\n",
      "\n",
      "Training Block Diagonal GAT Number 0\n"
     ]
    },
    {
     "name": "stderr",
     "output_type": "stream",
     "text": [
      "100%|█████████████████████████████████████████████████████████████| 200/200 [00:14<00:00, 13.42it/s]\n"
     ]
    },
    {
     "name": "stdout",
     "output_type": "stream",
     "text": [
      "Validation accuracy: 0.896\n",
      "Evaluating Block Diagonal GAT Number 0\n"
     ]
    },
    {
     "name": "stderr",
     "output_type": "stream",
     "text": [
      "100%|█████████████████████████████████████████████████████████████| 100/100 [00:01<00:00, 87.41it/s]\n"
     ]
    },
    {
     "name": "stdout",
     "output_type": "stream",
     "text": [
      "Test accuracy: 0.902\n",
      "\n",
      "Training Block Diagonal GAT Number 1\n"
     ]
    },
    {
     "name": "stderr",
     "output_type": "stream",
     "text": [
      "100%|█████████████████████████████████████████████████████████████| 200/200 [00:18<00:00, 10.78it/s]\n"
     ]
    },
    {
     "name": "stdout",
     "output_type": "stream",
     "text": [
      "Validation accuracy: 0.950\n",
      "Evaluating Block Diagonal GAT Number 1\n"
     ]
    },
    {
     "name": "stderr",
     "output_type": "stream",
     "text": [
      "100%|█████████████████████████████████████████████████████████████| 100/100 [00:01<00:00, 99.01it/s]\n"
     ]
    },
    {
     "name": "stdout",
     "output_type": "stream",
     "text": [
      "Test accuracy: 0.917\n",
      "\n",
      "Training Block Diagonal GAT Number 2\n"
     ]
    },
    {
     "name": "stderr",
     "output_type": "stream",
     "text": [
      "100%|█████████████████████████████████████████████████████████████| 200/200 [00:16<00:00, 11.96it/s]\n"
     ]
    },
    {
     "name": "stdout",
     "output_type": "stream",
     "text": [
      "Validation accuracy: 0.958\n",
      "Evaluating Block Diagonal GAT Number 2\n"
     ]
    },
    {
     "name": "stderr",
     "output_type": "stream",
     "text": [
      "100%|████████████████████████████████████████████████████████████| 100/100 [00:00<00:00, 104.35it/s]\n"
     ]
    },
    {
     "name": "stdout",
     "output_type": "stream",
     "text": [
      "Test accuracy: 0.926\n",
      "\n",
      "Training Block Diagonal GAT Number 3\n"
     ]
    },
    {
     "name": "stderr",
     "output_type": "stream",
     "text": [
      "100%|█████████████████████████████████████████████████████████████| 200/200 [00:17<00:00, 11.52it/s]\n"
     ]
    },
    {
     "name": "stdout",
     "output_type": "stream",
     "text": [
      "Validation accuracy: 0.967\n",
      "Evaluating Block Diagonal GAT Number 3\n"
     ]
    },
    {
     "name": "stderr",
     "output_type": "stream",
     "text": [
      "100%|████████████████████████████████████████████████████████████| 100/100 [00:00<00:00, 104.29it/s]\n"
     ]
    },
    {
     "name": "stdout",
     "output_type": "stream",
     "text": [
      "Test accuracy: 0.927\n",
      "\n",
      "Training Block Diagonal GAT Number 4\n"
     ]
    },
    {
     "name": "stderr",
     "output_type": "stream",
     "text": [
      "100%|█████████████████████████████████████████████████████████████| 200/200 [00:21<00:00,  9.37it/s]\n"
     ]
    },
    {
     "name": "stdout",
     "output_type": "stream",
     "text": [
      "Validation accuracy: 0.867\n",
      "Evaluating Block Diagonal GAT Number 4\n"
     ]
    },
    {
     "name": "stderr",
     "output_type": "stream",
     "text": [
      "100%|████████████████████████████████████████████████████████████| 100/100 [00:00<00:00, 106.26it/s]\n"
     ]
    },
    {
     "name": "stdout",
     "output_type": "stream",
     "text": [
      "Test accuracy: 0.911\n",
      "\n",
      "Training Block Diagonal GAT Number 5\n"
     ]
    },
    {
     "name": "stderr",
     "output_type": "stream",
     "text": [
      "100%|█████████████████████████████████████████████████████████████| 200/200 [00:24<00:00,  8.31it/s]\n"
     ]
    },
    {
     "name": "stdout",
     "output_type": "stream",
     "text": [
      "Validation accuracy: 0.925\n",
      "Evaluating Block Diagonal GAT Number 5\n"
     ]
    },
    {
     "name": "stderr",
     "output_type": "stream",
     "text": [
      "100%|████████████████████████████████████████████████████████████| 100/100 [00:00<00:00, 108.18it/s]\n"
     ]
    },
    {
     "name": "stdout",
     "output_type": "stream",
     "text": [
      "Test accuracy: 0.910\n",
      "\n",
      "Training Block Diagonal GAT Number 6\n"
     ]
    },
    {
     "name": "stderr",
     "output_type": "stream",
     "text": [
      "100%|█████████████████████████████████████████████████████████████| 200/200 [00:16<00:00, 11.92it/s]\n"
     ]
    },
    {
     "name": "stdout",
     "output_type": "stream",
     "text": [
      "Validation accuracy: 0.929\n",
      "Evaluating Block Diagonal GAT Number 6\n"
     ]
    },
    {
     "name": "stderr",
     "output_type": "stream",
     "text": [
      "100%|████████████████████████████████████████████████████████████| 100/100 [00:00<00:00, 105.14it/s]\n"
     ]
    },
    {
     "name": "stdout",
     "output_type": "stream",
     "text": [
      "Test accuracy: 0.914\n",
      "\n",
      "Training Block Diagonal GAT Number 7\n"
     ]
    },
    {
     "name": "stderr",
     "output_type": "stream",
     "text": [
      "100%|█████████████████████████████████████████████████████████████| 200/200 [00:16<00:00, 12.16it/s]\n"
     ]
    },
    {
     "name": "stdout",
     "output_type": "stream",
     "text": [
      "Validation accuracy: 0.917\n",
      "Evaluating Block Diagonal GAT Number 7\n"
     ]
    },
    {
     "name": "stderr",
     "output_type": "stream",
     "text": [
      "100%|████████████████████████████████████████████████████████████| 100/100 [00:00<00:00, 105.59it/s]\n"
     ]
    },
    {
     "name": "stdout",
     "output_type": "stream",
     "text": [
      "Test accuracy: 0.913\n",
      "\n",
      "Training Block Diagonal GAT Number 8\n"
     ]
    },
    {
     "name": "stderr",
     "output_type": "stream",
     "text": [
      "100%|█████████████████████████████████████████████████████████████| 200/200 [00:18<00:00, 10.83it/s]\n"
     ]
    },
    {
     "name": "stdout",
     "output_type": "stream",
     "text": [
      "Validation accuracy: 0.933\n",
      "Evaluating Block Diagonal GAT Number 8\n"
     ]
    },
    {
     "name": "stderr",
     "output_type": "stream",
     "text": [
      "100%|████████████████████████████████████████████████████████████| 100/100 [00:00<00:00, 104.33it/s]\n"
     ]
    },
    {
     "name": "stdout",
     "output_type": "stream",
     "text": [
      "Test accuracy: 0.914\n",
      "\n",
      "Training Block Diagonal GAT Number 9\n"
     ]
    },
    {
     "name": "stderr",
     "output_type": "stream",
     "text": [
      "100%|█████████████████████████████████████████████████████████████| 200/200 [00:17<00:00, 11.49it/s]\n"
     ]
    },
    {
     "name": "stdout",
     "output_type": "stream",
     "text": [
      "Validation accuracy: 0.912\n",
      "Evaluating Block Diagonal GAT Number 9\n"
     ]
    },
    {
     "name": "stderr",
     "output_type": "stream",
     "text": [
      "100%|████████████████████████████████████████████████████████████| 100/100 [00:00<00:00, 103.18it/s]\n"
     ]
    },
    {
     "name": "stdout",
     "output_type": "stream",
     "text": [
      "Test accuracy: 0.916\n",
      "\n",
      "Training Unfolded GCN Number 0\n"
     ]
    },
    {
     "name": "stderr",
     "output_type": "stream",
     "text": [
      "100%|█████████████████████████████████████████████████████████████| 200/200 [00:16<00:00, 12.25it/s]\n"
     ]
    },
    {
     "name": "stdout",
     "output_type": "stream",
     "text": [
      "Validation accuracy: 0.988\n",
      "Evaluating Unfolded GCN Number 0\n"
     ]
    },
    {
     "name": "stderr",
     "output_type": "stream",
     "text": [
      "100%|█████████████████████████████████████████████████████████████| 100/100 [00:01<00:00, 97.86it/s]\n"
     ]
    },
    {
     "name": "stdout",
     "output_type": "stream",
     "text": [
      "Test accuracy: 0.982\n",
      "\n",
      "Training Unfolded GCN Number 1\n"
     ]
    },
    {
     "name": "stderr",
     "output_type": "stream",
     "text": [
      "100%|█████████████████████████████████████████████████████████████| 200/200 [00:15<00:00, 12.89it/s]\n"
     ]
    },
    {
     "name": "stdout",
     "output_type": "stream",
     "text": [
      "Validation accuracy: 0.983\n",
      "Evaluating Unfolded GCN Number 1\n"
     ]
    },
    {
     "name": "stderr",
     "output_type": "stream",
     "text": [
      "100%|█████████████████████████████████████████████████████████████| 100/100 [00:01<00:00, 98.64it/s]\n"
     ]
    },
    {
     "name": "stdout",
     "output_type": "stream",
     "text": [
      "Test accuracy: 0.978\n",
      "\n",
      "Training Unfolded GCN Number 2\n"
     ]
    },
    {
     "name": "stderr",
     "output_type": "stream",
     "text": [
      "100%|█████████████████████████████████████████████████████████████| 200/200 [00:15<00:00, 12.81it/s]\n"
     ]
    },
    {
     "name": "stdout",
     "output_type": "stream",
     "text": [
      "Validation accuracy: 0.992\n",
      "Evaluating Unfolded GCN Number 2\n"
     ]
    },
    {
     "name": "stderr",
     "output_type": "stream",
     "text": [
      "100%|█████████████████████████████████████████████████████████████| 100/100 [00:01<00:00, 96.88it/s]\n"
     ]
    },
    {
     "name": "stdout",
     "output_type": "stream",
     "text": [
      "Test accuracy: 0.979\n",
      "\n",
      "Training Unfolded GCN Number 3\n"
     ]
    },
    {
     "name": "stderr",
     "output_type": "stream",
     "text": [
      "100%|█████████████████████████████████████████████████████████████| 200/200 [00:15<00:00, 12.89it/s]\n"
     ]
    },
    {
     "name": "stdout",
     "output_type": "stream",
     "text": [
      "Validation accuracy: 0.992\n",
      "Evaluating Unfolded GCN Number 3\n"
     ]
    },
    {
     "name": "stderr",
     "output_type": "stream",
     "text": [
      "100%|█████████████████████████████████████████████████████████████| 100/100 [00:01<00:00, 95.44it/s]\n"
     ]
    },
    {
     "name": "stdout",
     "output_type": "stream",
     "text": [
      "Test accuracy: 0.979\n",
      "\n",
      "Training Unfolded GCN Number 4\n"
     ]
    },
    {
     "name": "stderr",
     "output_type": "stream",
     "text": [
      "100%|█████████████████████████████████████████████████████████████| 200/200 [00:15<00:00, 13.02it/s]\n"
     ]
    },
    {
     "name": "stdout",
     "output_type": "stream",
     "text": [
      "Validation accuracy: 0.988\n",
      "Evaluating Unfolded GCN Number 4\n"
     ]
    },
    {
     "name": "stderr",
     "output_type": "stream",
     "text": [
      "100%|█████████████████████████████████████████████████████████████| 100/100 [00:01<00:00, 95.48it/s]\n"
     ]
    },
    {
     "name": "stdout",
     "output_type": "stream",
     "text": [
      "Test accuracy: 0.979\n",
      "\n",
      "Training Unfolded GCN Number 5\n"
     ]
    },
    {
     "name": "stderr",
     "output_type": "stream",
     "text": [
      "100%|█████████████████████████████████████████████████████████████| 200/200 [00:16<00:00, 12.20it/s]\n"
     ]
    },
    {
     "name": "stdout",
     "output_type": "stream",
     "text": [
      "Validation accuracy: 0.983\n",
      "Evaluating Unfolded GCN Number 5\n"
     ]
    },
    {
     "name": "stderr",
     "output_type": "stream",
     "text": [
      "100%|█████████████████████████████████████████████████████████████| 100/100 [00:01<00:00, 96.54it/s]\n"
     ]
    },
    {
     "name": "stdout",
     "output_type": "stream",
     "text": [
      "Test accuracy: 0.980\n",
      "\n",
      "Training Unfolded GCN Number 6\n"
     ]
    },
    {
     "name": "stderr",
     "output_type": "stream",
     "text": [
      "100%|█████████████████████████████████████████████████████████████| 200/200 [00:15<00:00, 12.93it/s]\n"
     ]
    },
    {
     "name": "stdout",
     "output_type": "stream",
     "text": [
      "Validation accuracy: 0.996\n",
      "Evaluating Unfolded GCN Number 6\n"
     ]
    },
    {
     "name": "stderr",
     "output_type": "stream",
     "text": [
      "100%|█████████████████████████████████████████████████████████████| 100/100 [00:01<00:00, 89.35it/s]\n"
     ]
    },
    {
     "name": "stdout",
     "output_type": "stream",
     "text": [
      "Test accuracy: 0.980\n",
      "\n",
      "Training Unfolded GCN Number 7\n"
     ]
    },
    {
     "name": "stderr",
     "output_type": "stream",
     "text": [
      "100%|█████████████████████████████████████████████████████████████| 200/200 [00:16<00:00, 12.02it/s]\n"
     ]
    },
    {
     "name": "stdout",
     "output_type": "stream",
     "text": [
      "Validation accuracy: 0.983\n",
      "Evaluating Unfolded GCN Number 7\n"
     ]
    },
    {
     "name": "stderr",
     "output_type": "stream",
     "text": [
      "100%|█████████████████████████████████████████████████████████████| 100/100 [00:01<00:00, 98.11it/s]\n"
     ]
    },
    {
     "name": "stdout",
     "output_type": "stream",
     "text": [
      "Test accuracy: 0.980\n",
      "\n",
      "Training Unfolded GCN Number 8\n"
     ]
    },
    {
     "name": "stderr",
     "output_type": "stream",
     "text": [
      "100%|█████████████████████████████████████████████████████████████| 200/200 [00:17<00:00, 11.72it/s]\n"
     ]
    },
    {
     "name": "stdout",
     "output_type": "stream",
     "text": [
      "Validation accuracy: 0.992\n",
      "Evaluating Unfolded GCN Number 8\n"
     ]
    },
    {
     "name": "stderr",
     "output_type": "stream",
     "text": [
      "100%|█████████████████████████████████████████████████████████████| 100/100 [00:01<00:00, 96.02it/s]\n"
     ]
    },
    {
     "name": "stdout",
     "output_type": "stream",
     "text": [
      "Test accuracy: 0.981\n",
      "\n",
      "Training Unfolded GCN Number 9\n"
     ]
    },
    {
     "name": "stderr",
     "output_type": "stream",
     "text": [
      "100%|█████████████████████████████████████████████████████████████| 200/200 [00:16<00:00, 12.29it/s]\n"
     ]
    },
    {
     "name": "stdout",
     "output_type": "stream",
     "text": [
      "Validation accuracy: 0.988\n",
      "Evaluating Unfolded GCN Number 9\n"
     ]
    },
    {
     "name": "stderr",
     "output_type": "stream",
     "text": [
      "100%|█████████████████████████████████████████████████████████████| 100/100 [00:01<00:00, 95.10it/s]\n"
     ]
    },
    {
     "name": "stdout",
     "output_type": "stream",
     "text": [
      "Test accuracy: 0.980\n",
      "\n",
      "Training Unfolded GAT Number 0\n"
     ]
    },
    {
     "name": "stderr",
     "output_type": "stream",
     "text": [
      "100%|█████████████████████████████████████████████████████████████| 200/200 [00:34<00:00,  5.77it/s]\n"
     ]
    },
    {
     "name": "stdout",
     "output_type": "stream",
     "text": [
      "Validation accuracy: 0.979\n",
      "Evaluating Unfolded GAT Number 0\n"
     ]
    },
    {
     "name": "stderr",
     "output_type": "stream",
     "text": [
      "100%|█████████████████████████████████████████████████████████████| 100/100 [00:01<00:00, 98.85it/s]\n"
     ]
    },
    {
     "name": "stdout",
     "output_type": "stream",
     "text": [
      "Test accuracy: 0.970\n",
      "\n",
      "Training Unfolded GAT Number 1\n"
     ]
    },
    {
     "name": "stderr",
     "output_type": "stream",
     "text": [
      "100%|█████████████████████████████████████████████████████████████| 200/200 [00:34<00:00,  5.85it/s]\n"
     ]
    },
    {
     "name": "stdout",
     "output_type": "stream",
     "text": [
      "Validation accuracy: 0.971\n",
      "Evaluating Unfolded GAT Number 1\n"
     ]
    },
    {
     "name": "stderr",
     "output_type": "stream",
     "text": [
      "100%|█████████████████████████████████████████████████████████████| 100/100 [00:01<00:00, 95.92it/s]\n"
     ]
    },
    {
     "name": "stdout",
     "output_type": "stream",
     "text": [
      "Test accuracy: 0.956\n",
      "\n",
      "Training Unfolded GAT Number 2\n"
     ]
    },
    {
     "name": "stderr",
     "output_type": "stream",
     "text": [
      "100%|█████████████████████████████████████████████████████████████| 200/200 [00:33<00:00,  6.03it/s]\n"
     ]
    },
    {
     "name": "stdout",
     "output_type": "stream",
     "text": [
      "Validation accuracy: 0.979\n",
      "Evaluating Unfolded GAT Number 2\n"
     ]
    },
    {
     "name": "stderr",
     "output_type": "stream",
     "text": [
      "100%|█████████████████████████████████████████████████████████████| 100/100 [00:01<00:00, 96.87it/s]\n"
     ]
    },
    {
     "name": "stdout",
     "output_type": "stream",
     "text": [
      "Test accuracy: 0.960\n",
      "\n",
      "Training Unfolded GAT Number 3\n"
     ]
    },
    {
     "name": "stderr",
     "output_type": "stream",
     "text": [
      "100%|█████████████████████████████████████████████████████████████| 200/200 [00:31<00:00,  6.36it/s]\n"
     ]
    },
    {
     "name": "stdout",
     "output_type": "stream",
     "text": [
      "Validation accuracy: 0.983\n",
      "Evaluating Unfolded GAT Number 3\n"
     ]
    },
    {
     "name": "stderr",
     "output_type": "stream",
     "text": [
      "100%|█████████████████████████████████████████████████████████████| 100/100 [00:01<00:00, 99.37it/s]\n"
     ]
    },
    {
     "name": "stdout",
     "output_type": "stream",
     "text": [
      "Test accuracy: 0.953\n",
      "\n",
      "Training Unfolded GAT Number 4\n"
     ]
    },
    {
     "name": "stderr",
     "output_type": "stream",
     "text": [
      "100%|█████████████████████████████████████████████████████████████| 200/200 [00:33<00:00,  5.96it/s]\n"
     ]
    },
    {
     "name": "stdout",
     "output_type": "stream",
     "text": [
      "Validation accuracy: 0.921\n",
      "Evaluating Unfolded GAT Number 4\n"
     ]
    },
    {
     "name": "stderr",
     "output_type": "stream",
     "text": [
      "100%|█████████████████████████████████████████████████████████████| 100/100 [00:01<00:00, 97.32it/s]\n"
     ]
    },
    {
     "name": "stdout",
     "output_type": "stream",
     "text": [
      "Test accuracy: 0.943\n",
      "\n",
      "Training Unfolded GAT Number 5\n"
     ]
    },
    {
     "name": "stderr",
     "output_type": "stream",
     "text": [
      "100%|█████████████████████████████████████████████████████████████| 200/200 [00:37<00:00,  5.33it/s]\n"
     ]
    },
    {
     "name": "stdout",
     "output_type": "stream",
     "text": [
      "Validation accuracy: 0.971\n",
      "Evaluating Unfolded GAT Number 5\n"
     ]
    },
    {
     "name": "stderr",
     "output_type": "stream",
     "text": [
      "100%|█████████████████████████████████████████████████████████████| 100/100 [00:01<00:00, 98.47it/s]\n"
     ]
    },
    {
     "name": "stdout",
     "output_type": "stream",
     "text": [
      "Test accuracy: 0.949\n",
      "\n",
      "Training Unfolded GAT Number 6\n"
     ]
    },
    {
     "name": "stderr",
     "output_type": "stream",
     "text": [
      "100%|█████████████████████████████████████████████████████████████| 200/200 [00:34<00:00,  5.77it/s]\n"
     ]
    },
    {
     "name": "stdout",
     "output_type": "stream",
     "text": [
      "Validation accuracy: 0.983\n",
      "Evaluating Unfolded GAT Number 6\n"
     ]
    },
    {
     "name": "stderr",
     "output_type": "stream",
     "text": [
      "100%|█████████████████████████████████████████████████████████████| 100/100 [00:01<00:00, 96.23it/s]\n"
     ]
    },
    {
     "name": "stdout",
     "output_type": "stream",
     "text": [
      "Test accuracy: 0.949\n",
      "\n",
      "Training Unfolded GAT Number 7\n"
     ]
    },
    {
     "name": "stderr",
     "output_type": "stream",
     "text": [
      "100%|█████████████████████████████████████████████████████████████| 200/200 [00:34<00:00,  5.83it/s]\n"
     ]
    },
    {
     "name": "stdout",
     "output_type": "stream",
     "text": [
      "Validation accuracy: 0.979\n",
      "Evaluating Unfolded GAT Number 7\n"
     ]
    },
    {
     "name": "stderr",
     "output_type": "stream",
     "text": [
      "100%|█████████████████████████████████████████████████████████████| 100/100 [00:01<00:00, 98.48it/s]\n"
     ]
    },
    {
     "name": "stdout",
     "output_type": "stream",
     "text": [
      "Test accuracy: 0.953\n",
      "\n",
      "Training Unfolded GAT Number 8\n"
     ]
    },
    {
     "name": "stderr",
     "output_type": "stream",
     "text": [
      "100%|█████████████████████████████████████████████████████████████| 200/200 [00:38<00:00,  5.23it/s]\n"
     ]
    },
    {
     "name": "stdout",
     "output_type": "stream",
     "text": [
      "Validation accuracy: 0.975\n",
      "Evaluating Unfolded GAT Number 8\n"
     ]
    },
    {
     "name": "stderr",
     "output_type": "stream",
     "text": [
      "100%|█████████████████████████████████████████████████████████████| 100/100 [00:01<00:00, 94.47it/s]\n"
     ]
    },
    {
     "name": "stdout",
     "output_type": "stream",
     "text": [
      "Test accuracy: 0.954\n",
      "\n",
      "Training Unfolded GAT Number 9\n"
     ]
    },
    {
     "name": "stderr",
     "output_type": "stream",
     "text": [
      "100%|█████████████████████████████████████████████████████████████| 200/200 [00:30<00:00,  6.60it/s]\n"
     ]
    },
    {
     "name": "stdout",
     "output_type": "stream",
     "text": [
      "Validation accuracy: 0.879\n",
      "Evaluating Unfolded GAT Number 9\n"
     ]
    },
    {
     "name": "stderr",
     "output_type": "stream",
     "text": [
      "100%|█████████████████████████████████████████████████████████████| 100/100 [00:01<00:00, 94.17it/s]"
     ]
    },
    {
     "name": "stdout",
     "output_type": "stream",
     "text": [
      "Test accuracy: 0.947\n",
      "CPU times: user 1h 22min 57s, sys: 24min 23s, total: 1h 47min 20s\n",
      "Wall time: 13min 58s\n"
     ]
    },
    {
     "name": "stderr",
     "output_type": "stream",
     "text": [
      "\n"
     ]
    }
   ],
   "source": [
    "%%time\n",
    "\n",
    "for (method, GNN_model) in product(methods, GNN_models):\n",
    "        \n",
    "    for i in range(num_train_trans):\n",
    "        # Split data into training/validation/calibration/test\n",
    "        train_mask, valid_mask, calib_mask, test_mask = mask_split(data_mask, props, seed=i, mode='transductive')\n",
    "        \n",
    "        if method == 'BD':\n",
    "            method_str = 'Block Diagonal'\n",
    "            data = dataset_BD\n",
    "        if method == 'UA':\n",
    "            method_str = 'Unfolded'\n",
    "            data = dataset_UA\n",
    "            # Pad masks to include anchor nodes\n",
    "            train_mask = np.concatenate((np.array([False] * n), train_mask))\n",
    "            valid_mask = np.concatenate((np.array([False] * n), valid_mask))\n",
    "            calib_mask = np.concatenate((np.array([False] * n), calib_mask))\n",
    "            test_mask  = np.concatenate((np.array([False] * n), test_mask))\n",
    "        \n",
    "        if GNN_model == 'GCN':\n",
    "            model = GCN(data.num_nodes, num_channels_GCN, num_classes, seed=i)\n",
    "        if GNN_model == 'GAT':\n",
    "            model = GAT(data.num_nodes, num_channels_GAT, num_classes, seed=i)\n",
    "            \n",
    "        optimizer = torch.optim.Adam(model.parameters(), lr=learning_rate, weight_decay=weight_decay)\n",
    "\n",
    "        print(f'\\nTraining {method_str} {GNN_model} Number {i}')\n",
    "        max_valid_acc = 0\n",
    "    \n",
    "        for epoch in tqdm(range(num_epochs)):\n",
    "            train_loss = train(model, data, train_mask)\n",
    "            valid_acc  = valid(model, data, valid_mask)\n",
    "\n",
    "            if valid_acc > max_valid_acc:\n",
    "                max_valid_acc = valid_acc\n",
    "                best_model = copy.deepcopy(model)\n",
    "    \n",
    "        print(f'Validation accuracy: {max_valid_acc:0.3f}')\n",
    "        print(f'Evaluating {method_str} {GNN_model} Number {i}')\n",
    "        output = best_model(data.x, data.edge_index)\n",
    "        \n",
    "        for j in tqdm(range(num_permute_trans)):\n",
    "            # Permute the calibration and test datasets\n",
    "            calib_mask, test_mask = mask_mix(calib_mask, test_mask, seed=j)\n",
    "        \n",
    "            pred_sets = get_prediction_sets(output, data, calib_mask, test_mask, alpha)\n",
    "        \n",
    "            results[method][GNN_model]['Trans']['Accuracy']['All'].append(accuracy(output, data, test_mask))\n",
    "            results[method][GNN_model]['Trans']['Avg Size']['All'].append(avg_set_size(pred_sets, test_mask))\n",
    "            results[method][GNN_model]['Trans']['Coverage']['All'].append(coverage(pred_sets, data, test_mask))\n",
    "        \n",
    "            for t in range(T):\n",
    "                # Consider test nodes only at time t\n",
    "                if method == 'BD':\n",
    "                    time_mask = np.array([[False] * n for _ in range(T)])\n",
    "                    time_mask[t] = True; time_mask = time_mask.reshape(-1)\n",
    "                if method == 'UA':\n",
    "                    time_mask = np.array([[False] * n for _ in range(T+1)])\n",
    "                    time_mask[t+1] = True; time_mask = time_mask.reshape(-1)\n",
    "            \n",
    "                test_mask_t = time_mask * test_mask\n",
    "                if np.sum(test_mask_t) == 0:\n",
    "                    continue\n",
    "            \n",
    "                # Get prediction sets corresponding to time t\n",
    "                pred_sets_t = pred_sets[np.array([np.where(np.where(test_mask)[0] == np.where(test_mask_t)[0][i])[0][0]\n",
    "                                                  for i in range(sum(test_mask_t))])]\n",
    "            \n",
    "                results[method][GNN_model]['Trans']['Accuracy'][t].append(accuracy(output, data, test_mask_t))\n",
    "                results[method][GNN_model]['Trans']['Avg Size'][t].append(avg_set_size(pred_sets_t, test_mask_t))\n",
    "                results[method][GNN_model]['Trans']['Coverage'][t].append(coverage(pred_sets_t, data, test_mask_t))\n",
    "                \n",
    "        avg_test_acc = np.mean(results[method][GNN_model]['Trans']['Accuracy']['All'])\n",
    "        print(f'Test accuracy: {avg_test_acc:0.3f}')"
   ]
  },
  {
   "cell_type": "markdown",
   "id": "83241607",
   "metadata": {},
   "source": [
    "### Semi-inductive experiments"
   ]
  },
  {
   "cell_type": "code",
   "execution_count": 22,
   "id": "a377be9b",
   "metadata": {
    "scrolled": true
   },
   "outputs": [
    {
     "name": "stdout",
     "output_type": "stream",
     "text": [
      "\n",
      "Training Block Diagonal GCN Number 0\n"
     ]
    },
    {
     "name": "stderr",
     "output_type": "stream",
     "text": [
      "100%|█████████████████████████████████████████████████████████████| 200/200 [00:10<00:00, 19.79it/s]\n"
     ]
    },
    {
     "name": "stdout",
     "output_type": "stream",
     "text": [
      "Validation accuracy: 0.974\n",
      "Evaluating Block Diagonal GCN Number 0\n",
      "Test accuracy: 0.367\n",
      "\n",
      "Training Block Diagonal GCN Number 1\n"
     ]
    },
    {
     "name": "stderr",
     "output_type": "stream",
     "text": [
      "100%|█████████████████████████████████████████████████████████████| 200/200 [00:10<00:00, 18.86it/s]\n"
     ]
    },
    {
     "name": "stdout",
     "output_type": "stream",
     "text": [
      "Validation accuracy: 0.987\n",
      "Evaluating Block Diagonal GCN Number 1\n",
      "Test accuracy: 0.343\n",
      "\n",
      "Training Block Diagonal GCN Number 2\n"
     ]
    },
    {
     "name": "stderr",
     "output_type": "stream",
     "text": [
      "100%|█████████████████████████████████████████████████████████████| 200/200 [00:10<00:00, 18.57it/s]\n"
     ]
    },
    {
     "name": "stdout",
     "output_type": "stream",
     "text": [
      "Validation accuracy: 0.987\n",
      "Evaluating Block Diagonal GCN Number 2\n",
      "Test accuracy: 0.338\n",
      "\n",
      "Training Block Diagonal GCN Number 3\n"
     ]
    },
    {
     "name": "stderr",
     "output_type": "stream",
     "text": [
      "100%|█████████████████████████████████████████████████████████████| 200/200 [00:11<00:00, 16.77it/s]\n"
     ]
    },
    {
     "name": "stdout",
     "output_type": "stream",
     "text": [
      "Validation accuracy: 0.944\n",
      "Evaluating Block Diagonal GCN Number 3\n",
      "Test accuracy: 0.342\n",
      "\n",
      "Training Block Diagonal GCN Number 4\n"
     ]
    },
    {
     "name": "stderr",
     "output_type": "stream",
     "text": [
      "100%|█████████████████████████████████████████████████████████████| 200/200 [00:10<00:00, 19.09it/s]\n"
     ]
    },
    {
     "name": "stdout",
     "output_type": "stream",
     "text": [
      "Validation accuracy: 0.978\n",
      "Evaluating Block Diagonal GCN Number 4\n",
      "Test accuracy: 0.350\n",
      "\n",
      "Training Block Diagonal GCN Number 5\n"
     ]
    },
    {
     "name": "stderr",
     "output_type": "stream",
     "text": [
      "100%|█████████████████████████████████████████████████████████████| 200/200 [00:10<00:00, 19.69it/s]\n"
     ]
    },
    {
     "name": "stdout",
     "output_type": "stream",
     "text": [
      "Validation accuracy: 0.965\n",
      "Evaluating Block Diagonal GCN Number 5\n",
      "Test accuracy: 0.349\n",
      "\n",
      "Training Block Diagonal GCN Number 6\n"
     ]
    },
    {
     "name": "stderr",
     "output_type": "stream",
     "text": [
      "100%|█████████████████████████████████████████████████████████████| 200/200 [00:09<00:00, 20.30it/s]\n"
     ]
    },
    {
     "name": "stdout",
     "output_type": "stream",
     "text": [
      "Validation accuracy: 0.978\n",
      "Evaluating Block Diagonal GCN Number 6\n",
      "Test accuracy: 0.348\n",
      "\n",
      "Training Block Diagonal GCN Number 7\n"
     ]
    },
    {
     "name": "stderr",
     "output_type": "stream",
     "text": [
      "100%|█████████████████████████████████████████████████████████████| 200/200 [00:10<00:00, 19.43it/s]\n"
     ]
    },
    {
     "name": "stdout",
     "output_type": "stream",
     "text": [
      "Validation accuracy: 0.987\n",
      "Evaluating Block Diagonal GCN Number 7\n",
      "Test accuracy: 0.350\n",
      "\n",
      "Training Block Diagonal GCN Number 8\n"
     ]
    },
    {
     "name": "stderr",
     "output_type": "stream",
     "text": [
      "100%|█████████████████████████████████████████████████████████████| 200/200 [00:09<00:00, 20.83it/s]\n"
     ]
    },
    {
     "name": "stdout",
     "output_type": "stream",
     "text": [
      "Validation accuracy: 0.978\n",
      "Evaluating Block Diagonal GCN Number 8\n",
      "Test accuracy: 0.348\n",
      "\n",
      "Training Block Diagonal GCN Number 9\n"
     ]
    },
    {
     "name": "stderr",
     "output_type": "stream",
     "text": [
      "100%|█████████████████████████████████████████████████████████████| 200/200 [00:10<00:00, 19.41it/s]\n"
     ]
    },
    {
     "name": "stdout",
     "output_type": "stream",
     "text": [
      "Validation accuracy: 0.952\n",
      "Evaluating Block Diagonal GCN Number 9\n",
      "Test accuracy: 0.344\n",
      "\n",
      "Training Block Diagonal GCN Number 10\n"
     ]
    },
    {
     "name": "stderr",
     "output_type": "stream",
     "text": [
      "100%|█████████████████████████████████████████████████████████████| 200/200 [00:10<00:00, 18.66it/s]\n"
     ]
    },
    {
     "name": "stdout",
     "output_type": "stream",
     "text": [
      "Validation accuracy: 0.987\n",
      "Evaluating Block Diagonal GCN Number 10\n",
      "Test accuracy: 0.340\n",
      "\n",
      "Training Block Diagonal GCN Number 11\n"
     ]
    },
    {
     "name": "stderr",
     "output_type": "stream",
     "text": [
      "100%|█████████████████████████████████████████████████████████████| 200/200 [00:09<00:00, 20.72it/s]\n"
     ]
    },
    {
     "name": "stdout",
     "output_type": "stream",
     "text": [
      "Validation accuracy: 0.983\n",
      "Evaluating Block Diagonal GCN Number 11\n",
      "Test accuracy: 0.336\n",
      "\n",
      "Training Block Diagonal GCN Number 12\n"
     ]
    },
    {
     "name": "stderr",
     "output_type": "stream",
     "text": [
      "100%|█████████████████████████████████████████████████████████████| 200/200 [00:10<00:00, 19.70it/s]\n"
     ]
    },
    {
     "name": "stdout",
     "output_type": "stream",
     "text": [
      "Validation accuracy: 0.970\n",
      "Evaluating Block Diagonal GCN Number 12\n",
      "Test accuracy: 0.333\n",
      "\n",
      "Training Block Diagonal GCN Number 13\n"
     ]
    },
    {
     "name": "stderr",
     "output_type": "stream",
     "text": [
      "100%|█████████████████████████████████████████████████████████████| 200/200 [00:10<00:00, 19.46it/s]\n"
     ]
    },
    {
     "name": "stdout",
     "output_type": "stream",
     "text": [
      "Validation accuracy: 0.974\n",
      "Evaluating Block Diagonal GCN Number 13\n",
      "Test accuracy: 0.335\n",
      "\n",
      "Training Block Diagonal GCN Number 14\n"
     ]
    },
    {
     "name": "stderr",
     "output_type": "stream",
     "text": [
      "100%|█████████████████████████████████████████████████████████████| 200/200 [00:09<00:00, 20.11it/s]\n"
     ]
    },
    {
     "name": "stdout",
     "output_type": "stream",
     "text": [
      "Validation accuracy: 0.965\n",
      "Evaluating Block Diagonal GCN Number 14\n",
      "Test accuracy: 0.336\n",
      "\n",
      "Training Block Diagonal GCN Number 15\n"
     ]
    },
    {
     "name": "stderr",
     "output_type": "stream",
     "text": [
      "100%|█████████████████████████████████████████████████████████████| 200/200 [00:10<00:00, 18.94it/s]\n"
     ]
    },
    {
     "name": "stdout",
     "output_type": "stream",
     "text": [
      "Validation accuracy: 0.974\n",
      "Evaluating Block Diagonal GCN Number 15\n",
      "Test accuracy: 0.335\n",
      "\n",
      "Training Block Diagonal GCN Number 16\n"
     ]
    },
    {
     "name": "stderr",
     "output_type": "stream",
     "text": [
      "100%|█████████████████████████████████████████████████████████████| 200/200 [00:11<00:00, 17.94it/s]\n"
     ]
    },
    {
     "name": "stdout",
     "output_type": "stream",
     "text": [
      "Validation accuracy: 0.983\n",
      "Evaluating Block Diagonal GCN Number 16\n",
      "Test accuracy: 0.334\n",
      "\n",
      "Training Block Diagonal GCN Number 17\n"
     ]
    },
    {
     "name": "stderr",
     "output_type": "stream",
     "text": [
      "100%|█████████████████████████████████████████████████████████████| 200/200 [00:10<00:00, 19.78it/s]\n"
     ]
    },
    {
     "name": "stdout",
     "output_type": "stream",
     "text": [
      "Validation accuracy: 0.957\n",
      "Evaluating Block Diagonal GCN Number 17\n",
      "Test accuracy: 0.335\n",
      "\n",
      "Training Block Diagonal GCN Number 18\n"
     ]
    },
    {
     "name": "stderr",
     "output_type": "stream",
     "text": [
      "100%|█████████████████████████████████████████████████████████████| 200/200 [00:11<00:00, 17.16it/s]\n"
     ]
    },
    {
     "name": "stdout",
     "output_type": "stream",
     "text": [
      "Validation accuracy: 0.961\n",
      "Evaluating Block Diagonal GCN Number 18\n",
      "Test accuracy: 0.335\n",
      "\n",
      "Training Block Diagonal GCN Number 19\n"
     ]
    },
    {
     "name": "stderr",
     "output_type": "stream",
     "text": [
      "100%|█████████████████████████████████████████████████████████████| 200/200 [00:10<00:00, 18.29it/s]\n"
     ]
    },
    {
     "name": "stdout",
     "output_type": "stream",
     "text": [
      "Validation accuracy: 0.974\n",
      "Evaluating Block Diagonal GCN Number 19\n",
      "Test accuracy: 0.335\n",
      "\n",
      "Training Block Diagonal GCN Number 20\n"
     ]
    },
    {
     "name": "stderr",
     "output_type": "stream",
     "text": [
      "100%|█████████████████████████████████████████████████████████████| 200/200 [00:10<00:00, 19.82it/s]\n"
     ]
    },
    {
     "name": "stdout",
     "output_type": "stream",
     "text": [
      "Validation accuracy: 0.974\n",
      "Evaluating Block Diagonal GCN Number 20\n",
      "Test accuracy: 0.335\n",
      "\n",
      "Training Block Diagonal GCN Number 21\n"
     ]
    },
    {
     "name": "stderr",
     "output_type": "stream",
     "text": [
      "100%|█████████████████████████████████████████████████████████████| 200/200 [00:11<00:00, 17.12it/s]\n"
     ]
    },
    {
     "name": "stdout",
     "output_type": "stream",
     "text": [
      "Validation accuracy: 0.970\n",
      "Evaluating Block Diagonal GCN Number 21\n",
      "Test accuracy: 0.337\n",
      "\n",
      "Training Block Diagonal GCN Number 22\n"
     ]
    },
    {
     "name": "stderr",
     "output_type": "stream",
     "text": [
      "100%|█████████████████████████████████████████████████████████████| 200/200 [00:11<00:00, 17.61it/s]\n"
     ]
    },
    {
     "name": "stdout",
     "output_type": "stream",
     "text": [
      "Validation accuracy: 0.978\n",
      "Evaluating Block Diagonal GCN Number 22\n",
      "Test accuracy: 0.337\n",
      "\n",
      "Training Block Diagonal GCN Number 23\n"
     ]
    },
    {
     "name": "stderr",
     "output_type": "stream",
     "text": [
      "100%|█████████████████████████████████████████████████████████████| 200/200 [00:10<00:00, 19.47it/s]\n"
     ]
    },
    {
     "name": "stdout",
     "output_type": "stream",
     "text": [
      "Validation accuracy: 0.974\n",
      "Evaluating Block Diagonal GCN Number 23\n",
      "Test accuracy: 0.336\n",
      "\n",
      "Training Block Diagonal GCN Number 24\n"
     ]
    },
    {
     "name": "stderr",
     "output_type": "stream",
     "text": [
      "100%|█████████████████████████████████████████████████████████████| 200/200 [00:12<00:00, 15.62it/s]\n"
     ]
    },
    {
     "name": "stdout",
     "output_type": "stream",
     "text": [
      "Validation accuracy: 0.957\n",
      "Evaluating Block Diagonal GCN Number 24\n",
      "Test accuracy: 0.335\n",
      "\n",
      "Training Block Diagonal GCN Number 25\n"
     ]
    },
    {
     "name": "stderr",
     "output_type": "stream",
     "text": [
      "100%|█████████████████████████████████████████████████████████████| 200/200 [00:10<00:00, 19.24it/s]\n"
     ]
    },
    {
     "name": "stdout",
     "output_type": "stream",
     "text": [
      "Validation accuracy: 0.957\n",
      "Evaluating Block Diagonal GCN Number 25\n",
      "Test accuracy: 0.334\n",
      "\n",
      "Training Block Diagonal GCN Number 26\n"
     ]
    },
    {
     "name": "stderr",
     "output_type": "stream",
     "text": [
      "100%|█████████████████████████████████████████████████████████████| 200/200 [00:10<00:00, 19.46it/s]\n"
     ]
    },
    {
     "name": "stdout",
     "output_type": "stream",
     "text": [
      "Validation accuracy: 0.961\n",
      "Evaluating Block Diagonal GCN Number 26\n",
      "Test accuracy: 0.333\n",
      "\n",
      "Training Block Diagonal GCN Number 27\n"
     ]
    },
    {
     "name": "stderr",
     "output_type": "stream",
     "text": [
      "100%|█████████████████████████████████████████████████████████████| 200/200 [00:10<00:00, 19.92it/s]\n"
     ]
    },
    {
     "name": "stdout",
     "output_type": "stream",
     "text": [
      "Validation accuracy: 0.987\n",
      "Evaluating Block Diagonal GCN Number 27\n",
      "Test accuracy: 0.332\n",
      "\n",
      "Training Block Diagonal GCN Number 28\n"
     ]
    },
    {
     "name": "stderr",
     "output_type": "stream",
     "text": [
      "100%|█████████████████████████████████████████████████████████████| 200/200 [00:12<00:00, 15.56it/s]\n"
     ]
    },
    {
     "name": "stdout",
     "output_type": "stream",
     "text": [
      "Validation accuracy: 0.965\n",
      "Evaluating Block Diagonal GCN Number 28\n",
      "Test accuracy: 0.332\n",
      "\n",
      "Training Block Diagonal GCN Number 29\n"
     ]
    },
    {
     "name": "stderr",
     "output_type": "stream",
     "text": [
      "100%|█████████████████████████████████████████████████████████████| 200/200 [00:10<00:00, 18.69it/s]\n"
     ]
    },
    {
     "name": "stdout",
     "output_type": "stream",
     "text": [
      "Validation accuracy: 0.970\n",
      "Evaluating Block Diagonal GCN Number 29\n",
      "Test accuracy: 0.332\n",
      "\n",
      "Training Block Diagonal GCN Number 30\n"
     ]
    },
    {
     "name": "stderr",
     "output_type": "stream",
     "text": [
      "100%|█████████████████████████████████████████████████████████████| 200/200 [00:09<00:00, 20.63it/s]\n"
     ]
    },
    {
     "name": "stdout",
     "output_type": "stream",
     "text": [
      "Validation accuracy: 0.978\n",
      "Evaluating Block Diagonal GCN Number 30\n",
      "Test accuracy: 0.332\n",
      "\n",
      "Training Block Diagonal GCN Number 31\n"
     ]
    },
    {
     "name": "stderr",
     "output_type": "stream",
     "text": [
      "100%|█████████████████████████████████████████████████████████████| 200/200 [00:10<00:00, 19.31it/s]\n"
     ]
    },
    {
     "name": "stdout",
     "output_type": "stream",
     "text": [
      "Validation accuracy: 0.978\n",
      "Evaluating Block Diagonal GCN Number 31\n",
      "Test accuracy: 0.333\n",
      "\n",
      "Training Block Diagonal GCN Number 32\n"
     ]
    },
    {
     "name": "stderr",
     "output_type": "stream",
     "text": [
      "100%|█████████████████████████████████████████████████████████████| 200/200 [00:10<00:00, 18.85it/s]\n"
     ]
    },
    {
     "name": "stdout",
     "output_type": "stream",
     "text": [
      "Validation accuracy: 0.983\n",
      "Evaluating Block Diagonal GCN Number 32\n",
      "Test accuracy: 0.333\n",
      "\n",
      "Training Block Diagonal GCN Number 33\n"
     ]
    },
    {
     "name": "stderr",
     "output_type": "stream",
     "text": [
      "100%|█████████████████████████████████████████████████████████████| 200/200 [00:09<00:00, 20.11it/s]\n"
     ]
    },
    {
     "name": "stdout",
     "output_type": "stream",
     "text": [
      "Validation accuracy: 0.983\n",
      "Evaluating Block Diagonal GCN Number 33\n",
      "Test accuracy: 0.332\n",
      "\n",
      "Training Block Diagonal GCN Number 34\n"
     ]
    },
    {
     "name": "stderr",
     "output_type": "stream",
     "text": [
      "100%|█████████████████████████████████████████████████████████████| 200/200 [00:11<00:00, 17.70it/s]\n"
     ]
    },
    {
     "name": "stdout",
     "output_type": "stream",
     "text": [
      "Validation accuracy: 0.983\n",
      "Evaluating Block Diagonal GCN Number 34\n",
      "Test accuracy: 0.332\n",
      "\n",
      "Training Block Diagonal GCN Number 35\n"
     ]
    },
    {
     "name": "stderr",
     "output_type": "stream",
     "text": [
      "100%|█████████████████████████████████████████████████████████████| 200/200 [00:10<00:00, 19.25it/s]\n"
     ]
    },
    {
     "name": "stdout",
     "output_type": "stream",
     "text": [
      "Validation accuracy: 0.970\n",
      "Evaluating Block Diagonal GCN Number 35\n",
      "Test accuracy: 0.332\n",
      "\n",
      "Training Block Diagonal GCN Number 36\n"
     ]
    },
    {
     "name": "stderr",
     "output_type": "stream",
     "text": [
      "100%|█████████████████████████████████████████████████████████████| 200/200 [00:09<00:00, 20.13it/s]\n"
     ]
    },
    {
     "name": "stdout",
     "output_type": "stream",
     "text": [
      "Validation accuracy: 0.957\n",
      "Evaluating Block Diagonal GCN Number 36\n",
      "Test accuracy: 0.333\n",
      "\n",
      "Training Block Diagonal GCN Number 37\n"
     ]
    },
    {
     "name": "stderr",
     "output_type": "stream",
     "text": [
      "100%|█████████████████████████████████████████████████████████████| 200/200 [00:10<00:00, 19.15it/s]\n"
     ]
    },
    {
     "name": "stdout",
     "output_type": "stream",
     "text": [
      "Validation accuracy: 0.974\n",
      "Evaluating Block Diagonal GCN Number 37\n",
      "Test accuracy: 0.333\n",
      "\n",
      "Training Block Diagonal GCN Number 38\n"
     ]
    },
    {
     "name": "stderr",
     "output_type": "stream",
     "text": [
      "100%|█████████████████████████████████████████████████████████████| 200/200 [00:09<00:00, 21.06it/s]\n"
     ]
    },
    {
     "name": "stdout",
     "output_type": "stream",
     "text": [
      "Validation accuracy: 0.987\n",
      "Evaluating Block Diagonal GCN Number 38\n",
      "Test accuracy: 0.332\n",
      "\n",
      "Training Block Diagonal GCN Number 39\n"
     ]
    },
    {
     "name": "stderr",
     "output_type": "stream",
     "text": [
      "100%|█████████████████████████████████████████████████████████████| 200/200 [00:10<00:00, 18.74it/s]\n"
     ]
    },
    {
     "name": "stdout",
     "output_type": "stream",
     "text": [
      "Validation accuracy: 0.983\n",
      "Evaluating Block Diagonal GCN Number 39\n",
      "Test accuracy: 0.332\n",
      "\n",
      "Training Block Diagonal GCN Number 40\n"
     ]
    },
    {
     "name": "stderr",
     "output_type": "stream",
     "text": [
      "100%|█████████████████████████████████████████████████████████████| 200/200 [00:10<00:00, 19.83it/s]\n"
     ]
    },
    {
     "name": "stdout",
     "output_type": "stream",
     "text": [
      "Validation accuracy: 0.991\n",
      "Evaluating Block Diagonal GCN Number 40\n",
      "Test accuracy: 0.331\n",
      "\n",
      "Training Block Diagonal GCN Number 41\n"
     ]
    },
    {
     "name": "stderr",
     "output_type": "stream",
     "text": [
      "100%|█████████████████████████████████████████████████████████████| 200/200 [00:09<00:00, 20.62it/s]\n"
     ]
    },
    {
     "name": "stdout",
     "output_type": "stream",
     "text": [
      "Validation accuracy: 0.983\n",
      "Evaluating Block Diagonal GCN Number 41\n",
      "Test accuracy: 0.332\n",
      "\n",
      "Training Block Diagonal GCN Number 42\n"
     ]
    },
    {
     "name": "stderr",
     "output_type": "stream",
     "text": [
      "100%|█████████████████████████████████████████████████████████████| 200/200 [00:11<00:00, 17.45it/s]\n"
     ]
    },
    {
     "name": "stdout",
     "output_type": "stream",
     "text": [
      "Validation accuracy: 0.970\n",
      "Evaluating Block Diagonal GCN Number 42\n",
      "Test accuracy: 0.332\n",
      "\n",
      "Training Block Diagonal GCN Number 43\n"
     ]
    },
    {
     "name": "stderr",
     "output_type": "stream",
     "text": [
      "100%|█████████████████████████████████████████████████████████████| 200/200 [00:09<00:00, 20.01it/s]\n"
     ]
    },
    {
     "name": "stdout",
     "output_type": "stream",
     "text": [
      "Validation accuracy: 0.965\n",
      "Evaluating Block Diagonal GCN Number 43\n",
      "Test accuracy: 0.333\n",
      "\n",
      "Training Block Diagonal GCN Number 44\n"
     ]
    },
    {
     "name": "stderr",
     "output_type": "stream",
     "text": [
      "100%|█████████████████████████████████████████████████████████████| 200/200 [00:10<00:00, 19.89it/s]\n"
     ]
    },
    {
     "name": "stdout",
     "output_type": "stream",
     "text": [
      "Validation accuracy: 0.983\n",
      "Evaluating Block Diagonal GCN Number 44\n",
      "Test accuracy: 0.334\n",
      "\n",
      "Training Block Diagonal GCN Number 45\n"
     ]
    },
    {
     "name": "stderr",
     "output_type": "stream",
     "text": [
      "100%|█████████████████████████████████████████████████████████████| 200/200 [00:10<00:00, 18.30it/s]\n"
     ]
    },
    {
     "name": "stdout",
     "output_type": "stream",
     "text": [
      "Validation accuracy: 0.965\n",
      "Evaluating Block Diagonal GCN Number 45\n",
      "Test accuracy: 0.334\n",
      "\n",
      "Training Block Diagonal GCN Number 46\n"
     ]
    },
    {
     "name": "stderr",
     "output_type": "stream",
     "text": [
      "100%|█████████████████████████████████████████████████████████████| 200/200 [00:10<00:00, 18.34it/s]\n"
     ]
    },
    {
     "name": "stdout",
     "output_type": "stream",
     "text": [
      "Validation accuracy: 0.987\n",
      "Evaluating Block Diagonal GCN Number 46\n",
      "Test accuracy: 0.334\n",
      "\n",
      "Training Block Diagonal GCN Number 47\n"
     ]
    },
    {
     "name": "stderr",
     "output_type": "stream",
     "text": [
      "100%|█████████████████████████████████████████████████████████████| 200/200 [00:10<00:00, 19.85it/s]\n"
     ]
    },
    {
     "name": "stdout",
     "output_type": "stream",
     "text": [
      "Validation accuracy: 0.987\n",
      "Evaluating Block Diagonal GCN Number 47\n",
      "Test accuracy: 0.335\n",
      "\n",
      "Training Block Diagonal GCN Number 48\n"
     ]
    },
    {
     "name": "stderr",
     "output_type": "stream",
     "text": [
      "100%|█████████████████████████████████████████████████████████████| 200/200 [00:10<00:00, 19.57it/s]\n"
     ]
    },
    {
     "name": "stdout",
     "output_type": "stream",
     "text": [
      "Validation accuracy: 0.970\n",
      "Evaluating Block Diagonal GCN Number 48\n",
      "Test accuracy: 0.335\n",
      "\n",
      "Training Block Diagonal GCN Number 49\n"
     ]
    },
    {
     "name": "stderr",
     "output_type": "stream",
     "text": [
      "100%|█████████████████████████████████████████████████████████████| 200/200 [00:10<00:00, 18.88it/s]\n"
     ]
    },
    {
     "name": "stdout",
     "output_type": "stream",
     "text": [
      "Validation accuracy: 0.983\n",
      "Evaluating Block Diagonal GCN Number 49\n",
      "Test accuracy: 0.334\n",
      "\n",
      "Training Block Diagonal GAT Number 0\n"
     ]
    },
    {
     "name": "stderr",
     "output_type": "stream",
     "text": [
      "100%|█████████████████████████████████████████████████████████████| 200/200 [00:14<00:00, 14.24it/s]\n"
     ]
    },
    {
     "name": "stdout",
     "output_type": "stream",
     "text": [
      "Validation accuracy: 0.952\n",
      "Evaluating Block Diagonal GAT Number 0\n",
      "Test accuracy: 0.367\n",
      "\n",
      "Training Block Diagonal GAT Number 1\n"
     ]
    },
    {
     "name": "stderr",
     "output_type": "stream",
     "text": [
      "100%|█████████████████████████████████████████████████████████████| 200/200 [00:13<00:00, 14.90it/s]\n"
     ]
    },
    {
     "name": "stdout",
     "output_type": "stream",
     "text": [
      "Validation accuracy: 0.952\n",
      "Evaluating Block Diagonal GAT Number 1\n",
      "Test accuracy: 0.343\n",
      "\n",
      "Training Block Diagonal GAT Number 2\n"
     ]
    },
    {
     "name": "stderr",
     "output_type": "stream",
     "text": [
      "100%|█████████████████████████████████████████████████████████████| 200/200 [00:25<00:00,  7.86it/s]\n"
     ]
    },
    {
     "name": "stdout",
     "output_type": "stream",
     "text": [
      "Validation accuracy: 0.961\n",
      "Evaluating Block Diagonal GAT Number 2\n",
      "Test accuracy: 0.351\n",
      "\n",
      "Training Block Diagonal GAT Number 3\n"
     ]
    },
    {
     "name": "stderr",
     "output_type": "stream",
     "text": [
      "100%|█████████████████████████████████████████████████████████████| 200/200 [00:18<00:00, 10.74it/s]\n"
     ]
    },
    {
     "name": "stdout",
     "output_type": "stream",
     "text": [
      "Validation accuracy: 0.926\n",
      "Evaluating Block Diagonal GAT Number 3\n",
      "Test accuracy: 0.355\n",
      "\n",
      "Training Block Diagonal GAT Number 4\n"
     ]
    },
    {
     "name": "stderr",
     "output_type": "stream",
     "text": [
      "100%|█████████████████████████████████████████████████████████████| 200/200 [00:18<00:00, 10.97it/s]\n"
     ]
    },
    {
     "name": "stdout",
     "output_type": "stream",
     "text": [
      "Validation accuracy: 0.944\n",
      "Evaluating Block Diagonal GAT Number 4\n",
      "Test accuracy: 0.357\n",
      "\n",
      "Training Block Diagonal GAT Number 5\n"
     ]
    },
    {
     "name": "stderr",
     "output_type": "stream",
     "text": [
      "100%|█████████████████████████████████████████████████████████████| 200/200 [00:16<00:00, 12.27it/s]\n"
     ]
    },
    {
     "name": "stdout",
     "output_type": "stream",
     "text": [
      "Validation accuracy: 0.935\n",
      "Evaluating Block Diagonal GAT Number 5\n",
      "Test accuracy: 0.359\n",
      "\n",
      "Training Block Diagonal GAT Number 6\n"
     ]
    },
    {
     "name": "stderr",
     "output_type": "stream",
     "text": [
      "100%|█████████████████████████████████████████████████████████████| 200/200 [00:18<00:00, 10.89it/s]\n"
     ]
    },
    {
     "name": "stdout",
     "output_type": "stream",
     "text": [
      "Validation accuracy: 0.957\n",
      "Evaluating Block Diagonal GAT Number 6\n",
      "Test accuracy: 0.353\n",
      "\n",
      "Training Block Diagonal GAT Number 7\n"
     ]
    },
    {
     "name": "stderr",
     "output_type": "stream",
     "text": [
      "100%|█████████████████████████████████████████████████████████████| 200/200 [00:14<00:00, 13.35it/s]\n"
     ]
    },
    {
     "name": "stdout",
     "output_type": "stream",
     "text": [
      "Validation accuracy: 0.931\n",
      "Evaluating Block Diagonal GAT Number 7\n",
      "Test accuracy: 0.355\n",
      "\n",
      "Training Block Diagonal GAT Number 8\n"
     ]
    },
    {
     "name": "stderr",
     "output_type": "stream",
     "text": [
      "100%|█████████████████████████████████████████████████████████████| 200/200 [00:19<00:00, 10.38it/s]\n"
     ]
    },
    {
     "name": "stdout",
     "output_type": "stream",
     "text": [
      "Validation accuracy: 0.970\n",
      "Evaluating Block Diagonal GAT Number 8\n",
      "Test accuracy: 0.350\n",
      "\n",
      "Training Block Diagonal GAT Number 9\n"
     ]
    },
    {
     "name": "stderr",
     "output_type": "stream",
     "text": [
      "100%|█████████████████████████████████████████████████████████████| 200/200 [00:18<00:00, 10.66it/s]\n"
     ]
    },
    {
     "name": "stdout",
     "output_type": "stream",
     "text": [
      "Validation accuracy: 0.926\n",
      "Evaluating Block Diagonal GAT Number 9\n",
      "Test accuracy: 0.352\n",
      "\n",
      "Training Block Diagonal GAT Number 10\n"
     ]
    },
    {
     "name": "stderr",
     "output_type": "stream",
     "text": [
      "100%|█████████████████████████████████████████████████████████████| 200/200 [00:17<00:00, 11.33it/s]\n"
     ]
    },
    {
     "name": "stdout",
     "output_type": "stream",
     "text": [
      "Validation accuracy: 0.965\n",
      "Evaluating Block Diagonal GAT Number 10\n",
      "Test accuracy: 0.349\n",
      "\n",
      "Training Block Diagonal GAT Number 11\n"
     ]
    },
    {
     "name": "stderr",
     "output_type": "stream",
     "text": [
      "100%|█████████████████████████████████████████████████████████████| 200/200 [00:16<00:00, 12.18it/s]\n"
     ]
    },
    {
     "name": "stdout",
     "output_type": "stream",
     "text": [
      "Validation accuracy: 0.948\n",
      "Evaluating Block Diagonal GAT Number 11\n",
      "Test accuracy: 0.351\n",
      "\n",
      "Training Block Diagonal GAT Number 12\n"
     ]
    },
    {
     "name": "stderr",
     "output_type": "stream",
     "text": [
      "100%|█████████████████████████████████████████████████████████████| 200/200 [00:19<00:00, 10.40it/s]\n"
     ]
    },
    {
     "name": "stdout",
     "output_type": "stream",
     "text": [
      "Validation accuracy: 0.952\n",
      "Evaluating Block Diagonal GAT Number 12\n",
      "Test accuracy: 0.348\n",
      "\n",
      "Training Block Diagonal GAT Number 13\n"
     ]
    },
    {
     "name": "stderr",
     "output_type": "stream",
     "text": [
      "100%|█████████████████████████████████████████████████████████████| 200/200 [00:19<00:00, 10.30it/s]\n"
     ]
    },
    {
     "name": "stdout",
     "output_type": "stream",
     "text": [
      "Validation accuracy: 0.948\n",
      "Evaluating Block Diagonal GAT Number 13\n",
      "Test accuracy: 0.349\n",
      "\n",
      "Training Block Diagonal GAT Number 14\n"
     ]
    },
    {
     "name": "stderr",
     "output_type": "stream",
     "text": [
      "100%|█████████████████████████████████████████████████████████████| 200/200 [00:19<00:00, 10.33it/s]\n"
     ]
    },
    {
     "name": "stdout",
     "output_type": "stream",
     "text": [
      "Validation accuracy: 0.931\n",
      "Evaluating Block Diagonal GAT Number 14\n",
      "Test accuracy: 0.350\n",
      "\n",
      "Training Block Diagonal GAT Number 15\n"
     ]
    },
    {
     "name": "stderr",
     "output_type": "stream",
     "text": [
      "100%|█████████████████████████████████████████████████████████████| 200/200 [00:15<00:00, 13.08it/s]\n"
     ]
    },
    {
     "name": "stdout",
     "output_type": "stream",
     "text": [
      "Validation accuracy: 0.939\n",
      "Evaluating Block Diagonal GAT Number 15\n",
      "Test accuracy: 0.348\n",
      "\n",
      "Training Block Diagonal GAT Number 16\n"
     ]
    },
    {
     "name": "stderr",
     "output_type": "stream",
     "text": [
      "100%|█████████████████████████████████████████████████████████████| 200/200 [00:28<00:00,  6.93it/s]\n"
     ]
    },
    {
     "name": "stdout",
     "output_type": "stream",
     "text": [
      "Validation accuracy: 0.961\n",
      "Evaluating Block Diagonal GAT Number 16\n",
      "Test accuracy: 0.346\n",
      "\n",
      "Training Block Diagonal GAT Number 17\n"
     ]
    },
    {
     "name": "stderr",
     "output_type": "stream",
     "text": [
      "100%|█████████████████████████████████████████████████████████████| 200/200 [00:14<00:00, 13.49it/s]\n"
     ]
    },
    {
     "name": "stdout",
     "output_type": "stream",
     "text": [
      "Validation accuracy: 0.944\n",
      "Evaluating Block Diagonal GAT Number 17\n",
      "Test accuracy: 0.347\n",
      "\n",
      "Training Block Diagonal GAT Number 18\n"
     ]
    },
    {
     "name": "stderr",
     "output_type": "stream",
     "text": [
      "100%|█████████████████████████████████████████████████████████████| 200/200 [00:20<00:00,  9.80it/s]\n"
     ]
    },
    {
     "name": "stdout",
     "output_type": "stream",
     "text": [
      "Validation accuracy: 0.931\n",
      "Evaluating Block Diagonal GAT Number 18\n",
      "Test accuracy: 0.346\n",
      "\n",
      "Training Block Diagonal GAT Number 19\n"
     ]
    },
    {
     "name": "stderr",
     "output_type": "stream",
     "text": [
      "100%|█████████████████████████████████████████████████████████████| 200/200 [00:14<00:00, 13.53it/s]\n"
     ]
    },
    {
     "name": "stdout",
     "output_type": "stream",
     "text": [
      "Validation accuracy: 0.974\n",
      "Evaluating Block Diagonal GAT Number 19\n",
      "Test accuracy: 0.347\n",
      "\n",
      "Training Block Diagonal GAT Number 20\n"
     ]
    },
    {
     "name": "stderr",
     "output_type": "stream",
     "text": [
      "100%|█████████████████████████████████████████████████████████████| 200/200 [00:19<00:00, 10.49it/s]\n"
     ]
    },
    {
     "name": "stdout",
     "output_type": "stream",
     "text": [
      "Validation accuracy: 0.931\n",
      "Evaluating Block Diagonal GAT Number 20\n",
      "Test accuracy: 0.348\n",
      "\n",
      "Training Block Diagonal GAT Number 21\n"
     ]
    },
    {
     "name": "stderr",
     "output_type": "stream",
     "text": [
      "100%|█████████████████████████████████████████████████████████████| 200/200 [00:19<00:00, 10.40it/s]\n"
     ]
    },
    {
     "name": "stdout",
     "output_type": "stream",
     "text": [
      "Validation accuracy: 0.948\n",
      "Evaluating Block Diagonal GAT Number 21\n",
      "Test accuracy: 0.346\n",
      "\n",
      "Training Block Diagonal GAT Number 22\n"
     ]
    },
    {
     "name": "stderr",
     "output_type": "stream",
     "text": [
      "100%|█████████████████████████████████████████████████████████████| 200/200 [00:17<00:00, 11.49it/s]\n"
     ]
    },
    {
     "name": "stdout",
     "output_type": "stream",
     "text": [
      "Validation accuracy: 0.961\n",
      "Evaluating Block Diagonal GAT Number 22\n",
      "Test accuracy: 0.345\n",
      "\n",
      "Training Block Diagonal GAT Number 23\n"
     ]
    },
    {
     "name": "stderr",
     "output_type": "stream",
     "text": [
      "100%|█████████████████████████████████████████████████████████████| 200/200 [00:15<00:00, 12.68it/s]\n"
     ]
    },
    {
     "name": "stdout",
     "output_type": "stream",
     "text": [
      "Validation accuracy: 0.887\n",
      "Evaluating Block Diagonal GAT Number 23\n",
      "Test accuracy: 0.346\n",
      "\n",
      "Training Block Diagonal GAT Number 24\n"
     ]
    },
    {
     "name": "stderr",
     "output_type": "stream",
     "text": [
      "100%|█████████████████████████████████████████████████████████████| 200/200 [00:17<00:00, 11.23it/s]\n"
     ]
    },
    {
     "name": "stdout",
     "output_type": "stream",
     "text": [
      "Validation accuracy: 0.913\n",
      "Evaluating Block Diagonal GAT Number 24\n",
      "Test accuracy: 0.347\n",
      "\n",
      "Training Block Diagonal GAT Number 25\n"
     ]
    },
    {
     "name": "stderr",
     "output_type": "stream",
     "text": [
      "100%|█████████████████████████████████████████████████████████████| 200/200 [00:17<00:00, 11.71it/s]\n"
     ]
    },
    {
     "name": "stdout",
     "output_type": "stream",
     "text": [
      "Validation accuracy: 0.913\n",
      "Evaluating Block Diagonal GAT Number 25\n",
      "Test accuracy: 0.346\n",
      "\n",
      "Training Block Diagonal GAT Number 26\n"
     ]
    },
    {
     "name": "stderr",
     "output_type": "stream",
     "text": [
      "100%|█████████████████████████████████████████████████████████████| 200/200 [00:18<00:00, 10.75it/s]\n"
     ]
    },
    {
     "name": "stdout",
     "output_type": "stream",
     "text": [
      "Validation accuracy: 0.922\n",
      "Evaluating Block Diagonal GAT Number 26\n",
      "Test accuracy: 0.345\n",
      "\n",
      "Training Block Diagonal GAT Number 27\n"
     ]
    },
    {
     "name": "stderr",
     "output_type": "stream",
     "text": [
      "100%|█████████████████████████████████████████████████████████████| 200/200 [00:14<00:00, 13.47it/s]\n"
     ]
    },
    {
     "name": "stdout",
     "output_type": "stream",
     "text": [
      "Validation accuracy: 0.939\n",
      "Evaluating Block Diagonal GAT Number 27\n",
      "Test accuracy: 0.345\n",
      "\n",
      "Training Block Diagonal GAT Number 28\n"
     ]
    },
    {
     "name": "stderr",
     "output_type": "stream",
     "text": [
      "100%|█████████████████████████████████████████████████████████████| 200/200 [00:16<00:00, 11.95it/s]\n"
     ]
    },
    {
     "name": "stdout",
     "output_type": "stream",
     "text": [
      "Validation accuracy: 0.961\n",
      "Evaluating Block Diagonal GAT Number 28\n",
      "Test accuracy: 0.346\n",
      "\n",
      "Training Block Diagonal GAT Number 29\n"
     ]
    },
    {
     "name": "stderr",
     "output_type": "stream",
     "text": [
      "100%|█████████████████████████████████████████████████████████████| 200/200 [00:13<00:00, 14.77it/s]\n"
     ]
    },
    {
     "name": "stdout",
     "output_type": "stream",
     "text": [
      "Validation accuracy: 0.883\n",
      "Evaluating Block Diagonal GAT Number 29\n",
      "Test accuracy: 0.347\n",
      "\n",
      "Training Block Diagonal GAT Number 30\n"
     ]
    },
    {
     "name": "stderr",
     "output_type": "stream",
     "text": [
      "100%|█████████████████████████████████████████████████████████████| 200/200 [00:15<00:00, 13.12it/s]\n"
     ]
    },
    {
     "name": "stdout",
     "output_type": "stream",
     "text": [
      "Validation accuracy: 0.918\n",
      "Evaluating Block Diagonal GAT Number 30\n",
      "Test accuracy: 0.346\n",
      "\n",
      "Training Block Diagonal GAT Number 31\n"
     ]
    },
    {
     "name": "stderr",
     "output_type": "stream",
     "text": [
      "100%|█████████████████████████████████████████████████████████████| 200/200 [00:18<00:00, 10.53it/s]\n"
     ]
    },
    {
     "name": "stdout",
     "output_type": "stream",
     "text": [
      "Validation accuracy: 0.957\n",
      "Evaluating Block Diagonal GAT Number 31\n",
      "Test accuracy: 0.345\n",
      "\n",
      "Training Block Diagonal GAT Number 32\n"
     ]
    },
    {
     "name": "stderr",
     "output_type": "stream",
     "text": [
      "100%|█████████████████████████████████████████████████████████████| 200/200 [00:16<00:00, 12.26it/s]\n"
     ]
    },
    {
     "name": "stdout",
     "output_type": "stream",
     "text": [
      "Validation accuracy: 0.974\n",
      "Evaluating Block Diagonal GAT Number 32\n",
      "Test accuracy: 0.344\n",
      "\n",
      "Training Block Diagonal GAT Number 33\n"
     ]
    },
    {
     "name": "stderr",
     "output_type": "stream",
     "text": [
      "100%|█████████████████████████████████████████████████████████████| 200/200 [00:15<00:00, 12.62it/s]\n"
     ]
    },
    {
     "name": "stdout",
     "output_type": "stream",
     "text": [
      "Validation accuracy: 0.918\n",
      "Evaluating Block Diagonal GAT Number 33\n",
      "Test accuracy: 0.345\n",
      "\n",
      "Training Block Diagonal GAT Number 34\n"
     ]
    },
    {
     "name": "stderr",
     "output_type": "stream",
     "text": [
      "100%|█████████████████████████████████████████████████████████████| 200/200 [00:15<00:00, 12.91it/s]\n"
     ]
    },
    {
     "name": "stdout",
     "output_type": "stream",
     "text": [
      "Validation accuracy: 0.961\n",
      "Evaluating Block Diagonal GAT Number 34\n",
      "Test accuracy: 0.346\n",
      "\n",
      "Training Block Diagonal GAT Number 35\n"
     ]
    },
    {
     "name": "stderr",
     "output_type": "stream",
     "text": [
      "100%|█████████████████████████████████████████████████████████████| 200/200 [00:25<00:00,  7.95it/s]\n"
     ]
    },
    {
     "name": "stdout",
     "output_type": "stream",
     "text": [
      "Validation accuracy: 0.944\n",
      "Evaluating Block Diagonal GAT Number 35\n",
      "Test accuracy: 0.345\n",
      "\n",
      "Training Block Diagonal GAT Number 36\n"
     ]
    },
    {
     "name": "stderr",
     "output_type": "stream",
     "text": [
      "100%|█████████████████████████████████████████████████████████████| 200/200 [00:17<00:00, 11.64it/s]\n"
     ]
    },
    {
     "name": "stdout",
     "output_type": "stream",
     "text": [
      "Validation accuracy: 0.944\n",
      "Evaluating Block Diagonal GAT Number 36\n",
      "Test accuracy: 0.346\n",
      "\n",
      "Training Block Diagonal GAT Number 37\n"
     ]
    },
    {
     "name": "stderr",
     "output_type": "stream",
     "text": [
      "100%|█████████████████████████████████████████████████████████████| 200/200 [00:20<00:00,  9.76it/s]\n"
     ]
    },
    {
     "name": "stdout",
     "output_type": "stream",
     "text": [
      "Validation accuracy: 0.944\n",
      "Evaluating Block Diagonal GAT Number 37\n",
      "Test accuracy: 0.346\n",
      "\n",
      "Training Block Diagonal GAT Number 38\n"
     ]
    },
    {
     "name": "stderr",
     "output_type": "stream",
     "text": [
      "100%|█████████████████████████████████████████████████████████████| 200/200 [00:17<00:00, 11.33it/s]\n"
     ]
    },
    {
     "name": "stdout",
     "output_type": "stream",
     "text": [
      "Validation accuracy: 0.935\n",
      "Evaluating Block Diagonal GAT Number 38\n",
      "Test accuracy: 0.347\n",
      "\n",
      "Training Block Diagonal GAT Number 39\n"
     ]
    },
    {
     "name": "stderr",
     "output_type": "stream",
     "text": [
      "100%|█████████████████████████████████████████████████████████████| 200/200 [00:15<00:00, 13.20it/s]\n"
     ]
    },
    {
     "name": "stdout",
     "output_type": "stream",
     "text": [
      "Validation accuracy: 0.935\n",
      "Evaluating Block Diagonal GAT Number 39\n",
      "Test accuracy: 0.347\n",
      "\n",
      "Training Block Diagonal GAT Number 40\n"
     ]
    },
    {
     "name": "stderr",
     "output_type": "stream",
     "text": [
      "100%|█████████████████████████████████████████████████████████████| 200/200 [00:13<00:00, 14.65it/s]\n"
     ]
    },
    {
     "name": "stdout",
     "output_type": "stream",
     "text": [
      "Validation accuracy: 0.961\n",
      "Evaluating Block Diagonal GAT Number 40\n",
      "Test accuracy: 0.348\n",
      "\n",
      "Training Block Diagonal GAT Number 41\n"
     ]
    },
    {
     "name": "stderr",
     "output_type": "stream",
     "text": [
      "100%|█████████████████████████████████████████████████████████████| 200/200 [00:14<00:00, 14.06it/s]\n"
     ]
    },
    {
     "name": "stdout",
     "output_type": "stream",
     "text": [
      "Validation accuracy: 0.978\n",
      "Evaluating Block Diagonal GAT Number 41\n",
      "Test accuracy: 0.347\n",
      "\n",
      "Training Block Diagonal GAT Number 42\n"
     ]
    },
    {
     "name": "stderr",
     "output_type": "stream",
     "text": [
      "100%|█████████████████████████████████████████████████████████████| 200/200 [00:23<00:00,  8.45it/s]\n"
     ]
    },
    {
     "name": "stdout",
     "output_type": "stream",
     "text": [
      "Validation accuracy: 0.965\n",
      "Evaluating Block Diagonal GAT Number 42\n",
      "Test accuracy: 0.346\n",
      "\n",
      "Training Block Diagonal GAT Number 43\n"
     ]
    },
    {
     "name": "stderr",
     "output_type": "stream",
     "text": [
      "100%|█████████████████████████████████████████████████████████████| 200/200 [00:17<00:00, 11.37it/s]\n"
     ]
    },
    {
     "name": "stdout",
     "output_type": "stream",
     "text": [
      "Validation accuracy: 0.926\n",
      "Evaluating Block Diagonal GAT Number 43\n",
      "Test accuracy: 0.347\n",
      "\n",
      "Training Block Diagonal GAT Number 44\n"
     ]
    },
    {
     "name": "stderr",
     "output_type": "stream",
     "text": [
      "100%|█████████████████████████████████████████████████████████████| 200/200 [00:18<00:00, 10.80it/s]\n"
     ]
    },
    {
     "name": "stdout",
     "output_type": "stream",
     "text": [
      "Validation accuracy: 0.952\n",
      "Evaluating Block Diagonal GAT Number 44\n",
      "Test accuracy: 0.346\n",
      "\n",
      "Training Block Diagonal GAT Number 45\n"
     ]
    },
    {
     "name": "stderr",
     "output_type": "stream",
     "text": [
      "100%|█████████████████████████████████████████████████████████████| 200/200 [00:16<00:00, 12.04it/s]\n"
     ]
    },
    {
     "name": "stdout",
     "output_type": "stream",
     "text": [
      "Validation accuracy: 0.957\n",
      "Evaluating Block Diagonal GAT Number 45\n",
      "Test accuracy: 0.347\n",
      "\n",
      "Training Block Diagonal GAT Number 46\n"
     ]
    },
    {
     "name": "stderr",
     "output_type": "stream",
     "text": [
      "100%|█████████████████████████████████████████████████████████████| 200/200 [00:14<00:00, 13.42it/s]\n"
     ]
    },
    {
     "name": "stdout",
     "output_type": "stream",
     "text": [
      "Validation accuracy: 0.944\n",
      "Evaluating Block Diagonal GAT Number 46\n",
      "Test accuracy: 0.347\n",
      "\n",
      "Training Block Diagonal GAT Number 47\n"
     ]
    },
    {
     "name": "stderr",
     "output_type": "stream",
     "text": [
      "100%|█████████████████████████████████████████████████████████████| 200/200 [00:15<00:00, 12.83it/s]\n"
     ]
    },
    {
     "name": "stdout",
     "output_type": "stream",
     "text": [
      "Validation accuracy: 0.948\n",
      "Evaluating Block Diagonal GAT Number 47\n",
      "Test accuracy: 0.347\n",
      "\n",
      "Training Block Diagonal GAT Number 48\n"
     ]
    },
    {
     "name": "stderr",
     "output_type": "stream",
     "text": [
      "100%|█████████████████████████████████████████████████████████████| 200/200 [00:16<00:00, 12.14it/s]\n"
     ]
    },
    {
     "name": "stdout",
     "output_type": "stream",
     "text": [
      "Validation accuracy: 0.922\n",
      "Evaluating Block Diagonal GAT Number 48\n",
      "Test accuracy: 0.347\n",
      "\n",
      "Training Block Diagonal GAT Number 49\n"
     ]
    },
    {
     "name": "stderr",
     "output_type": "stream",
     "text": [
      "100%|█████████████████████████████████████████████████████████████| 200/200 [00:20<00:00,  9.94it/s]\n"
     ]
    },
    {
     "name": "stdout",
     "output_type": "stream",
     "text": [
      "Validation accuracy: 0.931\n",
      "Evaluating Block Diagonal GAT Number 49\n",
      "Test accuracy: 0.346\n",
      "\n",
      "Training Unfolded GCN Number 0\n"
     ]
    },
    {
     "name": "stderr",
     "output_type": "stream",
     "text": [
      "100%|█████████████████████████████████████████████████████████████| 200/200 [00:14<00:00, 13.43it/s]\n"
     ]
    },
    {
     "name": "stdout",
     "output_type": "stream",
     "text": [
      "Validation accuracy: 0.974\n",
      "Evaluating Unfolded GCN Number 0\n",
      "Test accuracy: 0.986\n",
      "\n",
      "Training Unfolded GCN Number 1\n"
     ]
    },
    {
     "name": "stderr",
     "output_type": "stream",
     "text": [
      "100%|█████████████████████████████████████████████████████████████| 200/200 [00:15<00:00, 12.94it/s]\n"
     ]
    },
    {
     "name": "stdout",
     "output_type": "stream",
     "text": [
      "Validation accuracy: 0.983\n",
      "Evaluating Unfolded GCN Number 1\n",
      "Test accuracy: 0.986\n",
      "\n",
      "Training Unfolded GCN Number 2\n"
     ]
    },
    {
     "name": "stderr",
     "output_type": "stream",
     "text": [
      "100%|█████████████████████████████████████████████████████████████| 200/200 [00:15<00:00, 13.12it/s]\n"
     ]
    },
    {
     "name": "stdout",
     "output_type": "stream",
     "text": [
      "Validation accuracy: 0.991\n",
      "Evaluating Unfolded GCN Number 2\n",
      "Test accuracy: 0.986\n",
      "\n",
      "Training Unfolded GCN Number 3\n"
     ]
    },
    {
     "name": "stderr",
     "output_type": "stream",
     "text": [
      "100%|█████████████████████████████████████████████████████████████| 200/200 [00:15<00:00, 13.23it/s]\n"
     ]
    },
    {
     "name": "stdout",
     "output_type": "stream",
     "text": [
      "Validation accuracy: 0.983\n",
      "Evaluating Unfolded GCN Number 3\n",
      "Test accuracy: 0.986\n",
      "\n",
      "Training Unfolded GCN Number 4\n"
     ]
    },
    {
     "name": "stderr",
     "output_type": "stream",
     "text": [
      "100%|█████████████████████████████████████████████████████████████| 200/200 [00:14<00:00, 14.02it/s]\n"
     ]
    },
    {
     "name": "stdout",
     "output_type": "stream",
     "text": [
      "Validation accuracy: 0.987\n",
      "Evaluating Unfolded GCN Number 4\n",
      "Test accuracy: 0.986\n",
      "\n",
      "Training Unfolded GCN Number 5\n"
     ]
    },
    {
     "name": "stderr",
     "output_type": "stream",
     "text": [
      "100%|█████████████████████████████████████████████████████████████| 200/200 [00:15<00:00, 13.22it/s]\n"
     ]
    },
    {
     "name": "stdout",
     "output_type": "stream",
     "text": [
      "Validation accuracy: 0.974\n",
      "Evaluating Unfolded GCN Number 5\n",
      "Test accuracy: 0.985\n",
      "\n",
      "Training Unfolded GCN Number 6\n"
     ]
    },
    {
     "name": "stderr",
     "output_type": "stream",
     "text": [
      "100%|█████████████████████████████████████████████████████████████| 200/200 [00:13<00:00, 14.52it/s]\n"
     ]
    },
    {
     "name": "stdout",
     "output_type": "stream",
     "text": [
      "Validation accuracy: 0.987\n",
      "Evaluating Unfolded GCN Number 6\n",
      "Test accuracy: 0.985\n",
      "\n",
      "Training Unfolded GCN Number 7\n"
     ]
    },
    {
     "name": "stderr",
     "output_type": "stream",
     "text": [
      "100%|█████████████████████████████████████████████████████████████| 200/200 [00:15<00:00, 13.28it/s]\n"
     ]
    },
    {
     "name": "stdout",
     "output_type": "stream",
     "text": [
      "Validation accuracy: 1.000\n",
      "Evaluating Unfolded GCN Number 7\n",
      "Test accuracy: 0.984\n",
      "\n",
      "Training Unfolded GCN Number 8\n"
     ]
    },
    {
     "name": "stderr",
     "output_type": "stream",
     "text": [
      "100%|█████████████████████████████████████████████████████████████| 200/200 [00:14<00:00, 13.39it/s]\n"
     ]
    },
    {
     "name": "stdout",
     "output_type": "stream",
     "text": [
      "Validation accuracy: 0.983\n",
      "Evaluating Unfolded GCN Number 8\n",
      "Test accuracy: 0.984\n",
      "\n",
      "Training Unfolded GCN Number 9\n"
     ]
    },
    {
     "name": "stderr",
     "output_type": "stream",
     "text": [
      "100%|█████████████████████████████████████████████████████████████| 200/200 [00:15<00:00, 12.64it/s]\n"
     ]
    },
    {
     "name": "stdout",
     "output_type": "stream",
     "text": [
      "Validation accuracy: 0.983\n",
      "Evaluating Unfolded GCN Number 9\n",
      "Test accuracy: 0.984\n",
      "\n",
      "Training Unfolded GCN Number 10\n"
     ]
    },
    {
     "name": "stderr",
     "output_type": "stream",
     "text": [
      "100%|█████████████████████████████████████████████████████████████| 200/200 [00:15<00:00, 13.21it/s]\n"
     ]
    },
    {
     "name": "stdout",
     "output_type": "stream",
     "text": [
      "Validation accuracy: 0.991\n",
      "Evaluating Unfolded GCN Number 10\n",
      "Test accuracy: 0.984\n",
      "\n",
      "Training Unfolded GCN Number 11\n"
     ]
    },
    {
     "name": "stderr",
     "output_type": "stream",
     "text": [
      "100%|█████████████████████████████████████████████████████████████| 200/200 [00:14<00:00, 13.52it/s]\n"
     ]
    },
    {
     "name": "stdout",
     "output_type": "stream",
     "text": [
      "Validation accuracy: 0.996\n",
      "Evaluating Unfolded GCN Number 11\n",
      "Test accuracy: 0.984\n",
      "\n",
      "Training Unfolded GCN Number 12\n"
     ]
    },
    {
     "name": "stderr",
     "output_type": "stream",
     "text": [
      "100%|█████████████████████████████████████████████████████████████| 200/200 [00:14<00:00, 13.74it/s]\n"
     ]
    },
    {
     "name": "stdout",
     "output_type": "stream",
     "text": [
      "Validation accuracy: 0.983\n",
      "Evaluating Unfolded GCN Number 12\n",
      "Test accuracy: 0.985\n",
      "\n",
      "Training Unfolded GCN Number 13\n"
     ]
    },
    {
     "name": "stderr",
     "output_type": "stream",
     "text": [
      "100%|█████████████████████████████████████████████████████████████| 200/200 [00:14<00:00, 13.80it/s]\n"
     ]
    },
    {
     "name": "stdout",
     "output_type": "stream",
     "text": [
      "Validation accuracy: 0.970\n",
      "Evaluating Unfolded GCN Number 13\n",
      "Test accuracy: 0.984\n",
      "\n",
      "Training Unfolded GCN Number 14\n"
     ]
    },
    {
     "name": "stderr",
     "output_type": "stream",
     "text": [
      "100%|█████████████████████████████████████████████████████████████| 200/200 [00:15<00:00, 13.10it/s]\n"
     ]
    },
    {
     "name": "stdout",
     "output_type": "stream",
     "text": [
      "Validation accuracy: 0.974\n",
      "Evaluating Unfolded GCN Number 14\n",
      "Test accuracy: 0.984\n",
      "\n",
      "Training Unfolded GCN Number 15\n"
     ]
    },
    {
     "name": "stderr",
     "output_type": "stream",
     "text": [
      "100%|█████████████████████████████████████████████████████████████| 200/200 [00:14<00:00, 13.80it/s]\n"
     ]
    },
    {
     "name": "stdout",
     "output_type": "stream",
     "text": [
      "Validation accuracy: 0.983\n",
      "Evaluating Unfolded GCN Number 15\n",
      "Test accuracy: 0.984\n",
      "\n",
      "Training Unfolded GCN Number 16\n"
     ]
    },
    {
     "name": "stderr",
     "output_type": "stream",
     "text": [
      "100%|█████████████████████████████████████████████████████████████| 200/200 [00:14<00:00, 13.89it/s]\n"
     ]
    },
    {
     "name": "stdout",
     "output_type": "stream",
     "text": [
      "Validation accuracy: 0.996\n",
      "Evaluating Unfolded GCN Number 16\n",
      "Test accuracy: 0.984\n",
      "\n",
      "Training Unfolded GCN Number 17\n"
     ]
    },
    {
     "name": "stderr",
     "output_type": "stream",
     "text": [
      "100%|█████████████████████████████████████████████████████████████| 200/200 [00:14<00:00, 13.36it/s]\n"
     ]
    },
    {
     "name": "stdout",
     "output_type": "stream",
     "text": [
      "Validation accuracy: 0.991\n",
      "Evaluating Unfolded GCN Number 17\n",
      "Test accuracy: 0.984\n",
      "\n",
      "Training Unfolded GCN Number 18\n"
     ]
    },
    {
     "name": "stderr",
     "output_type": "stream",
     "text": [
      "100%|█████████████████████████████████████████████████████████████| 200/200 [00:15<00:00, 12.63it/s]\n"
     ]
    },
    {
     "name": "stdout",
     "output_type": "stream",
     "text": [
      "Validation accuracy: 0.978\n",
      "Evaluating Unfolded GCN Number 18\n",
      "Test accuracy: 0.984\n",
      "\n",
      "Training Unfolded GCN Number 19\n"
     ]
    },
    {
     "name": "stderr",
     "output_type": "stream",
     "text": [
      "100%|█████████████████████████████████████████████████████████████| 200/200 [00:16<00:00, 12.31it/s]\n"
     ]
    },
    {
     "name": "stdout",
     "output_type": "stream",
     "text": [
      "Validation accuracy: 0.991\n",
      "Evaluating Unfolded GCN Number 19\n",
      "Test accuracy: 0.984\n",
      "\n",
      "Training Unfolded GCN Number 20\n"
     ]
    },
    {
     "name": "stderr",
     "output_type": "stream",
     "text": [
      "100%|█████████████████████████████████████████████████████████████| 200/200 [00:14<00:00, 13.67it/s]\n"
     ]
    },
    {
     "name": "stdout",
     "output_type": "stream",
     "text": [
      "Validation accuracy: 0.987\n",
      "Evaluating Unfolded GCN Number 20\n",
      "Test accuracy: 0.984\n",
      "\n",
      "Training Unfolded GCN Number 21\n"
     ]
    },
    {
     "name": "stderr",
     "output_type": "stream",
     "text": [
      "100%|█████████████████████████████████████████████████████████████| 200/200 [00:14<00:00, 13.63it/s]\n"
     ]
    },
    {
     "name": "stdout",
     "output_type": "stream",
     "text": [
      "Validation accuracy: 0.983\n",
      "Evaluating Unfolded GCN Number 21\n",
      "Test accuracy: 0.984\n",
      "\n",
      "Training Unfolded GCN Number 22\n"
     ]
    },
    {
     "name": "stderr",
     "output_type": "stream",
     "text": [
      "100%|█████████████████████████████████████████████████████████████| 200/200 [00:15<00:00, 12.64it/s]\n"
     ]
    },
    {
     "name": "stdout",
     "output_type": "stream",
     "text": [
      "Validation accuracy: 0.974\n",
      "Evaluating Unfolded GCN Number 22\n",
      "Test accuracy: 0.984\n",
      "\n",
      "Training Unfolded GCN Number 23\n"
     ]
    },
    {
     "name": "stderr",
     "output_type": "stream",
     "text": [
      "100%|█████████████████████████████████████████████████████████████| 200/200 [00:14<00:00, 14.02it/s]\n"
     ]
    },
    {
     "name": "stdout",
     "output_type": "stream",
     "text": [
      "Validation accuracy: 0.991\n",
      "Evaluating Unfolded GCN Number 23\n",
      "Test accuracy: 0.984\n",
      "\n",
      "Training Unfolded GCN Number 24\n"
     ]
    },
    {
     "name": "stderr",
     "output_type": "stream",
     "text": [
      "100%|█████████████████████████████████████████████████████████████| 200/200 [00:14<00:00, 13.56it/s]\n"
     ]
    },
    {
     "name": "stdout",
     "output_type": "stream",
     "text": [
      "Validation accuracy: 0.974\n",
      "Evaluating Unfolded GCN Number 24\n",
      "Test accuracy: 0.984\n",
      "\n",
      "Training Unfolded GCN Number 25\n"
     ]
    },
    {
     "name": "stderr",
     "output_type": "stream",
     "text": [
      "100%|█████████████████████████████████████████████████████████████| 200/200 [00:15<00:00, 13.29it/s]\n"
     ]
    },
    {
     "name": "stdout",
     "output_type": "stream",
     "text": [
      "Validation accuracy: 0.978\n",
      "Evaluating Unfolded GCN Number 25\n",
      "Test accuracy: 0.984\n",
      "\n",
      "Training Unfolded GCN Number 26\n"
     ]
    },
    {
     "name": "stderr",
     "output_type": "stream",
     "text": [
      "100%|█████████████████████████████████████████████████████████████| 200/200 [00:14<00:00, 13.94it/s]\n"
     ]
    },
    {
     "name": "stdout",
     "output_type": "stream",
     "text": [
      "Validation accuracy: 0.987\n",
      "Evaluating Unfolded GCN Number 26\n",
      "Test accuracy: 0.984\n",
      "\n",
      "Training Unfolded GCN Number 27\n"
     ]
    },
    {
     "name": "stderr",
     "output_type": "stream",
     "text": [
      "100%|█████████████████████████████████████████████████████████████| 200/200 [00:14<00:00, 13.35it/s]\n"
     ]
    },
    {
     "name": "stdout",
     "output_type": "stream",
     "text": [
      "Validation accuracy: 0.987\n",
      "Evaluating Unfolded GCN Number 27\n",
      "Test accuracy: 0.984\n",
      "\n",
      "Training Unfolded GCN Number 28\n"
     ]
    },
    {
     "name": "stderr",
     "output_type": "stream",
     "text": [
      "100%|█████████████████████████████████████████████████████████████| 200/200 [00:14<00:00, 13.78it/s]\n"
     ]
    },
    {
     "name": "stdout",
     "output_type": "stream",
     "text": [
      "Validation accuracy: 0.970\n",
      "Evaluating Unfolded GCN Number 28\n",
      "Test accuracy: 0.984\n",
      "\n",
      "Training Unfolded GCN Number 29\n"
     ]
    },
    {
     "name": "stderr",
     "output_type": "stream",
     "text": [
      "100%|█████████████████████████████████████████████████████████████| 200/200 [00:15<00:00, 12.85it/s]\n"
     ]
    },
    {
     "name": "stdout",
     "output_type": "stream",
     "text": [
      "Validation accuracy: 0.983\n",
      "Evaluating Unfolded GCN Number 29\n",
      "Test accuracy: 0.984\n",
      "\n",
      "Training Unfolded GCN Number 30\n"
     ]
    },
    {
     "name": "stderr",
     "output_type": "stream",
     "text": [
      "100%|█████████████████████████████████████████████████████████████| 200/200 [00:14<00:00, 13.63it/s]\n"
     ]
    },
    {
     "name": "stdout",
     "output_type": "stream",
     "text": [
      "Validation accuracy: 0.991\n",
      "Evaluating Unfolded GCN Number 30\n",
      "Test accuracy: 0.984\n",
      "\n",
      "Training Unfolded GCN Number 31\n"
     ]
    },
    {
     "name": "stderr",
     "output_type": "stream",
     "text": [
      "100%|█████████████████████████████████████████████████████████████| 200/200 [00:15<00:00, 13.30it/s]\n"
     ]
    },
    {
     "name": "stdout",
     "output_type": "stream",
     "text": [
      "Validation accuracy: 0.983\n",
      "Evaluating Unfolded GCN Number 31\n",
      "Test accuracy: 0.984\n",
      "\n",
      "Training Unfolded GCN Number 32\n"
     ]
    },
    {
     "name": "stderr",
     "output_type": "stream",
     "text": [
      "100%|█████████████████████████████████████████████████████████████| 200/200 [00:14<00:00, 13.54it/s]\n"
     ]
    },
    {
     "name": "stdout",
     "output_type": "stream",
     "text": [
      "Validation accuracy: 0.987\n",
      "Evaluating Unfolded GCN Number 32\n",
      "Test accuracy: 0.984\n",
      "\n",
      "Training Unfolded GCN Number 33\n"
     ]
    },
    {
     "name": "stderr",
     "output_type": "stream",
     "text": [
      "100%|█████████████████████████████████████████████████████████████| 200/200 [00:16<00:00, 12.30it/s]\n"
     ]
    },
    {
     "name": "stdout",
     "output_type": "stream",
     "text": [
      "Validation accuracy: 0.987\n",
      "Evaluating Unfolded GCN Number 33\n",
      "Test accuracy: 0.984\n",
      "\n",
      "Training Unfolded GCN Number 34\n"
     ]
    },
    {
     "name": "stderr",
     "output_type": "stream",
     "text": [
      "100%|█████████████████████████████████████████████████████████████| 200/200 [00:14<00:00, 13.89it/s]\n"
     ]
    },
    {
     "name": "stdout",
     "output_type": "stream",
     "text": [
      "Validation accuracy: 0.996\n",
      "Evaluating Unfolded GCN Number 34\n",
      "Test accuracy: 0.984\n",
      "\n",
      "Training Unfolded GCN Number 35\n"
     ]
    },
    {
     "name": "stderr",
     "output_type": "stream",
     "text": [
      "100%|█████████████████████████████████████████████████████████████| 200/200 [00:15<00:00, 13.06it/s]\n"
     ]
    },
    {
     "name": "stdout",
     "output_type": "stream",
     "text": [
      "Validation accuracy: 0.974\n",
      "Evaluating Unfolded GCN Number 35\n",
      "Test accuracy: 0.985\n",
      "\n",
      "Training Unfolded GCN Number 36\n"
     ]
    },
    {
     "name": "stderr",
     "output_type": "stream",
     "text": [
      "100%|█████████████████████████████████████████████████████████████| 200/200 [00:17<00:00, 11.59it/s]\n"
     ]
    },
    {
     "name": "stdout",
     "output_type": "stream",
     "text": [
      "Validation accuracy: 0.978\n",
      "Evaluating Unfolded GCN Number 36\n",
      "Test accuracy: 0.985\n",
      "\n",
      "Training Unfolded GCN Number 37\n"
     ]
    },
    {
     "name": "stderr",
     "output_type": "stream",
     "text": [
      "100%|█████████████████████████████████████████████████████████████| 200/200 [00:15<00:00, 13.00it/s]\n"
     ]
    },
    {
     "name": "stdout",
     "output_type": "stream",
     "text": [
      "Validation accuracy: 0.987\n",
      "Evaluating Unfolded GCN Number 37\n",
      "Test accuracy: 0.985\n",
      "\n",
      "Training Unfolded GCN Number 38\n"
     ]
    },
    {
     "name": "stderr",
     "output_type": "stream",
     "text": [
      "100%|█████████████████████████████████████████████████████████████| 200/200 [00:15<00:00, 12.99it/s]\n"
     ]
    },
    {
     "name": "stdout",
     "output_type": "stream",
     "text": [
      "Validation accuracy: 1.000\n",
      "Evaluating Unfolded GCN Number 38\n",
      "Test accuracy: 0.985\n",
      "\n",
      "Training Unfolded GCN Number 39\n"
     ]
    },
    {
     "name": "stderr",
     "output_type": "stream",
     "text": [
      "100%|█████████████████████████████████████████████████████████████| 200/200 [00:15<00:00, 12.81it/s]\n"
     ]
    },
    {
     "name": "stdout",
     "output_type": "stream",
     "text": [
      "Validation accuracy: 0.983\n",
      "Evaluating Unfolded GCN Number 39\n",
      "Test accuracy: 0.985\n",
      "\n",
      "Training Unfolded GCN Number 40\n"
     ]
    },
    {
     "name": "stderr",
     "output_type": "stream",
     "text": [
      "100%|█████████████████████████████████████████████████████████████| 200/200 [00:16<00:00, 12.37it/s]\n"
     ]
    },
    {
     "name": "stdout",
     "output_type": "stream",
     "text": [
      "Validation accuracy: 0.996\n",
      "Evaluating Unfolded GCN Number 40\n",
      "Test accuracy: 0.985\n",
      "\n",
      "Training Unfolded GCN Number 41\n"
     ]
    },
    {
     "name": "stderr",
     "output_type": "stream",
     "text": [
      "100%|█████████████████████████████████████████████████████████████| 200/200 [00:15<00:00, 13.23it/s]\n"
     ]
    },
    {
     "name": "stdout",
     "output_type": "stream",
     "text": [
      "Validation accuracy: 0.996\n",
      "Evaluating Unfolded GCN Number 41\n",
      "Test accuracy: 0.985\n",
      "\n",
      "Training Unfolded GCN Number 42\n"
     ]
    },
    {
     "name": "stderr",
     "output_type": "stream",
     "text": [
      "100%|█████████████████████████████████████████████████████████████| 200/200 [00:14<00:00, 13.44it/s]\n"
     ]
    },
    {
     "name": "stdout",
     "output_type": "stream",
     "text": [
      "Validation accuracy: 0.983\n",
      "Evaluating Unfolded GCN Number 42\n",
      "Test accuracy: 0.985\n",
      "\n",
      "Training Unfolded GCN Number 43\n"
     ]
    },
    {
     "name": "stderr",
     "output_type": "stream",
     "text": [
      "100%|█████████████████████████████████████████████████████████████| 200/200 [00:14<00:00, 13.57it/s]\n"
     ]
    },
    {
     "name": "stdout",
     "output_type": "stream",
     "text": [
      "Validation accuracy: 0.987\n",
      "Evaluating Unfolded GCN Number 43\n",
      "Test accuracy: 0.985\n",
      "\n",
      "Training Unfolded GCN Number 44\n"
     ]
    },
    {
     "name": "stderr",
     "output_type": "stream",
     "text": [
      "100%|█████████████████████████████████████████████████████████████| 200/200 [00:13<00:00, 14.35it/s]\n"
     ]
    },
    {
     "name": "stdout",
     "output_type": "stream",
     "text": [
      "Validation accuracy: 0.991\n",
      "Evaluating Unfolded GCN Number 44\n",
      "Test accuracy: 0.985\n",
      "\n",
      "Training Unfolded GCN Number 45\n"
     ]
    },
    {
     "name": "stderr",
     "output_type": "stream",
     "text": [
      "100%|█████████████████████████████████████████████████████████████| 200/200 [00:14<00:00, 13.57it/s]\n"
     ]
    },
    {
     "name": "stdout",
     "output_type": "stream",
     "text": [
      "Validation accuracy: 0.978\n",
      "Evaluating Unfolded GCN Number 45\n",
      "Test accuracy: 0.985\n",
      "\n",
      "Training Unfolded GCN Number 46\n"
     ]
    },
    {
     "name": "stderr",
     "output_type": "stream",
     "text": [
      "100%|█████████████████████████████████████████████████████████████| 200/200 [00:14<00:00, 13.70it/s]\n"
     ]
    },
    {
     "name": "stdout",
     "output_type": "stream",
     "text": [
      "Validation accuracy: 0.996\n",
      "Evaluating Unfolded GCN Number 46\n",
      "Test accuracy: 0.985\n",
      "\n",
      "Training Unfolded GCN Number 47\n"
     ]
    },
    {
     "name": "stderr",
     "output_type": "stream",
     "text": [
      "100%|█████████████████████████████████████████████████████████████| 200/200 [00:15<00:00, 12.75it/s]\n"
     ]
    },
    {
     "name": "stdout",
     "output_type": "stream",
     "text": [
      "Validation accuracy: 0.991\n",
      "Evaluating Unfolded GCN Number 47\n",
      "Test accuracy: 0.985\n",
      "\n",
      "Training Unfolded GCN Number 48\n"
     ]
    },
    {
     "name": "stderr",
     "output_type": "stream",
     "text": [
      "100%|█████████████████████████████████████████████████████████████| 200/200 [00:14<00:00, 13.88it/s]\n"
     ]
    },
    {
     "name": "stdout",
     "output_type": "stream",
     "text": [
      "Validation accuracy: 0.974\n",
      "Evaluating Unfolded GCN Number 48\n",
      "Test accuracy: 0.985\n",
      "\n",
      "Training Unfolded GCN Number 49\n"
     ]
    },
    {
     "name": "stderr",
     "output_type": "stream",
     "text": [
      "100%|█████████████████████████████████████████████████████████████| 200/200 [00:15<00:00, 13.20it/s]\n"
     ]
    },
    {
     "name": "stdout",
     "output_type": "stream",
     "text": [
      "Validation accuracy: 0.987\n",
      "Evaluating Unfolded GCN Number 49\n",
      "Test accuracy: 0.985\n",
      "\n",
      "Training Unfolded GAT Number 0\n"
     ]
    },
    {
     "name": "stderr",
     "output_type": "stream",
     "text": [
      "100%|█████████████████████████████████████████████████████████████| 200/200 [00:25<00:00,  7.92it/s]\n"
     ]
    },
    {
     "name": "stdout",
     "output_type": "stream",
     "text": [
      "Validation accuracy: 0.970\n",
      "Evaluating Unfolded GAT Number 0\n",
      "Test accuracy: 0.979\n",
      "\n",
      "Training Unfolded GAT Number 1\n"
     ]
    },
    {
     "name": "stderr",
     "output_type": "stream",
     "text": [
      "100%|█████████████████████████████████████████████████████████████| 200/200 [00:29<00:00,  6.70it/s]\n"
     ]
    },
    {
     "name": "stdout",
     "output_type": "stream",
     "text": [
      "Validation accuracy: 0.978\n",
      "Evaluating Unfolded GAT Number 1\n",
      "Test accuracy: 0.974\n",
      "\n",
      "Training Unfolded GAT Number 2\n"
     ]
    },
    {
     "name": "stderr",
     "output_type": "stream",
     "text": [
      "100%|█████████████████████████████████████████████████████████████| 200/200 [00:37<00:00,  5.33it/s]\n"
     ]
    },
    {
     "name": "stdout",
     "output_type": "stream",
     "text": [
      "Validation accuracy: 0.965\n",
      "Evaluating Unfolded GAT Number 2\n",
      "Test accuracy: 0.970\n",
      "\n",
      "Training Unfolded GAT Number 3\n"
     ]
    },
    {
     "name": "stderr",
     "output_type": "stream",
     "text": [
      "100%|█████████████████████████████████████████████████████████████| 200/200 [00:30<00:00,  6.57it/s]\n"
     ]
    },
    {
     "name": "stdout",
     "output_type": "stream",
     "text": [
      "Validation accuracy: 0.957\n",
      "Evaluating Unfolded GAT Number 3\n",
      "Test accuracy: 0.969\n",
      "\n",
      "Training Unfolded GAT Number 4\n"
     ]
    },
    {
     "name": "stderr",
     "output_type": "stream",
     "text": [
      "100%|█████████████████████████████████████████████████████████████| 200/200 [00:36<00:00,  5.52it/s]\n"
     ]
    },
    {
     "name": "stdout",
     "output_type": "stream",
     "text": [
      "Validation accuracy: 0.961\n",
      "Evaluating Unfolded GAT Number 4\n",
      "Test accuracy: 0.970\n",
      "\n",
      "Training Unfolded GAT Number 5\n"
     ]
    },
    {
     "name": "stderr",
     "output_type": "stream",
     "text": [
      "100%|█████████████████████████████████████████████████████████████| 200/200 [00:29<00:00,  6.79it/s]\n"
     ]
    },
    {
     "name": "stdout",
     "output_type": "stream",
     "text": [
      "Validation accuracy: 0.957\n",
      "Evaluating Unfolded GAT Number 5\n",
      "Test accuracy: 0.969\n",
      "\n",
      "Training Unfolded GAT Number 6\n"
     ]
    },
    {
     "name": "stderr",
     "output_type": "stream",
     "text": [
      "100%|█████████████████████████████████████████████████████████████| 200/200 [00:30<00:00,  6.50it/s]\n"
     ]
    },
    {
     "name": "stdout",
     "output_type": "stream",
     "text": [
      "Validation accuracy: 0.978\n",
      "Evaluating Unfolded GAT Number 6\n",
      "Test accuracy: 0.970\n",
      "\n",
      "Training Unfolded GAT Number 7\n"
     ]
    },
    {
     "name": "stderr",
     "output_type": "stream",
     "text": [
      "100%|█████████████████████████████████████████████████████████████| 200/200 [00:32<00:00,  6.17it/s]\n"
     ]
    },
    {
     "name": "stdout",
     "output_type": "stream",
     "text": [
      "Validation accuracy: 1.000\n",
      "Evaluating Unfolded GAT Number 7\n",
      "Test accuracy: 0.972\n",
      "\n",
      "Training Unfolded GAT Number 8\n"
     ]
    },
    {
     "name": "stderr",
     "output_type": "stream",
     "text": [
      "100%|█████████████████████████████████████████████████████████████| 200/200 [00:30<00:00,  6.54it/s]\n"
     ]
    },
    {
     "name": "stdout",
     "output_type": "stream",
     "text": [
      "Validation accuracy: 0.961\n",
      "Evaluating Unfolded GAT Number 8\n",
      "Test accuracy: 0.972\n",
      "\n",
      "Training Unfolded GAT Number 9\n"
     ]
    },
    {
     "name": "stderr",
     "output_type": "stream",
     "text": [
      "100%|█████████████████████████████████████████████████████████████| 200/200 [00:24<00:00,  8.13it/s]\n"
     ]
    },
    {
     "name": "stdout",
     "output_type": "stream",
     "text": [
      "Validation accuracy: 0.965\n",
      "Evaluating Unfolded GAT Number 9\n",
      "Test accuracy: 0.973\n",
      "\n",
      "Training Unfolded GAT Number 10\n"
     ]
    },
    {
     "name": "stderr",
     "output_type": "stream",
     "text": [
      "100%|█████████████████████████████████████████████████████████████| 200/200 [00:32<00:00,  6.20it/s]\n"
     ]
    },
    {
     "name": "stdout",
     "output_type": "stream",
     "text": [
      "Validation accuracy: 0.978\n",
      "Evaluating Unfolded GAT Number 10\n",
      "Test accuracy: 0.974\n",
      "\n",
      "Training Unfolded GAT Number 11\n"
     ]
    },
    {
     "name": "stderr",
     "output_type": "stream",
     "text": [
      "100%|█████████████████████████████████████████████████████████████| 200/200 [00:30<00:00,  6.59it/s]\n"
     ]
    },
    {
     "name": "stdout",
     "output_type": "stream",
     "text": [
      "Validation accuracy: 0.965\n",
      "Evaluating Unfolded GAT Number 11\n",
      "Test accuracy: 0.974\n",
      "\n",
      "Training Unfolded GAT Number 12\n"
     ]
    },
    {
     "name": "stderr",
     "output_type": "stream",
     "text": [
      "100%|█████████████████████████████████████████████████████████████| 200/200 [00:26<00:00,  7.52it/s]\n"
     ]
    },
    {
     "name": "stdout",
     "output_type": "stream",
     "text": [
      "Validation accuracy: 0.987\n",
      "Evaluating Unfolded GAT Number 12\n",
      "Test accuracy: 0.975\n",
      "\n",
      "Training Unfolded GAT Number 13\n"
     ]
    },
    {
     "name": "stderr",
     "output_type": "stream",
     "text": [
      "100%|█████████████████████████████████████████████████████████████| 200/200 [00:36<00:00,  5.41it/s]\n"
     ]
    },
    {
     "name": "stdout",
     "output_type": "stream",
     "text": [
      "Validation accuracy: 0.970\n",
      "Evaluating Unfolded GAT Number 13\n",
      "Test accuracy: 0.976\n",
      "\n",
      "Training Unfolded GAT Number 14\n"
     ]
    },
    {
     "name": "stderr",
     "output_type": "stream",
     "text": [
      "100%|█████████████████████████████████████████████████████████████| 200/200 [00:32<00:00,  6.24it/s]\n"
     ]
    },
    {
     "name": "stdout",
     "output_type": "stream",
     "text": [
      "Validation accuracy: 0.974\n",
      "Evaluating Unfolded GAT Number 14\n",
      "Test accuracy: 0.977\n",
      "\n",
      "Training Unfolded GAT Number 15\n"
     ]
    },
    {
     "name": "stderr",
     "output_type": "stream",
     "text": [
      "100%|█████████████████████████████████████████████████████████████| 200/200 [00:24<00:00,  8.13it/s]\n"
     ]
    },
    {
     "name": "stdout",
     "output_type": "stream",
     "text": [
      "Validation accuracy: 0.978\n",
      "Evaluating Unfolded GAT Number 15\n",
      "Test accuracy: 0.977\n",
      "\n",
      "Training Unfolded GAT Number 16\n"
     ]
    },
    {
     "name": "stderr",
     "output_type": "stream",
     "text": [
      "100%|█████████████████████████████████████████████████████████████| 200/200 [00:31<00:00,  6.28it/s]\n"
     ]
    },
    {
     "name": "stdout",
     "output_type": "stream",
     "text": [
      "Validation accuracy: 0.987\n",
      "Evaluating Unfolded GAT Number 16\n",
      "Test accuracy: 0.977\n",
      "\n",
      "Training Unfolded GAT Number 17\n"
     ]
    },
    {
     "name": "stderr",
     "output_type": "stream",
     "text": [
      "100%|█████████████████████████████████████████████████████████████| 200/200 [00:31<00:00,  6.34it/s]\n"
     ]
    },
    {
     "name": "stdout",
     "output_type": "stream",
     "text": [
      "Validation accuracy: 0.935\n",
      "Evaluating Unfolded GAT Number 17\n",
      "Test accuracy: 0.974\n",
      "\n",
      "Training Unfolded GAT Number 18\n"
     ]
    },
    {
     "name": "stderr",
     "output_type": "stream",
     "text": [
      "100%|█████████████████████████████████████████████████████████████| 200/200 [00:28<00:00,  6.94it/s]\n"
     ]
    },
    {
     "name": "stdout",
     "output_type": "stream",
     "text": [
      "Validation accuracy: 0.948\n",
      "Evaluating Unfolded GAT Number 18\n",
      "Test accuracy: 0.974\n",
      "\n",
      "Training Unfolded GAT Number 19\n"
     ]
    },
    {
     "name": "stderr",
     "output_type": "stream",
     "text": [
      "100%|█████████████████████████████████████████████████████████████| 200/200 [00:35<00:00,  5.61it/s]\n"
     ]
    },
    {
     "name": "stdout",
     "output_type": "stream",
     "text": [
      "Validation accuracy: 0.974\n",
      "Evaluating Unfolded GAT Number 19\n",
      "Test accuracy: 0.972\n",
      "\n",
      "Training Unfolded GAT Number 20\n"
     ]
    },
    {
     "name": "stderr",
     "output_type": "stream",
     "text": [
      "100%|█████████████████████████████████████████████████████████████| 200/200 [00:24<00:00,  8.03it/s]\n"
     ]
    },
    {
     "name": "stdout",
     "output_type": "stream",
     "text": [
      "Validation accuracy: 0.974\n",
      "Evaluating Unfolded GAT Number 20\n",
      "Test accuracy: 0.973\n",
      "\n",
      "Training Unfolded GAT Number 21\n"
     ]
    },
    {
     "name": "stderr",
     "output_type": "stream",
     "text": [
      "100%|█████████████████████████████████████████████████████████████| 200/200 [00:30<00:00,  6.48it/s]\n"
     ]
    },
    {
     "name": "stdout",
     "output_type": "stream",
     "text": [
      "Validation accuracy: 0.983\n",
      "Evaluating Unfolded GAT Number 21\n",
      "Test accuracy: 0.973\n",
      "\n",
      "Training Unfolded GAT Number 22\n"
     ]
    },
    {
     "name": "stderr",
     "output_type": "stream",
     "text": [
      "100%|█████████████████████████████████████████████████████████████| 200/200 [00:25<00:00,  7.77it/s]\n"
     ]
    },
    {
     "name": "stdout",
     "output_type": "stream",
     "text": [
      "Validation accuracy: 0.965\n",
      "Evaluating Unfolded GAT Number 22\n",
      "Test accuracy: 0.974\n",
      "\n",
      "Training Unfolded GAT Number 23\n"
     ]
    },
    {
     "name": "stderr",
     "output_type": "stream",
     "text": [
      "100%|█████████████████████████████████████████████████████████████| 200/200 [00:29<00:00,  6.82it/s]\n"
     ]
    },
    {
     "name": "stdout",
     "output_type": "stream",
     "text": [
      "Validation accuracy: 0.922\n",
      "Evaluating Unfolded GAT Number 23\n",
      "Test accuracy: 0.972\n",
      "\n",
      "Training Unfolded GAT Number 24\n"
     ]
    },
    {
     "name": "stderr",
     "output_type": "stream",
     "text": [
      "100%|█████████████████████████████████████████████████████████████| 200/200 [00:26<00:00,  7.56it/s]\n"
     ]
    },
    {
     "name": "stdout",
     "output_type": "stream",
     "text": [
      "Validation accuracy: 0.935\n",
      "Evaluating Unfolded GAT Number 24\n",
      "Test accuracy: 0.971\n",
      "\n",
      "Training Unfolded GAT Number 25\n"
     ]
    },
    {
     "name": "stderr",
     "output_type": "stream",
     "text": [
      "100%|█████████████████████████████████████████████████████████████| 200/200 [00:24<00:00,  8.14it/s]\n"
     ]
    },
    {
     "name": "stdout",
     "output_type": "stream",
     "text": [
      "Validation accuracy: 0.900\n",
      "Evaluating Unfolded GAT Number 25\n",
      "Test accuracy: 0.970\n",
      "\n",
      "Training Unfolded GAT Number 26\n"
     ]
    },
    {
     "name": "stderr",
     "output_type": "stream",
     "text": [
      "100%|█████████████████████████████████████████████████████████████| 200/200 [00:26<00:00,  7.58it/s]\n"
     ]
    },
    {
     "name": "stdout",
     "output_type": "stream",
     "text": [
      "Validation accuracy: 0.944\n",
      "Evaluating Unfolded GAT Number 26\n",
      "Test accuracy: 0.970\n",
      "\n",
      "Training Unfolded GAT Number 27\n"
     ]
    },
    {
     "name": "stderr",
     "output_type": "stream",
     "text": [
      "100%|█████████████████████████████████████████████████████████████| 200/200 [00:26<00:00,  7.60it/s]\n"
     ]
    },
    {
     "name": "stdout",
     "output_type": "stream",
     "text": [
      "Validation accuracy: 0.948\n",
      "Evaluating Unfolded GAT Number 27\n",
      "Test accuracy: 0.970\n",
      "\n",
      "Training Unfolded GAT Number 28\n"
     ]
    },
    {
     "name": "stderr",
     "output_type": "stream",
     "text": [
      "100%|█████████████████████████████████████████████████████████████| 200/200 [00:23<00:00,  8.51it/s]\n"
     ]
    },
    {
     "name": "stdout",
     "output_type": "stream",
     "text": [
      "Validation accuracy: 0.931\n",
      "Evaluating Unfolded GAT Number 28\n",
      "Test accuracy: 0.969\n",
      "\n",
      "Training Unfolded GAT Number 29\n"
     ]
    },
    {
     "name": "stderr",
     "output_type": "stream",
     "text": [
      "100%|█████████████████████████████████████████████████████████████| 200/200 [00:28<00:00,  7.02it/s]\n"
     ]
    },
    {
     "name": "stdout",
     "output_type": "stream",
     "text": [
      "Validation accuracy: 0.913\n",
      "Evaluating Unfolded GAT Number 29\n",
      "Test accuracy: 0.968\n",
      "\n",
      "Training Unfolded GAT Number 30\n"
     ]
    },
    {
     "name": "stderr",
     "output_type": "stream",
     "text": [
      "100%|█████████████████████████████████████████████████████████████| 200/200 [00:23<00:00,  8.59it/s]\n"
     ]
    },
    {
     "name": "stdout",
     "output_type": "stream",
     "text": [
      "Validation accuracy: 0.970\n",
      "Evaluating Unfolded GAT Number 30\n",
      "Test accuracy: 0.969\n",
      "\n",
      "Training Unfolded GAT Number 31\n"
     ]
    },
    {
     "name": "stderr",
     "output_type": "stream",
     "text": [
      "100%|█████████████████████████████████████████████████████████████| 200/200 [00:27<00:00,  7.31it/s]\n"
     ]
    },
    {
     "name": "stdout",
     "output_type": "stream",
     "text": [
      "Validation accuracy: 0.922\n",
      "Evaluating Unfolded GAT Number 31\n",
      "Test accuracy: 0.968\n",
      "\n",
      "Training Unfolded GAT Number 32\n"
     ]
    },
    {
     "name": "stderr",
     "output_type": "stream",
     "text": [
      "100%|█████████████████████████████████████████████████████████████| 200/200 [00:26<00:00,  7.55it/s]\n"
     ]
    },
    {
     "name": "stdout",
     "output_type": "stream",
     "text": [
      "Validation accuracy: 0.978\n",
      "Evaluating Unfolded GAT Number 32\n",
      "Test accuracy: 0.968\n",
      "\n",
      "Training Unfolded GAT Number 33\n"
     ]
    },
    {
     "name": "stderr",
     "output_type": "stream",
     "text": [
      "100%|█████████████████████████████████████████████████████████████| 200/200 [00:27<00:00,  7.30it/s]\n"
     ]
    },
    {
     "name": "stdout",
     "output_type": "stream",
     "text": [
      "Validation accuracy: 0.974\n",
      "Evaluating Unfolded GAT Number 33\n",
      "Test accuracy: 0.968\n",
      "\n",
      "Training Unfolded GAT Number 34\n"
     ]
    },
    {
     "name": "stderr",
     "output_type": "stream",
     "text": [
      "100%|█████████████████████████████████████████████████████████████| 200/200 [00:27<00:00,  7.23it/s]\n"
     ]
    },
    {
     "name": "stdout",
     "output_type": "stream",
     "text": [
      "Validation accuracy: 0.983\n",
      "Evaluating Unfolded GAT Number 34\n",
      "Test accuracy: 0.968\n",
      "\n",
      "Training Unfolded GAT Number 35\n"
     ]
    },
    {
     "name": "stderr",
     "output_type": "stream",
     "text": [
      "100%|█████████████████████████████████████████████████████████████| 200/200 [00:30<00:00,  6.52it/s]\n"
     ]
    },
    {
     "name": "stdout",
     "output_type": "stream",
     "text": [
      "Validation accuracy: 0.965\n",
      "Evaluating Unfolded GAT Number 35\n",
      "Test accuracy: 0.968\n",
      "\n",
      "Training Unfolded GAT Number 36\n"
     ]
    },
    {
     "name": "stderr",
     "output_type": "stream",
     "text": [
      "100%|█████████████████████████████████████████████████████████████| 200/200 [00:29<00:00,  6.70it/s]\n"
     ]
    },
    {
     "name": "stdout",
     "output_type": "stream",
     "text": [
      "Validation accuracy: 0.965\n",
      "Evaluating Unfolded GAT Number 36\n",
      "Test accuracy: 0.969\n",
      "\n",
      "Training Unfolded GAT Number 37\n"
     ]
    },
    {
     "name": "stderr",
     "output_type": "stream",
     "text": [
      "100%|█████████████████████████████████████████████████████████████| 200/200 [00:31<00:00,  6.39it/s]\n"
     ]
    },
    {
     "name": "stdout",
     "output_type": "stream",
     "text": [
      "Validation accuracy: 0.974\n",
      "Evaluating Unfolded GAT Number 37\n",
      "Test accuracy: 0.968\n",
      "\n",
      "Training Unfolded GAT Number 38\n"
     ]
    },
    {
     "name": "stderr",
     "output_type": "stream",
     "text": [
      "100%|█████████████████████████████████████████████████████████████| 200/200 [00:28<00:00,  7.03it/s]\n"
     ]
    },
    {
     "name": "stdout",
     "output_type": "stream",
     "text": [
      "Validation accuracy: 0.987\n",
      "Evaluating Unfolded GAT Number 38\n",
      "Test accuracy: 0.969\n",
      "\n",
      "Training Unfolded GAT Number 39\n"
     ]
    },
    {
     "name": "stderr",
     "output_type": "stream",
     "text": [
      "100%|█████████████████████████████████████████████████████████████| 200/200 [00:28<00:00,  7.06it/s]\n"
     ]
    },
    {
     "name": "stdout",
     "output_type": "stream",
     "text": [
      "Validation accuracy: 0.965\n",
      "Evaluating Unfolded GAT Number 39\n",
      "Test accuracy: 0.969\n",
      "\n",
      "Training Unfolded GAT Number 40\n"
     ]
    },
    {
     "name": "stderr",
     "output_type": "stream",
     "text": [
      "100%|█████████████████████████████████████████████████████████████| 200/200 [00:23<00:00,  8.36it/s]\n"
     ]
    },
    {
     "name": "stdout",
     "output_type": "stream",
     "text": [
      "Validation accuracy: 0.974\n",
      "Evaluating Unfolded GAT Number 40\n",
      "Test accuracy: 0.969\n",
      "\n",
      "Training Unfolded GAT Number 41\n"
     ]
    },
    {
     "name": "stderr",
     "output_type": "stream",
     "text": [
      "100%|█████████████████████████████████████████████████████████████| 200/200 [00:22<00:00,  8.81it/s]\n"
     ]
    },
    {
     "name": "stdout",
     "output_type": "stream",
     "text": [
      "Validation accuracy: 0.996\n",
      "Evaluating Unfolded GAT Number 41\n",
      "Test accuracy: 0.969\n",
      "\n",
      "Training Unfolded GAT Number 42\n"
     ]
    },
    {
     "name": "stderr",
     "output_type": "stream",
     "text": [
      "100%|█████████████████████████████████████████████████████████████| 200/200 [00:27<00:00,  7.22it/s]\n"
     ]
    },
    {
     "name": "stdout",
     "output_type": "stream",
     "text": [
      "Validation accuracy: 0.965\n",
      "Evaluating Unfolded GAT Number 42\n",
      "Test accuracy: 0.969\n",
      "\n",
      "Training Unfolded GAT Number 43\n"
     ]
    },
    {
     "name": "stderr",
     "output_type": "stream",
     "text": [
      "100%|█████████████████████████████████████████████████████████████| 200/200 [00:22<00:00,  8.74it/s]\n"
     ]
    },
    {
     "name": "stdout",
     "output_type": "stream",
     "text": [
      "Validation accuracy: 0.952\n",
      "Evaluating Unfolded GAT Number 43\n",
      "Test accuracy: 0.969\n",
      "\n",
      "Training Unfolded GAT Number 44\n"
     ]
    },
    {
     "name": "stderr",
     "output_type": "stream",
     "text": [
      "100%|█████████████████████████████████████████████████████████████| 200/200 [00:26<00:00,  7.68it/s]\n"
     ]
    },
    {
     "name": "stdout",
     "output_type": "stream",
     "text": [
      "Validation accuracy: 0.983\n",
      "Evaluating Unfolded GAT Number 44\n",
      "Test accuracy: 0.970\n",
      "\n",
      "Training Unfolded GAT Number 45\n"
     ]
    },
    {
     "name": "stderr",
     "output_type": "stream",
     "text": [
      "100%|█████████████████████████████████████████████████████████████| 200/200 [00:28<00:00,  6.93it/s]\n"
     ]
    },
    {
     "name": "stdout",
     "output_type": "stream",
     "text": [
      "Validation accuracy: 0.970\n",
      "Evaluating Unfolded GAT Number 45\n",
      "Test accuracy: 0.970\n",
      "\n",
      "Training Unfolded GAT Number 46\n"
     ]
    },
    {
     "name": "stderr",
     "output_type": "stream",
     "text": [
      "100%|█████████████████████████████████████████████████████████████| 200/200 [00:25<00:00,  7.76it/s]\n"
     ]
    },
    {
     "name": "stdout",
     "output_type": "stream",
     "text": [
      "Validation accuracy: 0.965\n",
      "Evaluating Unfolded GAT Number 46\n",
      "Test accuracy: 0.969\n",
      "\n",
      "Training Unfolded GAT Number 47\n"
     ]
    },
    {
     "name": "stderr",
     "output_type": "stream",
     "text": [
      "100%|█████████████████████████████████████████████████████████████| 200/200 [00:28<00:00,  7.14it/s]\n"
     ]
    },
    {
     "name": "stdout",
     "output_type": "stream",
     "text": [
      "Validation accuracy: 0.978\n",
      "Evaluating Unfolded GAT Number 47\n",
      "Test accuracy: 0.969\n",
      "\n",
      "Training Unfolded GAT Number 48\n"
     ]
    },
    {
     "name": "stderr",
     "output_type": "stream",
     "text": [
      "100%|█████████████████████████████████████████████████████████████| 200/200 [00:28<00:00,  7.05it/s]\n"
     ]
    },
    {
     "name": "stdout",
     "output_type": "stream",
     "text": [
      "Validation accuracy: 0.931\n",
      "Evaluating Unfolded GAT Number 48\n",
      "Test accuracy: 0.969\n",
      "\n",
      "Training Unfolded GAT Number 49\n"
     ]
    },
    {
     "name": "stderr",
     "output_type": "stream",
     "text": [
      "100%|█████████████████████████████████████████████████████████████| 200/200 [00:45<00:00,  4.41it/s]\n"
     ]
    },
    {
     "name": "stdout",
     "output_type": "stream",
     "text": [
      "Validation accuracy: 0.978\n",
      "Evaluating Unfolded GAT Number 49\n",
      "Test accuracy: 0.969\n",
      "CPU times: user 6h 39min 14s, sys: 1h 11min 28s, total: 7h 50min 43s\n",
      "Wall time: 1h 18s\n"
     ]
    }
   ],
   "source": [
    "%%time\n",
    "\n",
    "for (method, GNN_model) in product(methods, GNN_models):\n",
    "        \n",
    "    for i in range(num_train_semi_ind):\n",
    "        # Split data into training/validation/calibration/test\n",
    "        train_mask, valid_mask, calib_mask, test_mask = mask_split(data_mask, props, seed=i, mode='semi-inductive')\n",
    "        \n",
    "        if method == 'BD':\n",
    "            method_str = 'Block Diagonal'\n",
    "            data = dataset_BD\n",
    "        if method == 'UA':\n",
    "            method_str = 'Unfolded'\n",
    "            data = dataset_UA\n",
    "            # Pad masks to include anchor nodes\n",
    "            train_mask = np.concatenate((np.array([False] * n), train_mask))\n",
    "            valid_mask = np.concatenate((np.array([False] * n), valid_mask))\n",
    "            calib_mask = np.concatenate((np.array([False] * n), calib_mask))\n",
    "            test_mask  = np.concatenate((np.array([False] * n), test_mask))\n",
    "        \n",
    "        if GNN_model == 'GCN':\n",
    "            model = GCN(data.num_nodes, num_channels_GCN, num_classes, seed=i)\n",
    "        if GNN_model == 'GAT':\n",
    "            model = GAT(data.num_nodes, num_channels_GAT, num_classes, seed=i)\n",
    "            \n",
    "        optimizer = torch.optim.Adam(model.parameters(), lr=learning_rate, weight_decay=weight_decay)\n",
    "\n",
    "        print(f'\\nTraining {method_str} {GNN_model} Number {i}')\n",
    "        max_valid_acc = 0\n",
    "    \n",
    "        for epoch in tqdm(range(num_epochs)):\n",
    "            train_loss = train(model, data, train_mask)\n",
    "            valid_acc  = valid(model, data, valid_mask)\n",
    "\n",
    "            if valid_acc > max_valid_acc:\n",
    "                max_valid_acc = valid_acc\n",
    "                best_model = copy.deepcopy(model)\n",
    "    \n",
    "        print(f'Evaluating {method_str} {GNN_model} Number {i}')\n",
    "        print(f'Validation accuracy: {max_valid_acc:0.3f}')\n",
    "        output = best_model(data.x, data.edge_index)\n",
    "        \n",
    "        # Cannot permute the calibration and test datasets in semi-inductive experiments\n",
    "        \n",
    "        pred_sets = get_prediction_sets(output, data, calib_mask, test_mask, alpha)\n",
    "        \n",
    "        results[method][GNN_model]['Semi-Ind']['Accuracy']['All'].append(accuracy(output, data, test_mask))\n",
    "        results[method][GNN_model]['Semi-Ind']['Avg Size']['All'].append(avg_set_size(pred_sets, test_mask))\n",
    "        results[method][GNN_model]['Semi-Ind']['Coverage']['All'].append(coverage(pred_sets, data, test_mask))\n",
    "            \n",
    "        for t in range(T):\n",
    "            # Consider test nodes only at time t\n",
    "            if method == 'BD':\n",
    "                time_mask = np.array([[False] * n for _ in range(T)])\n",
    "                time_mask[t] = True; time_mask = time_mask.reshape(-1)\n",
    "            if method == 'UA':\n",
    "                time_mask = np.array([[False] * n for _ in range(T+1)])\n",
    "                time_mask[t+1] = True; time_mask = time_mask.reshape(-1)\n",
    "            \n",
    "            test_mask_t = time_mask * test_mask\n",
    "            if np.sum(test_mask_t) == 0:\n",
    "                continue\n",
    "            \n",
    "            # Get prediction sets corresponding to time t\n",
    "            pred_sets_t = pred_sets[np.array([np.where(np.where(test_mask)[0] == np.where(test_mask_t)[0][i])[0][0]\n",
    "                                                for i in range(sum(test_mask_t))])]\n",
    "            \n",
    "            results[method][GNN_model]['Semi-Ind']['Accuracy'][t].append(accuracy(output, data, test_mask_t))\n",
    "            results[method][GNN_model]['Semi-Ind']['Avg Size'][t].append(avg_set_size(pred_sets_t, test_mask_t))\n",
    "            results[method][GNN_model]['Semi-Ind']['Coverage'][t].append(coverage(pred_sets_t, data, test_mask_t))\n",
    "            \n",
    "        avg_test_acc = np.mean(results[method][GNN_model]['Semi-Ind']['Accuracy']['All'])\n",
    "        print(f'Test accuracy: {avg_test_acc:0.3f}')"
   ]
  },
  {
   "cell_type": "markdown",
   "id": "6bdd845b",
   "metadata": {},
   "source": [
    "Save results to pickle file."
   ]
  },
  {
   "cell_type": "code",
   "execution_count": 23,
   "id": "e8a11864",
   "metadata": {},
   "outputs": [],
   "source": [
    "with open(results_file, 'wb') as file:\n",
    "    pickle.dump(results, file)"
   ]
  }
 ],
 "metadata": {
  "kernelspec": {
   "display_name": "Python 3 (ipykernel)",
   "language": "python",
   "name": "python3"
  },
  "language_info": {
   "codemirror_mode": {
    "name": "ipython",
    "version": 3
   },
   "file_extension": ".py",
   "mimetype": "text/x-python",
   "name": "python",
   "nbconvert_exporter": "python",
   "pygments_lexer": "ipython3",
   "version": "3.10.2"
  }
 },
 "nbformat": 4,
 "nbformat_minor": 5
}
